{
 "cells": [
  {
   "cell_type": "code",
   "execution_count": 1,
   "metadata": {},
   "outputs": [],
   "source": [
    "%matplotlib inline"
   ]
  },
  {
   "cell_type": "code",
   "execution_count": 2,
   "metadata": {},
   "outputs": [],
   "source": [
    "#export\n",
    "from exp.nb_03 import *"
   ]
  },
  {
   "cell_type": "markdown",
   "metadata": {},
   "source": [
    "# Data Setup"
   ]
  },
  {
   "cell_type": "code",
   "execution_count": 3,
   "metadata": {},
   "outputs": [],
   "source": [
    "xTraining, yTraining, xValidation, yValidation = getMnistData()"
   ]
  },
  {
   "cell_type": "code",
   "execution_count": 4,
   "metadata": {},
   "outputs": [],
   "source": [
    "xTrainingNormalized = normalizeVector(xTraining, xTraining.mean(), xTraining.std())\n",
    "xValidationNormalized = normalizeVector(xValidation, xValidation.mean(), xValidation.std())"
   ]
  },
  {
   "cell_type": "code",
   "execution_count": 5,
   "metadata": {},
   "outputs": [
    {
     "data": {
      "text/plain": [
       "((tensor(1.), tensor(-7.6999e-06)), (tensor(1.0000), tensor(-7.0751e-08)))"
      ]
     },
     "execution_count": 5,
     "metadata": {},
     "output_type": "execute_result"
    }
   ],
   "source": [
    "((xTrainingNormalized.std(), xTrainingNormalized.mean()), (xValidationNormalized.std(), xValidationNormalized.mean()))"
   ]
  },
  {
   "cell_type": "code",
   "execution_count": 6,
   "metadata": {},
   "outputs": [],
   "source": [
    "trainingDataSet = Dataset(xTrainingNormalized, yTraining)\n",
    "validationDataSet = Dataset(xValidationNormalized, yValidation)"
   ]
  },
  {
   "cell_type": "code",
   "execution_count": 7,
   "metadata": {},
   "outputs": [],
   "source": [
    "hiddenLayerOutput, batchSize = 50, 64"
   ]
  },
  {
   "cell_type": "code",
   "execution_count": 8,
   "metadata": {},
   "outputs": [],
   "source": [
    "numberOfClasses = yValidation.max().item() + 1"
   ]
  },
  {
   "cell_type": "code",
   "execution_count": 9,
   "metadata": {},
   "outputs": [],
   "source": [
    "trainingRows, trainingColumns = xTrainingNormalized.shape"
   ]
  },
  {
   "cell_type": "code",
   "execution_count": 10,
   "metadata": {},
   "outputs": [],
   "source": [
    "learningRate = 0.5"
   ]
  },
  {
   "cell_type": "code",
   "execution_count": 11,
   "metadata": {},
   "outputs": [],
   "source": [
    "selfLearningModel = SelfLearningLibraryModel(trainingColumns,hiddenLayerOutput,numberOfClasses,learningRate)"
   ]
  },
  {
   "cell_type": "code",
   "execution_count": 12,
   "metadata": {},
   "outputs": [],
   "source": [
    "#export\n",
    "class DataBunch():\n",
    "    def __init__(self, trainingDataLoader, validationDataLoader):\n",
    "        self.trainingDataLoader, self.validationDataLoader = trainingDataLoader, validationDataLoader\n",
    "        \n",
    "    @property\n",
    "    def trainingDataSet(self): return self.trainingDataLoader\n",
    "    \n",
    "    @property\n",
    "    def validationDataSet(self): return self.validationDataLoader"
   ]
  },
  {
   "cell_type": "code",
   "execution_count": 13,
   "metadata": {},
   "outputs": [],
   "source": [
    "trainingDataLoader, validationDataLoader = createDataLoaders(trainingDataSet,\n",
    "                                                            validationDataSet, 5000)"
   ]
  },
  {
   "cell_type": "code",
   "execution_count": 14,
   "metadata": {},
   "outputs": [],
   "source": [
    "imageDataBunch = DataBunch(trainingDataLoader, validationDataLoader)"
   ]
  },
  {
   "cell_type": "code",
   "execution_count": 114,
   "metadata": {},
   "outputs": [],
   "source": [
    "#export\n",
    "def trainModelWithValidation(learnableModel, dataBunch, epochs):\n",
    "    for epoch in range(epochs):\n",
    "        for _xTrain, _yTrain in dataBunch.trainingDataLoader:\n",
    "            _preds = learnableModel(_xTrain)\n",
    "            loss = Functional.cross_entropy(_preds, _yTrain)\n",
    "            loss.backward()\n",
    "            learnableModel.learn()\n",
    "        accumulatedLoss, accumulatedAccuracy = 0.,0.\n",
    "        for _xValidation, _yValidation in dataBunch.validationDataLoader:\n",
    "            with torch.no_grad(): # do not produce gradients when running loss function\n",
    "                _preds = learnableModel(_xValidation)\n",
    "                accumulatedLoss += Functional.cross_entropy(_preds, _yValidation)\n",
    "                accumulatedAccuracy += accuracy(_preds, _yValidation)\n",
    "        numberOfItems = len(validationDataLoader)\n",
    "        print(\"Epoch {}, Accuracy {}, Loss {}\".format(epoch, accumulatedAccuracy/numberOfItems, accumulatedLoss/numberOfItems))"
   ]
  },
  {
   "cell_type": "code",
   "execution_count": 16,
   "metadata": {},
   "outputs": [
    {
     "data": {
      "text/plain": [
       "tensor(0.0786)"
      ]
     },
     "execution_count": 16,
     "metadata": {},
     "output_type": "execute_result"
    }
   ],
   "source": [
    "accuracy(selfLearningModel(xValidationNormalized), yValidation)"
   ]
  },
  {
   "cell_type": "code",
   "execution_count": 17,
   "metadata": {},
   "outputs": [
    {
     "name": "stdout",
     "output_type": "stream",
     "text": [
      "Epoch 0, Accuracy 0.33469998836517334, Loss 1.814199447631836\n",
      "Epoch 1, Accuracy 0.6765000224113464, Loss 0.9899466037750244\n",
      "Epoch 2, Accuracy 0.8217999935150146, Loss 0.5179767608642578\n",
      "Epoch 3, Accuracy 0.8913999795913696, Loss 0.3701602816581726\n",
      "Epoch 4, Accuracy 0.8654000163078308, Loss 0.39331528544425964\n",
      "Epoch 5, Accuracy 0.9200000166893005, Loss 0.27125871181488037\n",
      "Epoch 6, Accuracy 0.9254000186920166, Loss 0.25498273968696594\n",
      "Epoch 7, Accuracy 0.9241999983787537, Loss 0.24994486570358276\n",
      "Epoch 8, Accuracy 0.9312000274658203, Loss 0.22827160358428955\n"
     ]
    }
   ],
   "source": [
    "trainModelWithValidation(selfLearningModel, imageDataBunch, 9)"
   ]
  },
  {
   "cell_type": "code",
   "execution_count": 18,
   "metadata": {},
   "outputs": [
    {
     "data": {
      "text/plain": [
       "tensor(0.9312)"
      ]
     },
     "execution_count": 18,
     "metadata": {},
     "output_type": "execute_result"
    }
   ],
   "source": [
    "accuracy(selfLearningModel(xValidationNormalized), yValidation)"
   ]
  },
  {
   "cell_type": "markdown",
   "metadata": {},
   "source": [
    "## Other Stuff\n",
    "\n",
    "Things that facilitate the trainging of models"
   ]
  },
  {
   "cell_type": "code",
   "execution_count": 115,
   "metadata": {},
   "outputs": [],
   "source": [
    "class Teacher():\n",
    "    \n",
    "    def __init__(self, lossFunction, accuracyFunction):\n",
    "        self.lossFunction = lossFunction\n",
    "        self.accuracyFunction = accuracyFunction\n",
    "        \n",
    "    def teachModel(self, selfLearningModel, dataBunch, numberOfEpochs):\n",
    "        for epoch in range(numberOfEpochs):\n",
    "            trainingLoss, trainingAccuracy = self._trainModel(selfLearningModel, dataBunch.trainingDataLoader)\n",
    "            validationLoss, validationAccuracy = self._validateModel(selfLearningModel, dataBunch.validationDataLoader)\n",
    "            print(\"Epoch #{} Training: Loss {} Accuracy {}\".format(epoch, trainingLoss, trainingAccuracy))\n",
    "            print(\"Epoch #{} Validation: Loss {} Accuracy {}\".format(epoch, validationLoss, validationAccuracy))\n",
    "            print(\"\")\n",
    "    \n",
    "    def _proccessDataSet(self, selfLearningModel, dataLoader, isTeaching=False):\n",
    "        for _xDataSet, _yDataSet in dataLoader:\n",
    "            _predictions = selfLearningModel(_xDataSet)\n",
    "            loss = self.lossFunction(_predictions, _yDataSet)\n",
    "            \n",
    "            if(isTeaching):\n",
    "                loss.backward()\n",
    "                selfLearningModel.learn()\n",
    "            \n",
    "            return loss, self.accuracyFunction(_predictions, _yDataSet)\n",
    "            \n",
    "    def _trainModel(self, selfLearningModel, trainingDataSet):\n",
    "        returnItems = self._proccessDataSet(selfLearningModel, trainingDataSet, True)\n",
    "        return returnItems\n",
    "        \n",
    "    def _validateModel(self, selfLearningModel, validationDataSet):\n",
    "        with torch.no_grad():\n",
    "            returnItems = self._proccessDataSet(selfLearningModel, validationDataSet)\n",
    "        return returnItems"
   ]
  },
  {
   "cell_type": "code",
   "execution_count": 110,
   "metadata": {},
   "outputs": [],
   "source": [
    "teacher = Teacher(Functional.cross_entropy, accuracy)"
   ]
  },
  {
   "cell_type": "code",
   "execution_count": 111,
   "metadata": {},
   "outputs": [],
   "source": [
    "_newSelfLearningModel = SelfLearningLibraryModel(trainingColumns, hiddenLayerOutput,numberOfClasses,learningRate)"
   ]
  },
  {
   "cell_type": "code",
   "execution_count": 112,
   "metadata": {},
   "outputs": [
    {
     "name": "stdout",
     "output_type": "stream",
     "text": [
      "Epoch #0 Training: Loss 2.334801435470581 Accuracy 0.05820000171661377\n",
      "Epoch #0 Validation: Loss 1.8325834274291992 Accuracy 0.45329999923706055\n",
      "\n",
      "Epoch #1 Training: Loss 1.8481521606445312 Accuracy 0.42739999294281006\n",
      "Epoch #1 Validation: Loss 1.6057158708572388 Accuracy 0.4884999990463257\n",
      "\n",
      "Epoch #2 Training: Loss 1.619502305984497 Accuracy 0.47859999537467957\n",
      "Epoch #2 Validation: Loss 2.037757396697998 Accuracy 0.4733999967575073\n",
      "\n",
      "Epoch #3 Training: Loss 2.0454702377319336 Accuracy 0.4803999960422516\n",
      "Epoch #3 Validation: Loss 1.472883939743042 Accuracy 0.5480999946594238\n",
      "\n",
      "Epoch #4 Training: Loss 1.5267990827560425 Accuracy 0.5311999917030334\n",
      "Epoch #4 Validation: Loss 1.3862677812576294 Accuracy 0.5084999799728394\n",
      "\n",
      "Epoch #5 Training: Loss 1.4516279697418213 Accuracy 0.4860000014305115\n",
      "Epoch #5 Validation: Loss 1.3181079626083374 Accuracy 0.578000009059906\n",
      "\n",
      "Epoch #6 Training: Loss 1.3737976551055908 Accuracy 0.550000011920929\n",
      "Epoch #6 Validation: Loss 1.634998083114624 Accuracy 0.4932999908924103\n",
      "\n",
      "Epoch #7 Training: Loss 1.690491795539856 Accuracy 0.4848000109195709\n",
      "Epoch #7 Validation: Loss 1.7990601062774658 Accuracy 0.48649999499320984\n",
      "\n"
     ]
    }
   ],
   "source": [
    "teacher.teachModel(_newSelfLearningModel, imageDataBunch, 8)"
   ]
  },
  {
   "cell_type": "code",
   "execution_count": 113,
   "metadata": {},
   "outputs": [
    {
     "data": {
      "text/plain": [
       "tensor(0.4865)"
      ]
     },
     "execution_count": 113,
     "metadata": {},
     "output_type": "execute_result"
    }
   ],
   "source": [
    "accuracy(_newSelfLearningModel(xValidationNormalized), yValidation)"
   ]
  },
  {
   "cell_type": "code",
   "execution_count": 83,
   "metadata": {},
   "outputs": [
    {
     "name": "stdout",
     "output_type": "stream",
     "text": [
      "Epoch 0, Accuracy 0.6759999990463257, Loss 0.8778393268585205\n",
      "Epoch 1, Accuracy 0.8406999707221985, Loss 0.5532947182655334\n",
      "Epoch 2, Accuracy 0.8866999745368958, Loss 0.3865782916545868\n",
      "Epoch 3, Accuracy 0.9093000292778015, Loss 0.3086942732334137\n",
      "Epoch 4, Accuracy 0.9115999937057495, Loss 0.2992865741252899\n",
      "Epoch 5, Accuracy 0.9258999824523926, Loss 0.2472270280122757\n",
      "Epoch 6, Accuracy 0.9190000295639038, Loss 0.2661859393119812\n",
      "Epoch 7, Accuracy 0.9337999820709229, Loss 0.22734184563159943\n"
     ]
    }
   ],
   "source": [
    "trainModelWithValidation(_newSelfLearningModel, imageDataBunch, 8)"
   ]
  },
  {
   "cell_type": "code",
   "execution_count": 84,
   "metadata": {},
   "outputs": [
    {
     "data": {
      "text/plain": [
       "tensor(0.9338)"
      ]
     },
     "execution_count": 84,
     "metadata": {},
     "output_type": "execute_result"
    }
   ],
   "source": [
    "accuracy(_newSelfLearningModel(xValidationNormalized), yValidation)"
   ]
  },
  {
   "cell_type": "code",
   "execution_count": 116,
   "metadata": {},
   "outputs": [
    {
     "name": "stdout",
     "output_type": "stream",
     "text": [
      "Converted 04_HOLLA_BACK_GURL.ipynb to exp/nb_04.py\r\n"
     ]
    }
   ],
   "source": [
    "!python notebook2script.py 04_HOLLA_BACK_GURL.ipynb"
   ]
  },
  {
   "cell_type": "code",
   "execution_count": null,
   "metadata": {},
   "outputs": [],
   "source": []
  }
 ],
 "metadata": {
  "kernelspec": {
   "display_name": "Python 3",
   "language": "python",
   "name": "python3"
  },
  "language_info": {
   "codemirror_mode": {
    "name": "ipython",
    "version": 3
   },
   "file_extension": ".py",
   "mimetype": "text/x-python",
   "name": "python",
   "nbconvert_exporter": "python",
   "pygments_lexer": "ipython3",
   "version": "3.7.3"
  }
 },
 "nbformat": 4,
 "nbformat_minor": 2
}
