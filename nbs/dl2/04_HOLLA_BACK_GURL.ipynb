{
 "cells": [
  {
   "cell_type": "code",
   "execution_count": 117,
   "metadata": {},
   "outputs": [],
   "source": [
    "%matplotlib inline"
   ]
  },
  {
   "cell_type": "code",
   "execution_count": 118,
   "metadata": {},
   "outputs": [],
   "source": [
    "#export\n",
    "from exp.nb_03 import *"
   ]
  },
  {
   "cell_type": "markdown",
   "metadata": {},
   "source": [
    "# Data Setup"
   ]
  },
  {
   "cell_type": "code",
   "execution_count": 119,
   "metadata": {},
   "outputs": [],
   "source": [
    "xTraining, yTraining, xValidation, yValidation = getMnistData()"
   ]
  },
  {
   "cell_type": "code",
   "execution_count": 120,
   "metadata": {},
   "outputs": [],
   "source": [
    "xTrainingNormalized = normalizeVector(xTraining, xTraining.mean(), xTraining.std())\n",
    "xValidationNormalized = normalizeVector(xValidation, xValidation.mean(), xValidation.std())"
   ]
  },
  {
   "cell_type": "code",
   "execution_count": 121,
   "metadata": {},
   "outputs": [
    {
     "data": {
      "text/plain": [
       "((tensor(1.), tensor(-7.6999e-06)), (tensor(1.0000), tensor(-7.0751e-08)))"
      ]
     },
     "execution_count": 121,
     "metadata": {},
     "output_type": "execute_result"
    }
   ],
   "source": [
    "((xTrainingNormalized.std(), xTrainingNormalized.mean()), (xValidationNormalized.std(), xValidationNormalized.mean()))"
   ]
  },
  {
   "cell_type": "code",
   "execution_count": 122,
   "metadata": {},
   "outputs": [],
   "source": [
    "trainingDataSet = Dataset(xTrainingNormalized, yTraining)\n",
    "validationDataSet = Dataset(xValidationNormalized, yValidation)"
   ]
  },
  {
   "cell_type": "code",
   "execution_count": 123,
   "metadata": {},
   "outputs": [],
   "source": [
    "hiddenLayerOutput, batchSize = 50, 64"
   ]
  },
  {
   "cell_type": "code",
   "execution_count": 124,
   "metadata": {},
   "outputs": [],
   "source": [
    "numberOfClasses = yValidation.max().item() + 1"
   ]
  },
  {
   "cell_type": "code",
   "execution_count": 125,
   "metadata": {},
   "outputs": [],
   "source": [
    "trainingRows, trainingColumns = xTrainingNormalized.shape"
   ]
  },
  {
   "cell_type": "code",
   "execution_count": 126,
   "metadata": {},
   "outputs": [],
   "source": [
    "learningRate = 0.5"
   ]
  },
  {
   "cell_type": "code",
   "execution_count": 127,
   "metadata": {},
   "outputs": [],
   "source": [
    "selfLearningModel = SelfLearningLibraryModel(trainingColumns,hiddenLayerOutput,numberOfClasses,learningRate)"
   ]
  },
  {
   "cell_type": "code",
   "execution_count": 128,
   "metadata": {},
   "outputs": [],
   "source": [
    "#export\n",
    "class DataBunch():\n",
    "    def __init__(self, trainingDataLoader, validationDataLoader):\n",
    "        self.trainingDataLoader, self.validationDataLoader = trainingDataLoader, validationDataLoader\n",
    "        \n",
    "    @property\n",
    "    def trainingDataSet(self): return self.trainingDataLoader\n",
    "    \n",
    "    @property\n",
    "    def validationDataSet(self): return self.validationDataLoader"
   ]
  },
  {
   "cell_type": "code",
   "execution_count": 129,
   "metadata": {},
   "outputs": [],
   "source": [
    "trainingDataLoader, validationDataLoader = createDataLoaders(trainingDataSet,\n",
    "                                                            validationDataSet, 5000)"
   ]
  },
  {
   "cell_type": "code",
   "execution_count": 130,
   "metadata": {},
   "outputs": [],
   "source": [
    "imageDataBunch = DataBunch(trainingDataLoader, validationDataLoader)"
   ]
  },
  {
   "cell_type": "code",
   "execution_count": 131,
   "metadata": {},
   "outputs": [],
   "source": [
    "#export\n",
    "def trainModelWithValidation(learnableModel, dataBunch, epochs):\n",
    "    for epoch in range(epochs):\n",
    "        for _xTrain, _yTrain in dataBunch.trainingDataLoader:\n",
    "            _preds = learnableModel(_xTrain)\n",
    "            loss = Functional.cross_entropy(_preds, _yTrain)\n",
    "            loss.backward()\n",
    "            learnableModel.learn()\n",
    "        accumulatedLoss, accumulatedAccuracy = 0.,0.\n",
    "        for _xValidation, _yValidation in dataBunch.validationDataLoader:\n",
    "            with torch.no_grad(): # do not produce gradients when running loss function\n",
    "                _preds = learnableModel(_xValidation)\n",
    "                accumulatedLoss += Functional.cross_entropy(_preds, _yValidation)\n",
    "                accumulatedAccuracy += accuracy(_preds, _yValidation)\n",
    "        numberOfItems = len(validationDataLoader)\n",
    "        print(\"Epoch {}, Accuracy {}, Loss {}\".format(epoch, accumulatedAccuracy/numberOfItems, accumulatedLoss/numberOfItems))"
   ]
  },
  {
   "cell_type": "code",
   "execution_count": 132,
   "metadata": {},
   "outputs": [
    {
     "data": {
      "text/plain": [
       "tensor(0.0893)"
      ]
     },
     "execution_count": 132,
     "metadata": {},
     "output_type": "execute_result"
    }
   ],
   "source": [
    "accuracy(selfLearningModel(xValidationNormalized), yValidation)"
   ]
  },
  {
   "cell_type": "code",
   "execution_count": 133,
   "metadata": {},
   "outputs": [
    {
     "name": "stdout",
     "output_type": "stream",
     "text": [
      "Epoch 0, Accuracy 0.4959999918937683, Loss 1.2575938701629639\n",
      "Epoch 1, Accuracy 0.5776000022888184, Loss 1.8194020986557007\n",
      "Epoch 2, Accuracy 0.6467000246047974, Loss 1.2795933485031128\n",
      "Epoch 3, Accuracy 0.8259999752044678, Loss 0.512549102306366\n",
      "Epoch 4, Accuracy 0.8981999754905701, Loss 0.34089431166648865\n",
      "Epoch 5, Accuracy 0.9060999751091003, Loss 0.2967222332954407\n",
      "Epoch 6, Accuracy 0.91839998960495, Loss 0.2649284899234772\n",
      "Epoch 7, Accuracy 0.9243999719619751, Loss 0.25057950615882874\n",
      "Epoch 8, Accuracy 0.9247000217437744, Loss 0.2457549124956131\n"
     ]
    }
   ],
   "source": [
    "trainModelWithValidation(selfLearningModel, imageDataBunch, 9)"
   ]
  },
  {
   "cell_type": "code",
   "execution_count": 134,
   "metadata": {},
   "outputs": [
    {
     "data": {
      "text/plain": [
       "tensor(0.9247)"
      ]
     },
     "execution_count": 134,
     "metadata": {},
     "output_type": "execute_result"
    }
   ],
   "source": [
    "accuracy(selfLearningModel(xValidationNormalized), yValidation)"
   ]
  },
  {
   "cell_type": "markdown",
   "metadata": {},
   "source": [
    "## Other Stuff\n",
    "\n",
    "Things that facilitate the trainging of models"
   ]
  },
  {
   "cell_type": "code",
   "execution_count": 152,
   "metadata": {},
   "outputs": [],
   "source": [
    "#export\n",
    "class CNNModel(torch.nn.Module): \n",
    "    def __init__(self, inputSize, numberHiddenLayers, classes):\n",
    "        super().__init__()\n",
    "        self.layers = torch.nn.Sequential(\n",
    "            torch.nn.Linear(inputSize, numberHiddenLayers),\n",
    "            torch.nn.ReLU(),\n",
    "            torch.nn.Linear(numberHiddenLayers, classes)\n",
    "        )\n",
    "        \n",
    "    def __call__(self, inputMatrix): return self.layers(inputMatrix)\n"
   ]
  },
  {
   "cell_type": "code",
   "execution_count": 153,
   "metadata": {},
   "outputs": [
    {
     "data": {
      "text/plain": [
       "CNNModel(\n",
       "  (layers): Sequential(\n",
       "    (0): Linear(in_features=7, out_features=2, bias=True)\n",
       "    (1): ReLU()\n",
       "    (2): Linear(in_features=2, out_features=2, bias=True)\n",
       "  )\n",
       ")"
      ]
     },
     "execution_count": 153,
     "metadata": {},
     "output_type": "execute_result"
    }
   ],
   "source": [
    "CNNModel(7,2,2)"
   ]
  },
  {
   "cell_type": "code",
   "execution_count": 221,
   "metadata": {},
   "outputs": [],
   "source": [
    "class Teacher():\n",
    "    \n",
    "    def __init__(self, \n",
    "                 lossFunction=Functional.cross_entropy, \n",
    "                 accuracyFunction=accuracy\n",
    "                ):\n",
    "        self.lossFunction = lossFunction\n",
    "        self.accuracyFunction = accuracyFunction\n",
    "        \n",
    "    def teachModel(self, cnnModel, dataBunch, learningRate, numberOfEpochs):\n",
    "        self.optimizer = optim.SGD(cnnModel.parameters(), learningRate)\n",
    "        for epoch in range(numberOfEpochs):\n",
    "            trainingLoss, trainingAccuracy = self._trainModel(cnnModel, dataBunch.trainingDataLoader)\n",
    "            print(\"Epoch #{} Training: Loss {} Accuracy {}\".format(epoch, trainingLoss, trainingAccuracy))\n",
    "            \n",
    "            validationLoss, validationAccuracy = self._validateModel(cnnModel, dataBunch.validationDataLoader)\n",
    "            print(\"Epoch #{} Validation: Loss {} Accuracy {}\".format(epoch, validationLoss, validationAccuracy))\n",
    "            print(\"\")\n",
    "            \n",
    "    def _trainModel(self, cnnModel, trainingDataSet):\n",
    "        def _teachModel(loss):\n",
    "            loss.backward()\n",
    "            self.optimizer.step()\n",
    "            self.optimizer.zero_grad()\n",
    "            \n",
    "        returnItems = self._proccessDataSet(cnnModel, trainingDataSet, _teachModel)\n",
    "        return returnItems\n",
    "        \n",
    "    def _validateModel(self, cnnModel, validationDataSet):\n",
    "        with torch.no_grad():\n",
    "            returnItems = self._proccessDataSet(cnnModel, validationDataSet)\n",
    "        return returnItems\n",
    "    \n",
    "    def _proccessDataSet(self, \n",
    "                         cnnModel, \n",
    "                         dataLoader, \n",
    "                         postEvaluation=lambda loss: None):\n",
    "        accumulatedLoss, accumulatedAccuracy = 0.,0.\n",
    "        for _xDataSet, _yDataSet in dataLoader:\n",
    "            _predictions = cnnModel(_xDataSet)\n",
    "            loss = self.lossFunction(_predictions, _yDataSet)\n",
    "            postEvaluation(loss)\n",
    "            accumulatedLoss+= loss\n",
    "            accumulatedAccuracy += self.accuracyFunction(_predictions, _yDataSet)\n",
    "        numberOfBatches = len(dataLoader)\n",
    "        return accumulatedLoss/numberOfBatches, accumulatedAccuracy/numberOfBatches\n"
   ]
  },
  {
   "cell_type": "code",
   "execution_count": 222,
   "metadata": {},
   "outputs": [],
   "source": [
    "teacher = Teacher()"
   ]
  },
  {
   "cell_type": "code",
   "execution_count": 223,
   "metadata": {},
   "outputs": [],
   "source": [
    "cnnModel = CNNModel(trainingColumns, hiddenLayerOutput,numberOfClasses)\n",
    "selfLearndingModel = SelfLearningLibraryModel(trainingColumns, hiddenLayerOutput,numberOfClasses,0.5)"
   ]
  },
  {
   "cell_type": "code",
   "execution_count": 224,
   "metadata": {},
   "outputs": [
    {
     "name": "stdout",
     "output_type": "stream",
     "text": [
      "Epoch #0 Training: Loss 1.974439263343811 Accuracy 0.3993000090122223\n",
      "Epoch #0 Validation: Loss 1.2277991771697998 Accuracy 0.5770000219345093\n",
      "\n",
      "Epoch #1 Training: Loss 1.1788398027420044 Accuracy 0.6037400364875793\n",
      "Epoch #1 Validation: Loss 1.004588007926941 Accuracy 0.6527000069618225\n",
      "\n",
      "Epoch #2 Training: Loss 0.6883408427238464 Accuracy 0.771340012550354\n",
      "Epoch #2 Validation: Loss 0.5314133763313293 Accuracy 0.8228999972343445\n",
      "\n",
      "Epoch #3 Training: Loss 0.477916955947876 Accuracy 0.83760005235672\n",
      "Epoch #3 Validation: Loss 0.32999297976493835 Accuracy 0.8967999815940857\n",
      "\n",
      "Epoch #4 Training: Loss 0.3720850944519043 Accuracy 0.8812600374221802\n",
      "Epoch #4 Validation: Loss 0.2776019275188446 Accuracy 0.9178000092506409\n",
      "\n",
      "Epoch #5 Training: Loss 0.29000285267829895 Accuracy 0.9121400713920593\n",
      "Epoch #5 Validation: Loss 0.2502813935279846 Accuracy 0.9240999817848206\n",
      "\n",
      "Epoch #6 Training: Loss 0.27402135729789734 Accuracy 0.9174400568008423\n",
      "Epoch #6 Validation: Loss 0.2853277325630188 Accuracy 0.9115999937057495\n",
      "\n",
      "Epoch #7 Training: Loss 0.27827566862106323 Accuracy 0.915160059928894\n",
      "Epoch #7 Validation: Loss 0.22485679388046265 Accuracy 0.9329000115394592\n",
      "\n",
      "Epoch #8 Training: Loss 0.24637222290039062 Accuracy 0.9252400398254395\n",
      "Epoch #8 Validation: Loss 0.24843162298202515 Accuracy 0.9193999767303467\n",
      "\n",
      "Epoch #9 Training: Loss 0.23892247676849365 Accuracy 0.9264200329780579\n",
      "Epoch #9 Validation: Loss 0.19897504150867462 Accuracy 0.942799985408783\n",
      "\n"
     ]
    }
   ],
   "source": [
    "teacher.teachModel(cnnModel, imageDataBunch, 0.5, 10)"
   ]
  },
  {
   "cell_type": "code",
   "execution_count": 225,
   "metadata": {},
   "outputs": [
    {
     "name": "stdout",
     "output_type": "stream",
     "text": [
      "Epoch 0, Accuracy 0.4961000084877014, Loss 1.356858491897583\n",
      "Epoch 1, Accuracy 0.728600025177002, Loss 0.7562280893325806\n",
      "Epoch 2, Accuracy 0.8295999765396118, Loss 0.48906758427619934\n",
      "Epoch 3, Accuracy 0.82669997215271, Loss 0.5604792237281799\n",
      "Epoch 4, Accuracy 0.8892999887466431, Loss 0.3604641556739807\n",
      "Epoch 5, Accuracy 0.9243000149726868, Loss 0.25576335191726685\n",
      "Epoch 6, Accuracy 0.9254999756813049, Loss 0.25008153915405273\n",
      "Epoch 7, Accuracy 0.9253000020980835, Loss 0.24883303046226501\n",
      "Epoch 8, Accuracy 0.9329000115394592, Loss 0.22752465307712555\n",
      "Epoch 9, Accuracy 0.9375, Loss 0.2182329297065735\n"
     ]
    }
   ],
   "source": [
    "trainModelWithValidation(selfLearndingModel, imageDataBunch, 10)"
   ]
  },
  {
   "cell_type": "code",
   "execution_count": 226,
   "metadata": {},
   "outputs": [
    {
     "data": {
      "text/plain": [
       "(tensor(0.9428), tensor(0.9375))"
      ]
     },
     "execution_count": 226,
     "metadata": {},
     "output_type": "execute_result"
    }
   ],
   "source": [
    "accuracy(cnnModel(xValidationNormalized), yValidation), accuracy(selfLearndingModel(xValidationNormalized), yValidation)"
   ]
  },
  {
   "cell_type": "code",
   "execution_count": 227,
   "metadata": {},
   "outputs": [
    {
     "name": "stdout",
     "output_type": "stream",
     "text": [
      "Converted 04_HOLLA_BACK_GURL.ipynb to exp/nb_04.py\r\n"
     ]
    }
   ],
   "source": [
    "!python notebook2script.py 04_HOLLA_BACK_GURL.ipynb"
   ]
  },
  {
   "cell_type": "code",
   "execution_count": null,
   "metadata": {},
   "outputs": [],
   "source": []
  }
 ],
 "metadata": {
  "kernelspec": {
   "display_name": "Python 3",
   "language": "python",
   "name": "python3"
  },
  "language_info": {
   "codemirror_mode": {
    "name": "ipython",
    "version": 3
   },
   "file_extension": ".py",
   "mimetype": "text/x-python",
   "name": "python",
   "nbconvert_exporter": "python",
   "pygments_lexer": "ipython3",
   "version": "3.7.3"
  }
 },
 "nbformat": 4,
 "nbformat_minor": 2
}
