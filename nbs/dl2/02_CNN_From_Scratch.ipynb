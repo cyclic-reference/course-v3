{
 "cells": [
  {
   "cell_type": "code",
   "execution_count": 185,
   "metadata": {},
   "outputs": [],
   "source": [
    "%matplotlib inline"
   ]
  },
  {
   "cell_type": "code",
   "execution_count": 186,
   "metadata": {},
   "outputs": [],
   "source": [
    "#export\n",
    "from exp.nb_01 import *\n",
    "\n",
    "def getMnistData():\n",
    "    path = datasets.download_data(MNIST_URL, ext='.gz')\n",
    "    with gzip.open(path, 'rb') as f:\n",
    "        ((x_train, y_train), (x_valid, y_valid), _) = pickle.load(f, encoding='latin-1')\n",
    "    return map(lambda data: tensor(data).cuda(), (x_train,y_train,x_valid,y_valid))\n",
    "\n",
    "def normalizeVector(vectorToNormalize, vectorMean, vectorStandardDeviation): \n",
    "    return (vectorToNormalize-vectorMean)/vectorStandardDeviation\n",
    "\n",
    "def assertNearZero(someScalar,tol=1e-3): assert someScalar.abs()<tol, f\"Near zero: {someScalar}\""
   ]
  },
  {
   "cell_type": "code",
   "execution_count": 187,
   "metadata": {},
   "outputs": [],
   "source": [
    "def linearCombination(vector, matrix, biasVector): return vector @ matrix + biasVector\n",
    "def reLU(vector): return vector.clamp_min(0.)"
   ]
  },
  {
   "cell_type": "markdown",
   "metadata": {},
   "source": [
    "**Math Translation**\n",
    "\n",
    "- **x** is the values that we are given (in this case it is a bunch of vectors that repersent images of numbers)\n",
    "- **y** is the expected values that we want to predict (eg, is the image a \"1\" or \"5\")"
   ]
  },
  {
   "cell_type": "code",
   "execution_count": 188,
   "metadata": {},
   "outputs": [],
   "source": [
    "xTrainingSet, yTrainingSet, xValidationSet, yValidationSet = getMnistData()"
   ]
  },
  {
   "cell_type": "markdown",
   "metadata": {},
   "source": [
    "### Data Normalization\n",
    "\n",
    "Data needs to be [normalized](https://en.wikipedia.org/wiki/Normalization_(statistics)) so that it reduces the impact of outliers on the data set.\n",
    "\n",
    "One standard normaliziation is [standard score](https://en.wikipedia.org/wiki/Standard_score) which gives the data set a Gaussian Bell curve characteristic.\n",
    "\n",
    "**This is how we will normalize the image data**\n",
    "\n",
    "\n",
    "$$normalizedStandardScore ={value-mean  \\over standardDeviation }$$\n",
    "\n",
    "or in nerd words\n",
    "\n",
    "$$z ={x-\\mu \\over \\sigma}$$\n",
    "\n"
   ]
  },
  {
   "cell_type": "code",
   "execution_count": 189,
   "metadata": {},
   "outputs": [],
   "source": [
    "xTrainingSetMean, xTrainingSetStandardDeviation = xTrainingSet.mean(), xTrainingSet.std()"
   ]
  },
  {
   "cell_type": "code",
   "execution_count": 190,
   "metadata": {},
   "outputs": [
    {
     "data": {
      "text/plain": [
       "(tensor(0.1304, device='cuda:0'), tensor(0.3073, device='cuda:0'))"
      ]
     },
     "execution_count": 190,
     "metadata": {},
     "output_type": "execute_result"
    }
   ],
   "source": [
    "(xTrainingSetMean, xTrainingSetStandardDeviation)"
   ]
  },
  {
   "cell_type": "markdown",
   "metadata": {},
   "source": [
    "**Time to normalize**"
   ]
  },
  {
   "cell_type": "code",
   "execution_count": 191,
   "metadata": {},
   "outputs": [],
   "source": [
    "xTrainingSetNormalized = normalizeVector(xTrainingSet, xTrainingSetMean, xTrainingSetStandardDeviation).cuda()"
   ]
  },
  {
   "cell_type": "code",
   "execution_count": 192,
   "metadata": {},
   "outputs": [],
   "source": [
    "xValidationSetNormalized = normalizeVector(xValidationSet, xValidationSet.mean(), xValidationSet.std()).cuda()"
   ]
  },
  {
   "cell_type": "markdown",
   "metadata": {},
   "source": [
    "Now that our data has been normalized, we would expect the mean of the normalized data to be somewhere around zero, like the bell curve would assume.\n",
    "\n",
    "![Bell Curve](./images/The_Normal_Distribution.png)"
   ]
  },
  {
   "cell_type": "code",
   "execution_count": 193,
   "metadata": {},
   "outputs": [],
   "source": [
    "assertNearZero(xTrainingSetNormalized.mean())\n",
    "assertNearZero(xValidationSetNormalized.mean())"
   ]
  },
  {
   "cell_type": "markdown",
   "metadata": {},
   "source": [
    "\n",
    "The standard deviation, or $\\sigma$ (sigma), of a **normalized distribution** should be 1."
   ]
  },
  {
   "cell_type": "code",
   "execution_count": 194,
   "metadata": {},
   "outputs": [],
   "source": [
    "assertNearZero(1 - xTrainingSetNormalized.std())\n",
    "assertNearZero(1 - xValidationSetNormalized.std())"
   ]
  },
  {
   "cell_type": "markdown",
   "metadata": {},
   "source": [
    "**Side Note**\n",
    "\n",
    "Just because the data is normalized, does not change the fact that the images remain intact"
   ]
  },
  {
   "cell_type": "code",
   "execution_count": 195,
   "metadata": {},
   "outputs": [],
   "source": [
    "# Change default color to plasma\n",
    "plotter.rcParams['image.cmap'] = 'plasma'"
   ]
  },
  {
   "cell_type": "code",
   "execution_count": 196,
   "metadata": {},
   "outputs": [
    {
     "data": {
      "text/plain": [
       "<matplotlib.image.AxesImage at 0x7f94592bdf60>"
      ]
     },
     "execution_count": 196,
     "metadata": {},
     "output_type": "execute_result"
    },
    {
     "data": {
      "image/png": "[encoded data removed]",
      "text/plain": [
       "<Figure size 432x288 with 1 Axes>"
      ]
     },
     "metadata": {
      "needs_background": "light"
     },
     "output_type": "display_data"
    }
   ],
   "source": [
    "plotter.imshow(xTrainingSet[69].cpu().view(28,28))"
   ]
  },
  {
   "cell_type": "code",
   "execution_count": 197,
   "metadata": {},
   "outputs": [
    {
     "data": {
      "text/plain": [
       "<matplotlib.image.AxesImage at 0x7f9459265080>"
      ]
     },
     "execution_count": 197,
     "metadata": {},
     "output_type": "execute_result"
    },
    {
     "data": {
      "image/png": "[encoded data removed]",
      "text/plain": [
       "<Figure size 432x288 with 1 Axes>"
      ]
     },
     "metadata": {
      "needs_background": "light"
     },
     "output_type": "display_data"
    }
   ],
   "source": [
    "plotter.imshow(xTrainingSetNormalized[69].cpu().view(28,28))"
   ]
  },
  {
   "cell_type": "markdown",
   "metadata": {},
   "source": [
    "#### Capture Data Set Dimensions"
   ]
  },
  {
   "cell_type": "code",
   "execution_count": 198,
   "metadata": {},
   "outputs": [
    {
     "data": {
      "text/plain": [
       "(50000, 784, tensor(10, device='cuda:0'))"
      ]
     },
     "execution_count": 198,
     "metadata": {},
     "output_type": "execute_result"
    }
   ],
   "source": [
    "xRows, xColumns = xTrainingSetNormalized.shape\n",
    "inputChannels = yTrainingSet.max() + 1\n",
    "(xRows, xColumns, inputChannels)"
   ]
  },
  {
   "cell_type": "markdown",
   "metadata": {},
   "source": [
    "### Convolutional Neural Network Setup"
   ]
  },
  {
   "cell_type": "code",
   "execution_count": 199,
   "metadata": {},
   "outputs": [],
   "source": [
    "numberOfHiddenNodes = 50"
   ]
  },
  {
   "cell_type": "markdown",
   "metadata": {},
   "source": [
    "#### Layer Initialization\n",
    "\n",
    "Setting each layer in our convolutional network is important. Getting the right set of inital weights can lead to really good outputs. The following layer (done below) will have referenced the paper [Delving Deep into Rectifiers](https://arxiv.org/abs/1502.01852).\n",
    "\n",
    "Paper Dictonary\n",
    "---\n",
    "- $c$ - Number of Input Channels\n",
    "- $\\operatorname {Var} [\\vec{v}]$ - Variance of input vector, aka $\\sigma ^{2}$ (sigma squared), \n",
    "- $\\operatorname {E} [\\vec{v}]$ - Mean of itput vector, aka $\\mu$ (mu)\n",
    "- $b$ - Bias Vector\n",
    "- $n$ - Number of Columns\n",
    "\n",
    "##### Section 2.2 Synopsis\n",
    "Your weighted matrices should be initilaized such that the mean should be zero and the rest are symetrically dispresed around that mean (eg normalized)."
   ]
  },
  {
   "cell_type": "markdown",
   "metadata": {},
   "source": [
    "**Simple Initialization**\n",
    "\n",
    "Dividing the tensor by the number of total inputs of the each image brings the mean way down to zero. The distribution is also expected to have a standard deviation $\\sigma$ (sigma) of 1."
   ]
  },
  {
   "cell_type": "code",
   "execution_count": 200,
   "metadata": {},
   "outputs": [],
   "source": [
    "weightedLayerOne = (torch.randn(xColumns, numberOfHiddenNodes) / math.sqrt(xColumns)).cuda()\n",
    "weightedLayerTwo = (torch.randn(numberOfHiddenNodes, 1) / math.sqrt(numberOfHiddenNodes)).cuda()"
   ]
  },
  {
   "cell_type": "code",
   "execution_count": 201,
   "metadata": {},
   "outputs": [],
   "source": [
    "assertNearZero(weightedLayerOne.mean())\n",
    "assertNearZero(weightedLayerOne.std() - 1/math.sqrt(xColumns))"
   ]
  },
  {
   "cell_type": "markdown",
   "metadata": {},
   "source": [
    "> We also initialize $b$ = 0."
   ]
  },
  {
   "cell_type": "code",
   "execution_count": 202,
   "metadata": {},
   "outputs": [],
   "source": [
    "biasVectorLayerOne = torch.zeros(numberOfHiddenNodes).cuda()\n",
    "biasVectorLayerTwo = torch.zeros(1).cuda()"
   ]
  },
  {
   "cell_type": "markdown",
   "metadata": {},
   "source": [
    "Any linear combination of the initialized layers should have a $\\mu$=0 and $\\sigma$=1 because $y$ is just a linear combination of $\\vec{x}W + \\vec{b}$"
   ]
  },
  {
   "cell_type": "code",
   "execution_count": 203,
   "metadata": {},
   "outputs": [],
   "source": [
    "assertNearZero(xValidationSetNormalized.mean())\n",
    "assertNearZero(1 - xValidationSetNormalized.std())"
   ]
  },
  {
   "cell_type": "code",
   "execution_count": 204,
   "metadata": {},
   "outputs": [
    {
     "data": {
      "text/plain": [
       "(torch.Size([10000, 784]), torch.Size([784, 50]))"
      ]
     },
     "execution_count": 204,
     "metadata": {},
     "output_type": "execute_result"
    }
   ],
   "source": [
    "xValidationSetNormalized.shape, weightedLayerOne.shape"
   ]
  },
  {
   "cell_type": "code",
   "execution_count": 205,
   "metadata": {},
   "outputs": [],
   "source": [
    "linearWomboCombo = linearCombination(xValidationSetNormalized, weightedLayerOne, biasVectorLayerOne)"
   ]
  },
  {
   "cell_type": "markdown",
   "metadata": {},
   "source": [
    "**Kaiming Note:**\n",
    "These should be close to zero because of our initializaitons, but this appears to not be the case.\n",
    "\n",
    "_The same goes for `reLU` processed vectors_"
   ]
  },
  {
   "cell_type": "code",
   "execution_count": 206,
   "metadata": {},
   "outputs": [
    {
     "data": {
      "text/plain": [
       "(tensor(0.0870, device='cuda:0'), tensor(0.9629, device='cuda:0'))"
      ]
     },
     "execution_count": 206,
     "metadata": {},
     "output_type": "execute_result"
    }
   ],
   "source": [
    "linearWomboCombo.mean(), linearWomboCombo.std()"
   ]
  },
  {
   "cell_type": "code",
   "execution_count": 207,
   "metadata": {},
   "outputs": [],
   "source": [
    "reLUWomboCombo = reLU(linearCombination(xValidationSetNormalized, weightedLayerOne, biasVectorLayerOne))"
   ]
  },
  {
   "cell_type": "code",
   "execution_count": 208,
   "metadata": {},
   "outputs": [
    {
     "data": {
      "text/plain": [
       "(tensor(0.4239, device='cuda:0'), tensor(0.6024, device='cuda:0'))"
      ]
     },
     "execution_count": 208,
     "metadata": {},
     "output_type": "execute_result"
    }
   ],
   "source": [
    "reLUWomboCombo.mean(), reLUWomboCombo.std()"
   ]
  },
  {
   "cell_type": "markdown",
   "metadata": {},
   "source": [
    "**Paper Revelation**\n",
    "\n",
    "Apparently scaling the intialization matrix down by dividing it by it's standard deviation apparently helps a bunch.\n",
    "\n",
    ">This leads to a zero-mean Gaussian distribution whose standard deviation (std) is $\\sqrt {2/n}$"
   ]
  },
  {
   "cell_type": "code",
   "execution_count": 209,
   "metadata": {},
   "outputs": [],
   "source": [
    "kaimingInitializedWeightedMatrixOne = (torch.randn(xColumns, numberOfHiddenNodes) * math.sqrt(2/xColumns)).cuda()"
   ]
  },
  {
   "cell_type": "code",
   "execution_count": 210,
   "metadata": {},
   "outputs": [],
   "source": [
    "assertNearZero(kaimingInitializedWeightedMatrixOne.mean())\n",
    "assertNearZero(kaimingInitializedWeightedMatrixOne.std() - 1 * math.sqrt(2/xColumns))"
   ]
  },
  {
   "cell_type": "markdown",
   "metadata": {},
   "source": [
    "**Success!**\n",
    "Now we get to use the library method!"
   ]
  },
  {
   "cell_type": "code",
   "execution_count": 211,
   "metadata": {},
   "outputs": [],
   "source": [
    "#export\n",
    "from torch.nn import init"
   ]
  },
  {
   "cell_type": "code",
   "execution_count": 212,
   "metadata": {},
   "outputs": [],
   "source": [
    "libraryKiamingWeightedMatrix = torch.zeros(xColumns, numberOfHiddenNodes).cuda()"
   ]
  },
  {
   "cell_type": "code",
   "execution_count": 213,
   "metadata": {},
   "outputs": [],
   "source": [
    "init.kaiming_normal_(libraryKiamingWeightedMatrix, mode='fan_out')\n",
    "assertNearZero(libraryKiamingWeightedMatrix.mean())\n",
    "assertNearZero(libraryKiamingWeightedMatrix.std() - 1 * math.sqrt(2/xColumns))"
   ]
  },
  {
   "cell_type": "code",
   "execution_count": 214,
   "metadata": {},
   "outputs": [],
   "source": [
    "testMatrix = torch.zeros(xColumns, numberOfHiddenNodes)"
   ]
  },
  {
   "cell_type": "code",
   "execution_count": 215,
   "metadata": {},
   "outputs": [
    {
     "name": "stdout",
     "output_type": "stream",
     "text": [
      "407 µs ± 172 ns per loop (mean ± std. dev. of 7 runs, 1000 loops each)\n"
     ]
    }
   ],
   "source": [
    "%timeit init.kaiming_normal_(testMatrix, mode='fan_out')"
   ]
  },
  {
   "cell_type": "code",
   "execution_count": 216,
   "metadata": {},
   "outputs": [
    {
     "name": "stdout",
     "output_type": "stream",
     "text": [
      "428 µs ± 214 ns per loop (mean ± std. dev. of 7 runs, 1000 loops each)\n"
     ]
    }
   ],
   "source": [
    "%timeit torch.randn(xColumns, numberOfHiddenNodes) * math.sqrt(2/xColumns)"
   ]
  },
  {
   "cell_type": "markdown",
   "metadata": {},
   "source": [
    "### Getting closer to Ideal\n",
    "\n",
    "Apparently the Ideal state for our outputs ofter reLU transformation is to have a mean of zero\n",
    "    $$\\mu \\approx 0$$\n",
    "And a standard deviation of one\n",
    "    $$\\sigma \\approx 1$$"
   ]
  },
  {
   "cell_type": "code",
   "execution_count": 217,
   "metadata": {},
   "outputs": [],
   "source": [
    "forwardPass = reLU(linearCombination(xValidationSetNormalized, \n",
    "                                     libraryKiamingWeightedMatrix, \n",
    "                                     biasVectorLayerOne))"
   ]
  },
  {
   "cell_type": "code",
   "execution_count": 218,
   "metadata": {},
   "outputs": [
    {
     "data": {
      "text/plain": [
       "(tensor(0.5487, device='cuda:0'), tensor(0.8239, device='cuda:0'))"
      ]
     },
     "execution_count": 218,
     "metadata": {},
     "output_type": "execute_result"
    }
   ],
   "source": [
    "forwardPass.mean(), forwardPass.std()"
   ]
  },
  {
   "cell_type": "code",
   "execution_count": 219,
   "metadata": {},
   "outputs": [
    {
     "data": {
      "text/plain": [
       "<matplotlib.collections.PathCollection at 0x7f94591d2128>"
      ]
     },
     "execution_count": 219,
     "metadata": {},
     "output_type": "execute_result"
    },
    {
     "data": {
      "image/png": "[encoded data removed]",
      "text/plain": [
       "<Figure size 432x288 with 1 Axes>"
      ]
     },
     "metadata": {
      "needs_background": "light"
     },
     "output_type": "display_data"
    }
   ],
   "source": [
    "plotter.scatter(x=range(numberOfHiddenNodes), y=forwardPass[0].cpu())"
   ]
  },
  {
   "cell_type": "code",
   "execution_count": 220,
   "metadata": {},
   "outputs": [],
   "source": [
    "def reLUEnhanced(vector): return vector.clamp_min(0.) - 0.5 # moves all the points above zero down to zero"
   ]
  },
  {
   "cell_type": "code",
   "execution_count": 221,
   "metadata": {},
   "outputs": [],
   "source": [
    "enhancedForwardPass = reLUEnhanced(linearCombination(xValidationSetNormalized, \n",
    "                                                     libraryKiamingWeightedMatrix, \n",
    "                                                     biasVectorLayerOne))"
   ]
  },
  {
   "cell_type": "markdown",
   "metadata": {},
   "source": [
    "**Shifting closer to zero**"
   ]
  },
  {
   "cell_type": "code",
   "execution_count": 222,
   "metadata": {},
   "outputs": [
    {
     "data": {
      "text/plain": [
       "<matplotlib.collections.PathCollection at 0x7f945919fa58>"
      ]
     },
     "execution_count": 222,
     "metadata": {},
     "output_type": "execute_result"
    },
    {
     "data": {
      "image/png": "[encoded data removed]",
      "text/plain": [
       "<Figure size 432x288 with 1 Axes>"
      ]
     },
     "metadata": {
      "needs_background": "light"
     },
     "output_type": "display_data"
    }
   ],
   "source": [
    "plotter.scatter(x=range(numberOfHiddenNodes), y=enhancedForwardPass[0].cpu())"
   ]
  },
  {
   "cell_type": "code",
   "execution_count": 223,
   "metadata": {},
   "outputs": [
    {
     "data": {
      "text/plain": [
       "(tensor(0.0487, device='cuda:0'), tensor(0.8239, device='cuda:0'))"
      ]
     },
     "execution_count": 223,
     "metadata": {},
     "output_type": "execute_result"
    }
   ],
   "source": [
    "enhancedForwardPass.mean(), enhancedForwardPass.std()"
   ]
  },
  {
   "cell_type": "code",
   "execution_count": 224,
   "metadata": {},
   "outputs": [],
   "source": [
    "finalLibraryKiamingWeightedMatrix = torch.zeros(numberOfHiddenNodes, 1).cuda()"
   ]
  },
  {
   "cell_type": "code",
   "execution_count": 225,
   "metadata": {},
   "outputs": [
    {
     "name": "stdout",
     "output_type": "stream",
     "text": [
      "dun\n"
     ]
    }
   ],
   "source": [
    "init.kaiming_normal_(finalLibraryKiamingWeightedMatrix, mode='fan_out')\n",
    "print('dun')"
   ]
  },
  {
   "cell_type": "markdown",
   "metadata": {},
   "source": [
    "## Simple Forward Pass CNN Model\n"
   ]
  },
  {
   "cell_type": "markdown",
   "metadata": {},
   "source": [
    "Take a look at what the input matrix's shape will be and then observe how the 2 weighted convolution matrices' shapes play into that."
   ]
  },
  {
   "cell_type": "code",
   "execution_count": 226,
   "metadata": {},
   "outputs": [
    {
     "data": {
      "text/plain": [
       "(torch.Size([50000, 784]), torch.Size([784, 50]), torch.Size([50, 1]))"
      ]
     },
     "execution_count": 226,
     "metadata": {},
     "output_type": "execute_result"
    }
   ],
   "source": [
    "xTrainingSetNormalized.shape, libraryKiamingWeightedMatrix.shape, finalLibraryKiamingWeightedMatrix.shape"
   ]
  },
  {
   "cell_type": "code",
   "execution_count": 227,
   "metadata": {},
   "outputs": [],
   "source": [
    "def simpleModel(inputMatrix):\n",
    "    firstActivations = linearCombination(inputMatrix, \n",
    "                                         libraryKiamingWeightedMatrix, \n",
    "                                         biasVectorLayerOne)\n",
    "    clampedFirstActivations = reLUEnhanced(firstActivations)\n",
    "    lastActivations = linearCombination(clampedFirstActivations, \n",
    "                                        finalLibraryKiamingWeightedMatrix, \n",
    "                                        biasVectorLayerTwo)\n",
    "    return lastActivations"
   ]
  },
  {
   "cell_type": "code",
   "execution_count": 228,
   "metadata": {},
   "outputs": [
    {
     "name": "stdout",
     "output_type": "stream",
     "text": [
      "CPU times: user 1.08 ms, sys: 0 ns, total: 1.08 ms\n",
      "Wall time: 859 µs\n"
     ]
    }
   ],
   "source": [
    "%time predictions = simpleModel(xTrainingSetNormalized)"
   ]
  },
  {
   "cell_type": "code",
   "execution_count": 229,
   "metadata": {},
   "outputs": [],
   "source": [
    "assert predictions.shape == torch.Size([xTrainingSetNormalized.shape[0], 1]), \"{} does not equal {}\".format(predictions.shape, torch.Size([xTrainingSetNormalized.shape[0], 1]))"
   ]
  },
  {
   "cell_type": "markdown",
   "metadata": {},
   "source": [
    "### Getting ready to learn!\n",
    "**Loss function**\n",
    "\n",
    "\n"
   ]
  },
  {
   "cell_type": "code",
   "execution_count": 236,
   "metadata": {},
   "outputs": [],
   "source": [
    "#export\n",
    "def assertSameShape(actualVector, expectedVector):\n",
    "    assert actualVector.shape == expectedVector.shape, \"Input vectors do not have the same shape! {} and {}\".format(actualVector.shape, expectedVector.shape)\n",
    "def meanSquaredError(actualVector, expectedVector):\n",
    "    assertSameShape(actualVector, expectedVector)\n",
    "    return (actualVector - expectedVector).pow(2).mean()\n",
    "    "
   ]
  },
  {
   "cell_type": "code",
   "execution_count": 237,
   "metadata": {},
   "outputs": [
    {
     "name": "stdout",
     "output_type": "stream",
     "text": [
      "CPU times: user 0 ns, sys: 1.72 ms, total: 1.72 ms\n",
      "Wall time: 861 µs\n"
     ]
    }
   ],
   "source": [
    "%time loss = meanSquaredError(predictions.squeeze(-1), yTrainingSet.float())"
   ]
  },
  {
   "cell_type": "code",
   "execution_count": 238,
   "metadata": {},
   "outputs": [
    {
     "data": {
      "text/plain": [
       "tensor(32.3895, device='cuda:0')"
      ]
     },
     "execution_count": 238,
     "metadata": {},
     "output_type": "execute_result"
    }
   ],
   "source": [
    "loss"
   ]
  },
  {
   "cell_type": "markdown",
   "metadata": {},
   "source": [
    "The goal now is to minimize error, and we can do this by the process of backwards propagation."
   ]
  },
  {
   "cell_type": "markdown",
   "metadata": {},
   "source": [
    "**Taking the deriviative (finding the gradient of the slope) of the loss function**\n",
    "\n",
    "*quick note*: `unsqueeze(-1)` will add a dimension to a vector eg `size([4])` -> `size([4, 1])` after unsqueezing"
   ]
  },
  {
   "cell_type": "code",
   "execution_count": 276,
   "metadata": {},
   "outputs": [],
   "source": [
    "def meanSquaredErrorGradient(actualVector, expectedVector):\n",
    "    squeezedActualVector = actualVector.squeeze(-1)\n",
    "    assertSameShape(squeezedActualVector, expectedVector)\n",
    "    lossVector = (squeezedActualVector - expectedVector)\n",
    "    actualVector.storedGradients = 2. * lossVector.unsqueeze(-1) / squeezedActualVector.shape[0]"
   ]
  },
  {
   "cell_type": "code",
   "execution_count": 277,
   "metadata": {},
   "outputs": [],
   "source": [
    "def reLUErrorGradient(previousActivations, nextActivations):\n",
    "    previousActivations.storedGradients = (previousActivations > 0).float() * nextActivations.storedGradients"
   ]
  },
  {
   "cell_type": "code",
   "execution_count": 319,
   "metadata": {},
   "outputs": [],
   "source": [
    "def linearCombinationErrorGradient(inputMatrix, activationMatrix, weightedMatrix, biasVector):\n",
    "    inputMatrix.storedGradients = activationMatrix.storedGradients @ weightedMatrix.t() # t for transpose\n",
    "    print((inputMatrix.shape, activationMatrix.shape))\n",
    "    weightedMatrixGradients = (inputMatrix.unsqueeze(-1) * activationMatrix.storedGradients).sum(0)\n",
    "    weightedMatrix.storedGradients = weightedMatrixGradients\n",
    "    biasVector.storedGradients = activationMatrix.storedGradients.sum(0)"
   ]
  },
  {
   "cell_type": "code",
   "execution_count": 320,
   "metadata": {},
   "outputs": [],
   "source": [
    "def churnThenLearn(testInputs, validationOutputs):\n",
    "    #Churn\n",
    "    firstLayerActivations = linearCombination(testInputs, \n",
    "                                              libraryKiamingWeightedMatrix, \n",
    "                                              biasVectorLayerOne)\n",
    "    clampedFirstActivations = reLUEnhanced(firstLayerActivations)\n",
    "    finalLayerActivations = linearCombination(clampedFirstActivations, \n",
    "                                              finalLibraryKiamingWeightedMatrix, \n",
    "                                              biasVectorLayerTwo)\n",
    "    \n",
    "    loss = meanSquaredError(finalLayerActivations.squeeze(-1), validationOutputs)\n",
    "    print(\"Loss = {}\".format(loss))\n",
    "    \n",
    "    #Learn\n",
    "    meanSquaredErrorGradient(finalLayerActivations, validationOutputs)\n",
    "    linearCombinationErrorGradient(clampedFirstActivations, \n",
    "                                   finalLayerActivations, \n",
    "                                   finalLibraryKiamingWeightedMatrix,\n",
    "                                   biasVectorLayerTwo)\n",
    "    reLUErrorGradient(firstLayerActivations, finalLayerActivations)\n",
    "    linearCombinationErrorGradient(firstLayerActivations, \n",
    "                                   clampedFirstActivations, \n",
    "                                   libraryKiamingWeightedMatrix, \n",
    "                                   biasVectorLayerOne)"
   ]
  },
  {
   "cell_type": "code",
   "execution_count": 321,
   "metadata": {},
   "outputs": [],
   "source": [
    "libraryKiamingWeightedMatrix.storedGradients,biasVectorLayerOne.storedGradients,finalLibraryKiamingWeightedMatrix.storedGradients,biasVectorLayerTwo.storedGradients = [None]*4 "
   ]
  },
  {
   "cell_type": "code",
   "execution_count": 322,
   "metadata": {},
   "outputs": [
    {
     "name": "stdout",
     "output_type": "stream",
     "text": [
      "Loss = 32.38948059082031\n",
      "(torch.Size([50000, 50]), torch.Size([50000, 1]))\n"
     ]
    },
    {
     "ename": "RuntimeError",
     "evalue": "The size of tensor a (50) must match the size of tensor b (50000) at non-singleton dimension 1",
     "output_type": "error",
     "traceback": [
      "\u001b[0;31m---------------------------------------------------------------------------\u001b[0m",
      "\u001b[0;31mRuntimeError\u001b[0m                              Traceback (most recent call last)",
      "\u001b[0;32m<timed eval>\u001b[0m in \u001b[0;36m<module>\u001b[0;34m\u001b[0m\n",
      "\u001b[0;32m<ipython-input-320-cee15bece0f9>\u001b[0m in \u001b[0;36mchurnThenLearn\u001b[0;34m(testInputs, validationOutputs)\u001b[0m\n\u001b[1;32m     17\u001b[0m                                    \u001b[0mfinalLayerActivations\u001b[0m\u001b[0;34m,\u001b[0m\u001b[0;34m\u001b[0m\u001b[0;34m\u001b[0m\u001b[0m\n\u001b[1;32m     18\u001b[0m                                    \u001b[0mfinalLibraryKiamingWeightedMatrix\u001b[0m\u001b[0;34m,\u001b[0m\u001b[0;34m\u001b[0m\u001b[0;34m\u001b[0m\u001b[0m\n\u001b[0;32m---> 19\u001b[0;31m                                    biasVectorLayerTwo)\n\u001b[0m\u001b[1;32m     20\u001b[0m     \u001b[0mreLUErrorGradient\u001b[0m\u001b[0;34m(\u001b[0m\u001b[0mfirstLayerActivations\u001b[0m\u001b[0;34m,\u001b[0m \u001b[0mfinalLayerActivations\u001b[0m\u001b[0;34m)\u001b[0m\u001b[0;34m\u001b[0m\u001b[0;34m\u001b[0m\u001b[0m\n\u001b[1;32m     21\u001b[0m     linearCombinationErrorGradient(firstLayerActivations, \n",
      "\u001b[0;32m<ipython-input-319-57c6362cbb88>\u001b[0m in \u001b[0;36mlinearCombinationErrorGradient\u001b[0;34m(inputMatrix, activationMatrix, weightedMatrix, biasVector)\u001b[0m\n\u001b[1;32m      2\u001b[0m     \u001b[0minputMatrix\u001b[0m\u001b[0;34m.\u001b[0m\u001b[0mstoredGradients\u001b[0m \u001b[0;34m=\u001b[0m \u001b[0mactivationMatrix\u001b[0m\u001b[0;34m.\u001b[0m\u001b[0mstoredGradients\u001b[0m \u001b[0;34m@\u001b[0m \u001b[0mweightedMatrix\u001b[0m\u001b[0;34m.\u001b[0m\u001b[0mt\u001b[0m\u001b[0;34m(\u001b[0m\u001b[0;34m)\u001b[0m \u001b[0;31m# t for transpose\u001b[0m\u001b[0;34m\u001b[0m\u001b[0;34m\u001b[0m\u001b[0m\n\u001b[1;32m      3\u001b[0m     \u001b[0mprint\u001b[0m\u001b[0;34m(\u001b[0m\u001b[0;34m(\u001b[0m\u001b[0minputMatrix\u001b[0m\u001b[0;34m.\u001b[0m\u001b[0mshape\u001b[0m\u001b[0;34m,\u001b[0m \u001b[0mactivationMatrix\u001b[0m\u001b[0;34m.\u001b[0m\u001b[0mshape\u001b[0m\u001b[0;34m)\u001b[0m\u001b[0;34m)\u001b[0m\u001b[0;34m\u001b[0m\u001b[0;34m\u001b[0m\u001b[0m\n\u001b[0;32m----> 4\u001b[0;31m     \u001b[0mweightedMatrixGradients\u001b[0m \u001b[0;34m=\u001b[0m \u001b[0;34m(\u001b[0m\u001b[0minputMatrix\u001b[0m\u001b[0;34m.\u001b[0m\u001b[0munsqueeze\u001b[0m\u001b[0;34m(\u001b[0m\u001b[0;34m-\u001b[0m\u001b[0;36m1\u001b[0m\u001b[0;34m)\u001b[0m \u001b[0;34m*\u001b[0m \u001b[0mactivationMatrix\u001b[0m\u001b[0;34m.\u001b[0m\u001b[0mstoredGradients\u001b[0m\u001b[0;34m)\u001b[0m\u001b[0;34m.\u001b[0m\u001b[0msum\u001b[0m\u001b[0;34m(\u001b[0m\u001b[0;36m0\u001b[0m\u001b[0;34m)\u001b[0m\u001b[0;34m\u001b[0m\u001b[0;34m\u001b[0m\u001b[0m\n\u001b[0m\u001b[1;32m      5\u001b[0m     \u001b[0mweightedMatrix\u001b[0m\u001b[0;34m.\u001b[0m\u001b[0mstoredGradients\u001b[0m \u001b[0;34m=\u001b[0m \u001b[0mweightedMatrixGradients\u001b[0m\u001b[0;34m\u001b[0m\u001b[0;34m\u001b[0m\u001b[0m\n\u001b[1;32m      6\u001b[0m     \u001b[0mbiasVector\u001b[0m\u001b[0;34m.\u001b[0m\u001b[0mstoredGradients\u001b[0m \u001b[0;34m=\u001b[0m \u001b[0mactivationMatrix\u001b[0m\u001b[0;34m.\u001b[0m\u001b[0mstoredGradients\u001b[0m\u001b[0;34m.\u001b[0m\u001b[0msum\u001b[0m\u001b[0;34m(\u001b[0m\u001b[0;36m0\u001b[0m\u001b[0;34m)\u001b[0m\u001b[0;34m\u001b[0m\u001b[0;34m\u001b[0m\u001b[0m\n",
      "\u001b[0;31mRuntimeError\u001b[0m: The size of tensor a (50) must match the size of tensor b (50000) at non-singleton dimension 1"
     ]
    }
   ],
   "source": [
    "%time churnThenLearn(xTrainingSetNormalized, yTrainingSet.float())"
   ]
  },
  {
   "cell_type": "code",
   "execution_count": null,
   "metadata": {},
   "outputs": [],
   "source": []
  }
 ],
 "metadata": {
  "kernelspec": {
   "display_name": "pytorch_fastai",
   "language": "python",
   "name": "python3"
  },
  "language_info": {
   "codemirror_mode": {
    "name": "ipython",
    "version": 3
   },
   "file_extension": ".py",
   "mimetype": "text/x-python",
   "name": "python",
   "nbconvert_exporter": "python",
   "pygments_lexer": "ipython3",
   "version": "3.7.3"
  }
 },
 "nbformat": 4,
 "nbformat_minor": 2
}
