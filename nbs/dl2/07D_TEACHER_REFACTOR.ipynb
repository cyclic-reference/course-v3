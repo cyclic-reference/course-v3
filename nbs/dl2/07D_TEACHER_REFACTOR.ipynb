{
 "cells": [
  {
   "cell_type": "code",
   "execution_count": 2,
   "metadata": {},
   "outputs": [],
   "source": [
    "%matplotlib inline"
   ]
  },
  {
   "cell_type": "code",
   "execution_count": 3,
   "metadata": {},
   "outputs": [],
   "source": [
    "#export\n",
    "from exp.nb_06 import *\n",
    "from torch import nn"
   ]
  },
  {
   "cell_type": "code",
   "execution_count": 20,
   "metadata": {},
   "outputs": [
    {
     "data": {
      "text/plain": [
       "(tensor(1.6044e-08, device='cuda:0'),\n",
       " <function Tensor.std>,\n",
       " tensor(2.1759e-08, device='cuda:0'),\n",
       " tensor(1., device='cuda:0'))"
      ]
     },
     "execution_count": 20,
     "metadata": {},
     "output_type": "execute_result"
    }
   ],
   "source": [
    "xTraining, yTraining, xValidation, yValidation = list(map(lambda x: x.cuda(),getMnistData()))\n",
    "xTrainingNormalized, xValidationNormalized = normalizeVectors(xTraining, xValidation)\n",
    "(xTrainingNormalized.mean(), xTrainingNormalized.std, xValidationNormalized.mean(), xValidationNormalized.std())"
   ]
  },
  {
   "cell_type": "code",
   "execution_count": 21,
   "metadata": {},
   "outputs": [],
   "source": [
    "numberOfClasses = 10\n",
    "hiddenLayerOutput = 50\n",
    "batchSize = 64\n",
    "lossFuction = Functional.cross_entropy"
   ]
  },
  {
   "cell_type": "code",
   "execution_count": 22,
   "metadata": {},
   "outputs": [],
   "source": [
    "trainingDataSet, validationDataSet = Dataset(xTrainingNormalized, yTraining), Dataset(xValidationNormalized, yValidation)"
   ]
  },
  {
   "cell_type": "code",
   "execution_count": 23,
   "metadata": {},
   "outputs": [],
   "source": [
    "trainingDataLoader, validationDataLoader = createDataLoaders(trainingDataSet, validationDataSet, batchSize)"
   ]
  },
  {
   "cell_type": "code",
   "execution_count": 24,
   "metadata": {},
   "outputs": [],
   "source": [
    "imageDataBunch = DataBunch(trainingDataLoader, validationDataLoader, numberOfClasses)"
   ]
  },
  {
   "cell_type": "code",
   "execution_count": 25,
   "metadata": {},
   "outputs": [],
   "source": [
    "layerSizes = [8, 16, 32, 64, 64]"
   ]
  },
  {
   "cell_type": "code",
   "execution_count": 27,
   "metadata": {},
   "outputs": [],
   "source": [
    "phases = [0.3, 0.7]\n",
    "weightsScheduler = aggregateSchedulers(phases, createCosineSchedulers(0.3, 0.6, 0.2)) \n",
    "biasScheduler = aggregateSchedulers(phases, createCosineSchedulers(0.9, 1.8, 0.6))"
   ]
  },
  {
   "cell_type": "code",
   "execution_count": 38,
   "metadata": {},
   "outputs": [],
   "source": [
    "class Subscriber:\n",
    "    def __init__(self):\n",
    "        self._totalEpochs = 0\n",
    "        self._currentEpoch = 0\n",
    "\n",
    "    def postEpoch(self, epochNumber):\n",
    "        pass\n",
    "\n",
    "    def postBatchEvaluation(self, loss):\n",
    "        pass\n",
    "\n",
    "    def preBatchEvaluation(self):\n",
    "        pass\n",
    "\n",
    "    def preEpoch(self, epoch):\n",
    "        self._currentEpoch = epoch\n",
    "        pass\n",
    "\n",
    "    def preModelTeach(self, model, epochs):\n",
    "        self._totalEpochs = epochs\n",
    "        pass\n",
    "\n",
    "    def postModelTeach(self):\n",
    "        pass\n"
   ]
  },
  {
   "cell_type": "code",
   "execution_count": 39,
   "metadata": {},
   "outputs": [],
   "source": [
    "class ValidationSubscriber(Subscriber):\n",
    "\n",
    "    def __init__(self):\n",
    "        pass\n",
    "\n",
    "    def postEpoch(self, epochNumber):\n",
    "        pass\n"
   ]
  },
  {
   "cell_type": "code",
   "execution_count": 40,
   "metadata": {},
   "outputs": [],
   "source": [
    "class TrainingSubscriber(Subscriber):\n",
    "\n",
    "    def __init__(self,\n",
    "                 schedulingFunctions=[cosineScheduler(1e-1, 1e-6), cosineScheduler(1e-1, 1e-6)]):\n",
    "        super().__init__()\n",
    "        self._optimizer = None\n",
    "        self._schedulingFunctions = schedulingFunctions\n",
    "\n",
    "    def postEpoch(self, epochNumber):\n",
    "        pass\n",
    "\n",
    "    def preModelTeach(self, model, epochs):\n",
    "        super().preModelTeach(model, epochs)\n",
    "        self._optimizer = optim.SGD(model.parameters(), self._schedulingFunctions[0](0))\n",
    "        self._totalEpochs = epochs\n",
    "\n",
    "    def postBatchEvaluation(self, loss):\n",
    "        loss.backward()\n",
    "        self._optimizer.step()\n",
    "        self._optimizer.zero_grad()\n",
    "\n",
    "    def preBatchEvaluation(self):\n",
    "        for parameterGroup, schedulingFunction in zip(self._optimizer.param_groups, self._schedulingFunctions):\n",
    "            parameterGroup['lr'] = schedulingFunction(self._currentEpoch / self._totalEpochs)\n"
   ]
  },
  {
   "cell_type": "code",
   "execution_count": 31,
   "metadata": {},
   "outputs": [],
   "source": [
    "class TeacherEnhanced:\n",
    "    def __init__(self,\n",
    "                 dataBunch,\n",
    "                 lossFunction,\n",
    "                 trainingSubscriber: TrainingSubscriber,\n",
    "                 validationSubscriber: ValidationSubscriber):\n",
    "        self._dataBunch = dataBunch\n",
    "        self._lossFunction = lossFunction\n",
    "        self._trainingSubscriber = trainingSubscriber\n",
    "        self._validationSubscriber = validationSubscriber\n",
    "\n",
    "    def teachModel(self, model, numberOfEpochs):\n",
    "        self._notifiyPreTeach(model, numberOfEpochs)\n",
    "        for epoch in range(numberOfEpochs):\n",
    "            self._trainModel(model,\n",
    "                             epoch)\n",
    "            self._validateModel(model,\n",
    "                                epoch)\n",
    "        self._notifiyPostTaught()\n",
    "\n",
    "    def _notifiyPreTeach(self, model, epochs):\n",
    "        self._trainingSubscriber.preModelTeach(model, epochs)\n",
    "        self._validationSubscriber.preModelTeach(model, epochs)\n",
    "\n",
    "    def _notifiyPostTaught(self):\n",
    "        self._trainingSubscriber.postModelTeach()\n",
    "        self._validationSubscriber.postModelTeach()\n",
    "\n",
    "    def _trainModel(self, model, epoch):\n",
    "        self._processData(model,\n",
    "                          self._dataBunch.trainingDataSet,\n",
    "                          epoch,\n",
    "                          self._trainingSubscriber)\n",
    "\n",
    "    def _validateModel(self, model, epoch):\n",
    "        with torch.no_grad():\n",
    "            self._processData(model,\n",
    "                              self._dataBunch.validationDataSet,\n",
    "                              epoch,\n",
    "                              self._validationSubscriber)\n",
    "\n",
    "    def _processData(self,\n",
    "                     model,\n",
    "                     dataLoader,\n",
    "                     epoch,\n",
    "                     dataProcessingSubscriber: Subscriber):\n",
    "        dataProcessingSubscriber.preEpoch(epoch)\n",
    "        for _xDataBatch, _yDataBatch in dataLoader:\n",
    "            dataProcessingSubscriber.preBatchEvaluation()\n",
    "            _predictions = model(_xDataBatch)\n",
    "            calculatedLoss = self._lossFunction(_predictions, _yDataBatch)\n",
    "            dataProcessingSubscriber.postBatchEvaluation(calculatedLoss)\n",
    "        dataProcessingSubscriber.postEpoch(epoch)\n"
   ]
  },
  {
   "cell_type": "code",
   "execution_count": 41,
   "metadata": {},
   "outputs": [],
   "source": [
    "validationSubscriber = ValidationSubscriber()"
   ]
  },
  {
   "cell_type": "code",
   "execution_count": 42,
   "metadata": {},
   "outputs": [],
   "source": [
    "trainingSubscriber = TrainingSubscriber()"
   ]
  },
  {
   "cell_type": "code",
   "execution_count": 43,
   "metadata": {},
   "outputs": [],
   "source": [
    "teacher = TeacherEnhanced(imageDataBunch, \n",
    "                          lossFuction, \n",
    "                          trainingSubscriber,\n",
    "                          validationSubscriber\n",
    "                         )"
   ]
  },
  {
   "cell_type": "code",
   "execution_count": 45,
   "metadata": {},
   "outputs": [],
   "source": [
    "convolutionalModelSR1 = createBetterConvolutionModel(numberOfClasses, layerSizes).cuda()"
   ]
  },
  {
   "cell_type": "code",
   "execution_count": 46,
   "metadata": {},
   "outputs": [
    {
     "data": {
      "text/plain": [
       "tensor(0.0983, device='cuda:0')"
      ]
     },
     "execution_count": 46,
     "metadata": {},
     "output_type": "execute_result"
    }
   ],
   "source": [
    "accuracy(convolutionalModelSR1(xValidationNormalized), yValidation)"
   ]
  },
  {
   "cell_type": "code",
   "execution_count": 47,
   "metadata": {},
   "outputs": [],
   "source": [
    "teacher.teachModel(convolutionalModelSR1, 2)"
   ]
  },
  {
   "cell_type": "code",
   "execution_count": 48,
   "metadata": {},
   "outputs": [
    {
     "data": {
      "text/plain": [
       "tensor(0.9749, device='cuda:0')"
      ]
     },
     "execution_count": 48,
     "metadata": {},
     "output_type": "execute_result"
    }
   ],
   "source": [
    "accuracy(convolutionalModelSR1(xValidationNormalized), yValidation)"
   ]
  },
  {
   "cell_type": "markdown",
   "metadata": {},
   "source": [
    "Todo: Statistics Subscriber, Hooks"
   ]
  }
 ],
 "metadata": {
  "kernelspec": {
   "display_name": "pytorch_fastai",
   "language": "python",
   "name": "python3"
  },
  "language_info": {
   "codemirror_mode": {
    "name": "ipython",
    "version": 3
   },
   "file_extension": ".py",
   "mimetype": "text/x-python",
   "name": "python",
   "nbconvert_exporter": "python",
   "pygments_lexer": "ipython3",
   "version": "3.7.3"
  }
 },
 "nbformat": 4,
 "nbformat_minor": 2
}
