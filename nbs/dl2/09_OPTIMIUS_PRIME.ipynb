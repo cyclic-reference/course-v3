{
 "cells": [
  {
   "cell_type": "code",
   "execution_count": 38,
   "metadata": {
    "collapsed": true,
    "pycharm": {
     "is_executing": false
    }
   },
   "outputs": [],
   "source": [
    "#export\n",
    "from dataclasses import dataclass\n",
    "from functools import reduce, partial\n",
    "import torch\n",
    "from torch import optim\n",
    "from torch.utils.data import DataLoader\n",
    "from nbs.dl2.exp.nb_02 import getMnistData, assertNearZero\n",
    "from nbs.dl2.exp.nb_03 import Dataset, createDataLoaders, accuracy\n",
    "from nbs.dl2.exp.nb_04 import DataBunch\n",
    "from nbs.dl2.exp.nb_05 import aggregateSchedulers, createCosineSchedulers, cosineScheduler\n",
    "from nbs.dl2.exp.nb_06 import normalizeVectors, createBetterConvolutionModel\n",
    "from nbs.dl2.exp.nb_07D import *\n",
    "import time\n",
    "from fastprogress import master_bar, progress_bar\n",
    "from fastprogress.fastprogress import format_time, NBMasterBar"
   ]
  },
  {
   "cell_type": "code",
   "execution_count": 39,
   "outputs": [],
   "source": [
    "%matplotlib inline\n"
   ],
   "metadata": {
    "collapsed": false,
    "pycharm": {
     "name": "#%%\n",
     "is_executing": false
    }
   }
  },
  {
   "cell_type": "code",
   "execution_count": 40,
   "outputs": [],
   "source": [
    "xTraining, yTraining, xValidation, yValidation = getMnistData()\n",
    "xTrainingNormalized, xValidationNormalized = \\\n",
    "    normalizeVectors(xTraining, xValidation)"
   ],
   "metadata": {
    "collapsed": false,
    "pycharm": {
     "name": "#%%\n",
     "is_executing": false
    }
   }
  },
  {
   "cell_type": "code",
   "execution_count": 41,
   "outputs": [],
   "source": [
    "assertNearZero(xTrainingNormalized.mean())\n",
    "assertNearZero(xValidationNormalized.mean())\n",
    "assertNearZero(1 - xTrainingNormalized.std())\n",
    "assertNearZero(1 - xValidationNormalized.std())\n"
   ],
   "metadata": {
    "collapsed": false,
    "pycharm": {
     "name": "#%%\n",
     "is_executing": false
    }
   }
  },
  {
   "cell_type": "code",
   "execution_count": 42,
   "outputs": [],
   "source": [
    "layerSizes = [8, 16, 32, 64, 64]\n",
    "numberOfClasses = 10\n",
    "hiddenLayerSize = 75\n",
    "batchSize = 64"
   ],
   "metadata": {
    "collapsed": false,
    "pycharm": {
     "name": "#%%\n",
     "is_executing": false
    }
   }
  },
  {
   "cell_type": "code",
   "execution_count": 43,
   "outputs": [],
   "source": [
    "trainingDataSet, validationDataSet = Dataset(xTrainingNormalized[:10000], yTraining[:10000]), Dataset(xValidationNormalized[:10000], yValidation[:10000])\n",
    "trainingDataLoader, validationDataLoader = createDataLoaders(trainingDataSet, validationDataSet, batchSize)\n",
    "imageDataBunch = DataBunch(trainingDataLoader, validationDataLoader, numberOfClasses)"
   ],
   "metadata": {
    "collapsed": false,
    "pycharm": {
     "name": "#%%\n",
     "is_executing": false
    }
   }
  },
  {
   "cell_type": "code",
   "execution_count": 44,
   "outputs": [],
   "source": [
    "class ProcessCancellationException(Exception): pass"
   ],
   "metadata": {
    "collapsed": false,
    "pycharm": {
     "name": "#%%\n",
     "is_executing": false
    }
   }
  },
  {
   "cell_type": "code",
   "execution_count": 45,
   "outputs": [],
   "source": [
    "def composeFunctions(funInput, functions): \n",
    "    return reduce(lambda accum, function: function(accum), \n",
    "                  functions, \n",
    "                  funInput)"
   ],
   "metadata": {
    "collapsed": false,
    "pycharm": {
     "name": "#%%\n",
     "is_executing": false
    }
   }
  },
  {
   "cell_type": "code",
   "execution_count": 46,
   "outputs": [],
   "source": [
    "result = composeFunctions(0, [\n",
    "    lambda x: x + 1,\n",
    "    lambda x: x + 2,\n",
    "    lambda x: x + 3,\n",
    "])\n",
    "\n",
    "assert result == 6, \"Composition is wrong\""
   ],
   "metadata": {
    "collapsed": false,
    "pycharm": {
     "name": "#%%\n",
     "is_executing": false
    }
   }
  },
  {
   "cell_type": "code",
   "execution_count": 47,
   "outputs": [],
   "source": [
    "@dataclass\n",
    "class HyperParameters:\n",
    "    learningRate: float = 1e-1\n",
    "    weightDecay: float = 0.\n",
    "    momentum: float = 0.9\n",
    "    momentumSquared: float = 0.999\n",
    "    epsilon: float = 1e-6"
   ],
   "metadata": {
    "collapsed": false,
    "pycharm": {
     "name": "#%%\n",
     "is_executing": false
    }
   }
  },
  {
   "cell_type": "code",
   "execution_count": 48,
   "outputs": [],
   "source": [
    "#export\n",
    "def flatMap(function, items):\n",
    "    return reduce(lambda accum, manyItems: accum + manyItems,\n",
    "           list(map(function, items)))"
   ],
   "metadata": {
    "collapsed": false,
    "pycharm": {
     "name": "#%%\n",
     "is_executing": false
    }
   }
  },
  {
   "cell_type": "code",
   "execution_count": 49,
   "outputs": [],
   "source": [
    "result = flatMap(lambda n: list(map(lambda _: n+1, range(n+1))), \n",
    "        list(range(3)))\n",
    "\n",
    "assert result == [1, 2, 2, 3, 3, 3], \"Flat map did not work\"\n"
   ],
   "metadata": {
    "collapsed": false,
    "pycharm": {
     "name": "#%%\n",
     "is_executing": false
    }
   }
  },
  {
   "cell_type": "code",
   "execution_count": 50,
   "outputs": [],
   "source": [
    "class OptimizationFunction:\n",
    "    \n",
    "    def __call__(self, \n",
    "                 modelLayer, \n",
    "                 hyperParameters: HyperParameters):\n",
    "        return hyperParameters\n",
    "    \n",
    "class LearningRateAnnealer(OptimizationFunction):\n",
    "    def __init__(self, learningRateSupplier)-> None:\n",
    "        self._learningRateSupplier = learningRateSupplier\n",
    "        \n",
    "    def __call__(self, modelLayer, hyperParameters: HyperParameters):\n",
    "        hyperParameters.learningRate = self._learningRateSupplier()\n",
    "        return super().__call__(modelLayer, hyperParameters)\n",
    "    \n",
    "class LearningRateOptimizer(OptimizationFunction):\n",
    "    def __call__(self, \n",
    "                 modelLayer, \n",
    "                 hyperParameters: HyperParameters):\n",
    "        modelLayer.data.add_(-hyperParameters.learningRate, modelLayer.grad.data)\n",
    "        return super().__call__(modelLayer, hyperParameters)\n",
    "    \n",
    "class StateCreator:\n",
    "    def __init__(self, stateName, stateCreator)-> None:\n",
    "        super().__init__()\n",
    "        self.stateName = stateName\n",
    "        self._stateCreator = stateCreator\n",
    "        \n",
    "    def __call__(self, model, hyperParameters):\n",
    "        return self._stateCreator(model, hyperParameters)\n",
    "\n",
    "class StatefulOptimizationFunction(OptimizationFunction):\n",
    "    def __init__(self)-> None:\n",
    "        super().__init__()\n",
    "        self._state = {}\n",
    "        \n",
    "    def setUpState(self, modelLayer, hyperParameters):\n",
    "        if modelLayer not in self._state:\n",
    "            def _reducer(createdState, stateCreator: StateCreator):\n",
    "                createdState[stateCreator.stateName]= stateCreator(modelLayer, hyperParameters)\n",
    "                return createdState\n",
    "            \n",
    "            self._state[modelLayer] = reduce(\n",
    "                _reducer,\n",
    "                self._getStateCreators(),\n",
    "                {}\n",
    "            )\n",
    "        return self._state[modelLayer]\n",
    "        \n",
    "            \n",
    "    def _getStateCreators(self): return []\n",
    "        \n",
    "\n",
    "AVERAGE_GRADIENT = 'averageGradient'\n",
    "AVERAGE_GRADIENT_SQUARED = 'averageGradientSquared'\n",
    "STEP_COUNT = 'stepCount'\n",
    "MOMENTUM_DAMPENING = 'momentumDampening'\n",
    "MOMENTUM_DAMPENING_SQUARED = 'momentumDampeningSquared'\n",
    "\n",
    "class AdamOptimizer(StatefulOptimizationFunction):\n",
    "    \n",
    "    def _getStateCreators(self):\n",
    "        return [\n",
    "            StateCreator(AVERAGE_GRADIENT, lambda modelLayer, _: torch.zeros_like(modelLayer.grad.data)),\n",
    "            StateCreator(AVERAGE_GRADIENT_SQUARED, lambda modelLayer, _: torch.zeros_like(modelLayer.grad.data)),\n",
    "            StateCreator(STEP_COUNT, lambda _, __: 0),\n",
    "            StateCreator(MOMENTUM_DAMPENING, lambda _, hyperParameters: 1 - hyperParameters.momentum),\n",
    "            StateCreator(MOMENTUM_DAMPENING_SQUARED, lambda _, hyperParameters: 1 - hyperParameters.momentumSquared),\n",
    "        ]\n",
    "    \n",
    "    def __call__(self, \n",
    "                 modelLayer, \n",
    "                 hyperParameters: HyperParameters):\n",
    "        modelLayerState = self.setUpState(modelLayer, hyperParameters)\n",
    "        gradientDampening = modelLayerState[MOMENTUM_DAMPENING]\n",
    "        gradientDampeningSquared = modelLayerState[MOMENTUM_DAMPENING_SQUARED]\n",
    "        \n",
    "        modelLayerState[STEP_COUNT] += 1\n",
    "        layerGradients = modelLayer.grad.data\n",
    "        modelLayerState[AVERAGE_GRADIENT].mul_(hyperParameters.momentum).add_(gradientDampening * layerGradients)\n",
    "        modelLayerState[AVERAGE_GRADIENT_SQUARED].mul_(hyperParameters.momentumSquared).addcmul_(gradientDampeningSquared, layerGradients, layerGradients)\n",
    "\n",
    "        stepCount = modelLayerState[STEP_COUNT]\n",
    "        debiaseUno = (1 - gradientDampening**stepCount)\n",
    "        debiasDeux = (1 - gradientDampeningSquared**stepCount)\n",
    "\n",
    "        biasCorrectedGradient = modelLayerState[AVERAGE_GRADIENT]/debiaseUno\n",
    "        biasCorrectedGradientSquared = modelLayerState[AVERAGE_GRADIENT_SQUARED]/debiasDeux\n",
    "        modelLayer.data.addcdiv_(-hyperParameters.learningRate,\n",
    "                                 biasCorrectedGradient,\n",
    "                                 biasCorrectedGradientSquared.sqrt() + hyperParameters.epsilon)\n",
    "                \n",
    "        return super().__call__(modelLayer, hyperParameters)\n",
    "    \n",
    "class MomentumOptimizer(StatefulOptimizationFunction):\n",
    "    \n",
    "    def _getStateCreators(self):\n",
    "        return [\n",
    "            StateCreator(AVERAGE_GRADIENT, lambda modelLayer: torch.zeros_like(modelLayer.grad.data))\n",
    "        ]\n",
    "        \n",
    "    def __call__(self, \n",
    "                 modelLayer, \n",
    "                 hyperParameters: HyperParameters):\n",
    "        modelLayerState = self.setUpState(modelLayer)\n",
    "        modelLayerState[AVERAGE_GRADIENT].mul_(hyperParameters.momentum).add_((1 - hyperParameters.momentum) * modelLayer.grad.data)\n",
    "        \n",
    "        modelLayer.data.add_(-hyperParameters.learningRate, modelLayerState[AVERAGE_GRADIENT])\n",
    "        return super().__call__(modelLayer, hyperParameters)"
   ],
   "metadata": {
    "collapsed": false,
    "pycharm": {
     "name": "#%%\n",
     "is_executing": false
    }
   }
  },
  {
   "cell_type": "markdown",
   "source": [
    "## LAMB Notes: \n",
    "\n",
    "It looks like lamb performs weight decay at the last step of the it's algorithm.\n",
    "\n",
    "$φ$ pronounced \"Phi\" and is a scaling function\n",
    "\n",
    "I had to remember that the pythagorean theorem gives me the length of a two dimensional vector"
   ],
   "metadata": {
    "collapsed": false,
    "pycharm": {
     "name": "#%% md\n"
    }
   }
  },
  {
   "cell_type": "code",
   "execution_count": 51,
   "outputs": [
    {
     "data": {
      "text/plain": "(tensor(2.2361), tensor(1.5811))"
     },
     "metadata": {},
     "output_type": "execute_result",
     "execution_count": 51
    }
   ],
   "source": [
    "thingo = torch.tensor([1., 2.])\n",
    "\n",
    "thingo.norm(), thingo.pow(2).mean().sqrt()"
   ],
   "metadata": {
    "collapsed": false,
    "pycharm": {
     "name": "#%%\n",
     "is_executing": false
    }
   }
  },
  {
   "cell_type": "code",
   "execution_count": 52,
   "outputs": [],
   "source": [
    "class LambOptimizer(StatefulOptimizationFunction):\n",
    "    \n",
    "    def _getStateCreators(self):\n",
    "        return [\n",
    "            StateCreator(AVERAGE_GRADIENT, lambda modelLayer, _: torch.zeros_like(modelLayer.grad.data)),\n",
    "            StateCreator(AVERAGE_GRADIENT_SQUARED, lambda modelLayer, _: torch.zeros_like(modelLayer.grad.data)),\n",
    "            StateCreator(STEP_COUNT, lambda _, __: 0),\n",
    "            StateCreator(MOMENTUM_DAMPENING, lambda _, hyperParameters: 1 - hyperParameters.momentum),\n",
    "            StateCreator(MOMENTUM_DAMPENING_SQUARED, lambda _, hyperParameters: 1 - hyperParameters.momentumSquared),\n",
    "        ]\n",
    "    \n",
    "    def __call__(self, \n",
    "                 modelLayer, \n",
    "                 hyperParameters: HyperParameters):\n",
    "        modelLayerState = self.setUpState(modelLayer, hyperParameters)\n",
    "        gradientDampening = modelLayerState[MOMENTUM_DAMPENING]\n",
    "        gradientDampeningSquared = modelLayerState[MOMENTUM_DAMPENING_SQUARED]\n",
    "        \n",
    "        modelLayerState[STEP_COUNT] += 1\n",
    "        layerGradients = modelLayer.grad.data\n",
    "        modelLayerState[AVERAGE_GRADIENT].mul_(hyperParameters.momentum).add_(gradientDampening * layerGradients)\n",
    "        modelLayerState[AVERAGE_GRADIENT_SQUARED].mul_(hyperParameters.momentumSquared).addcmul_(gradientDampeningSquared, layerGradients, layerGradients)\n",
    "\n",
    "        stepCount = modelLayerState[STEP_COUNT]\n",
    "        debiaseUno = (1 - gradientDampening**stepCount)\n",
    "        debiasDeux = (1 - gradientDampeningSquared**stepCount)\n",
    "        \n",
    "        biasCorrectedGradient = modelLayerState[AVERAGE_GRADIENT]/debiaseUno\n",
    "        biasCorrectedGradientSquared = modelLayerState[AVERAGE_GRADIENT_SQUARED]/debiasDeux\n",
    "        ratioOfGraidents = biasCorrectedGradient / (biasCorrectedGradientSquared.sqrt() + hyperParameters.epsilon)\n",
    "        \n",
    "        s = ratioOfGraidents + hyperParameters.weightDecay * modelLayer.data\n",
    "        \n",
    "        layerLength = modelLayer.data.norm()\n",
    "        sLength = s.norm()\n",
    "        \n",
    "        modelLayer.data.add_(-hyperParameters.learningRate * (layerLength/sLength), s)\n",
    "                \n",
    "        return super().__call__(modelLayer, hyperParameters)\n"
   ],
   "metadata": {
    "collapsed": false,
    "pycharm": {
     "name": "#%%\n",
     "is_executing": false
    }
   }
  },
  {
   "cell_type": "code",
   "execution_count": 53,
   "outputs": [],
   "source": [
    "class LearningRateRecorder:\n",
    "    def __init__(self, \n",
    "                 learningRateSupplier=lambda:0.5):\n",
    "        super().__init__()\n",
    "        self._aggregatedLearningRates = []\n",
    "        self._learningRateSupplier = learningRateSupplier\n",
    "        \n",
    "    def __call__(self):\n",
    "        return self.record(self._learningRateSupplier())\n",
    "        \n",
    "    def record(self, learningRateSupplied):\n",
    "        self._aggregatedLearningRates.append(learningRateSupplied)\n",
    "        return learningRateSupplied\n",
    "    \n",
    "    def plotLearningRates(self):\n",
    "        plotter.plot(self._aggregatedLearningRates)"
   ],
   "metadata": {
    "collapsed": false,
    "pycharm": {
     "name": "#%%\n",
     "is_executing": false
    }
   }
  },
  {
   "cell_type": "markdown",
   "source": [
    "# Lars Notes\n",
    "\n",
    "$ \\eta $ is Eta"
   ],
   "metadata": {
    "collapsed": false,
    "pycharm": {
     "name": "#%% md\n"
    }
   }
  },
  {
   "cell_type": "code",
   "execution_count": 54,
   "outputs": [],
   "source": [
    "RUNNING_MOMENTUM = \"runningMomentum\"\n",
    "\n",
    "class LarsOptimizer(StatefulOptimizationFunction):\n",
    "    \n",
    "    def __init__(self, \n",
    "                 totalStepSupplier,\n",
    "                 learningRateRecorder: LearningRateRecorder\n",
    "                 )-> None:\n",
    "        super().__init__()\n",
    "        self._totalStepsSupplier = totalStepSupplier\n",
    "        self._learningRateRecorder = learningRateRecorder\n",
    "        \n",
    "        \n",
    "    def _getStateCreators(self):\n",
    "        return [\n",
    "            StateCreator(AVERAGE_GRADIENT, lambda modelLayer, _: torch.zeros_like(modelLayer.grad.data)),\n",
    "            StateCreator(STEP_COUNT, lambda _, __: 0),\n",
    "            StateCreator(MOMENTUM_DAMPENING, lambda _, hyperParameters: (1 - hyperParameters.momentum)),\n",
    "            \n",
    "        ]\n",
    "    \n",
    "    def __call__(self, \n",
    "                 modelLayer, \n",
    "                 hyperParameters: HyperParameters):\n",
    "        modelLayerState = self.setUpState(modelLayer, hyperParameters)\n",
    "        \n",
    "        layerGradients = modelLayer.grad\n",
    "        \n",
    "        modelLayerState[STEP_COUNT] += 1\n",
    "        stepCount = modelLayerState[STEP_COUNT]\n",
    "        \n",
    "        globalLearningRate = hyperParameters.learningRate * (1 - stepCount / self._totalStepsSupplier())\n",
    "        \n",
    "        layerWeights = modelLayer.data\n",
    "        parameterNorm = layerWeights.norm()\n",
    "        \n",
    "        weightDecay = hyperParameters.weightDecay\n",
    "        localLearningRate = parameterNorm / (layerGradients.norm() + weightDecay * parameterNorm) \n",
    "        \n",
    "        \n",
    "        rate = globalLearningRate * localLearningRate\n",
    "        enhancedLearningRate = self._learningRateRecorder.record(rate)\n",
    "        dampenedLearningRate = modelLayerState[MOMENTUM_DAMPENING] * enhancedLearningRate\n",
    "        \n",
    "        \n",
    "        nextGradients = layerGradients.add(weightDecay, layerWeights)\n",
    "        modelLayerState[AVERAGE_GRADIENT].mul_(hyperParameters.momentum).add_(dampenedLearningRate, nextGradients)\n",
    "        \n",
    "        modelLayer.data.sub_(modelLayerState[AVERAGE_GRADIENT])\n",
    "                        \n",
    "        return super().__call__(modelLayer, hyperParameters)\n"
   ],
   "metadata": {
    "collapsed": false,
    "pycharm": {
     "name": "#%%\n",
     "is_executing": false
    }
   }
  },
  {
   "cell_type": "markdown",
   "source": [
    "** Weight Decay** is useful when you are having issues with over fitting the training data as the batches go on.\n",
    "Added weight decay makes the parameter weights smaller so they learn less, but the can generalize better."
   ],
   "metadata": {
    "collapsed": false,
    "pycharm": {
     "name": "#%% md\n"
    }
   }
  },
  {
   "cell_type": "code",
   "execution_count": 55,
   "outputs": [],
   "source": [
    "class WeightDecayOptimizer(OptimizationFunction):\n",
    "    def __call__(self, \n",
    "                 modelLayer, \n",
    "                 hyperParameters: HyperParameters):\n",
    "        modelLayer.data.mul_(1 - hyperParameters.learningRate * hyperParameters.weightDecay)\n",
    "        return super().__call__(modelLayer, hyperParameters)"
   ],
   "metadata": {
    "collapsed": false,
    "pycharm": {
     "name": "#%%\n",
     "is_executing": false
    }
   }
  },
  {
   "cell_type": "code",
   "execution_count": 56,
   "outputs": [],
   "source": [
    "class Optimizer:\n",
    "    def __init__(self, modelParameters, \n",
    "                 optimizationFunctions,\n",
    "                 hyperParameters: HyperParameters=HyperParameters(learningRate=0.5)):\n",
    "        super().__init__()\n",
    "        self._modelParameters = list(modelParameters)\n",
    "        self._hyperParameters = [hyperParameters for _ in self._modelParameters]\n",
    "        self._optimizationFunctions = optimizationFunctions\n",
    "        \n",
    "    def getLayersWithGradients(self):\n",
    "        return list(filter(lambda modelAndHyperParameters: modelAndHyperParameters[0].grad is not None, \n",
    "                           zip(self._modelParameters, self._hyperParameters)))\n",
    "    \n",
    "    def resetGradients(self):\n",
    "        for modelParameter, _ in self.getLayersWithGradients():\n",
    "            modelParameter.grad.detach_()\n",
    "            modelParameter.grad.zero_()\n",
    "    \n",
    "    def optimizeModel(self):\n",
    "        for modelParameter, hyperParameter in self.getLayersWithGradients():\n",
    "            composeFunctions(hyperParameter, \n",
    "                             map(lambda fun: partial(fun, modelParameter), \n",
    "                                 self._optimizationFunctions))"
   ],
   "metadata": {
    "collapsed": false,
    "pycharm": {
     "name": "#%%\n",
     "is_executing": false
    }
   }
  },
  {
   "cell_type": "code",
   "execution_count": 57,
   "outputs": [],
   "source": [
    "convolutionalModelSR2 = createBetterConvolutionModel(numberOfClasses, layerSizes)"
   ],
   "metadata": {
    "collapsed": false,
    "pycharm": {
     "name": "#%%\n",
     "is_executing": false
    }
   }
  },
  {
   "cell_type": "code",
   "execution_count": 58,
   "outputs": [
    {
     "data": {
      "text/plain": "0"
     },
     "metadata": {},
     "output_type": "execute_result",
     "execution_count": 58
    }
   ],
   "source": [
    "optimus = Optimizer(convolutionalModelSR2.parameters(), [])\n",
    "len(optimus.getLayersWithGradients())"
   ],
   "metadata": {
    "collapsed": false,
    "pycharm": {
     "name": "#%%\n",
     "is_executing": false
    }
   }
  },
  {
   "cell_type": "code",
   "execution_count": 59,
   "outputs": [
    {
     "data": {
      "text/plain": "12"
     },
     "metadata": {},
     "output_type": "execute_result",
     "execution_count": 59
    }
   ],
   "source": [
    "loss = torch.nn.functional.cross_entropy(convolutionalModelSR2(xTrainingNormalized), yTraining)\n",
    "loss.backward()\n",
    "len(optimus.getLayersWithGradients())\n"
   ],
   "metadata": {
    "collapsed": false,
    "pycharm": {
     "name": "#%%\n",
     "is_executing": false
    }
   }
  },
  {
   "cell_type": "markdown",
   "source": [
    "## **Important Note**: PyTorch will NOT put the gradients on the parameters until backwards has been called on the model    \n",
    "\n",
    "That is all"
   ],
   "metadata": {
    "collapsed": false,
    "pycharm": {
     "name": "#%% md\n"
    }
   }
  },
  {
   "cell_type": "code",
   "execution_count": 60,
   "outputs": [],
   "source": [
    "class ProgressSubscriber(StatisticsSubscriber):\n",
    "    \n",
    "   def __init__(self, accuracyFunction=accuracy, name=\"Steve\"):\n",
    "       super().__init__(accuracyFunction, name)\n",
    "       self._masterProgressBar: NBMasterBar = None\n",
    "       self._epochProgressBar = None\n",
    "       \n",
    "   def preModelTeach(self, model, epochs):\n",
    "       super().preModelTeach(model, epochs)\n",
    "       self._masterProgressBar = master_bar(range(epochs))\n",
    "       self._masterProgressBar.on_iter_begin()\n",
    "       \n",
    "   def preEpoch(self, epoch, dataLoader: DataLoader):\n",
    "       super().preEpoch(epoch, dataLoader)\n",
    "       self._epochProgressBar = progress_bar(self._totalBatchesPerEpoch, parent=self._masterProgressBar, auto_update=False)\n",
    "       \n",
    "   def postBatchEvaluation(self, predictions, validationData):\n",
    "       super().postBatchEvaluation(predictions, validationData)\n",
    "       \n",
    "   def postModelTeach(self):\n",
    "       super().postModelTeach()\n",
    "       self._masterProgressBar.on_iter_end()\n",
    "       \n",
    "   \n",
    "       "
   ],
   "metadata": {
    "collapsed": false,
    "pycharm": {
     "name": "#%%\n",
     "is_executing": false
    }
   }
  },
  {
   "cell_type": "code",
   "execution_count": 61,
   "outputs": [],
   "source": [
    "    \n",
    "class TrainingSubscriber(StatisticsSubscriber, \n",
    "                         HookedSubscriber):\n",
    "\n",
    "    def __init__(self,\n",
    "                 lossFunction=torch.nn.functional.cross_entropy,\n",
    "                 schedulingFunction=cosineScheduler(1e-1, 1e-6), \n",
    "                 optimizationFunctions=[]\n",
    "                 ):\n",
    "        super().__init__(name=\"Training\")\n",
    "        self._optimizer: Optimizer = None\n",
    "        self._optimizationFunctions = optimizationFunctions\n",
    "        self._schedulingFunction = schedulingFunction\n",
    "        self._lossFunction = lossFunction\n",
    "        \n",
    "        self._learningRateRecorder = LearningRateRecorder()\n",
    "        \n",
    "    def plotLearningRate(self):\n",
    "        self._learningRateRecorder.plotLearningRates()\n",
    "        \n",
    "    def getOptimizationFunctions(self):\n",
    "        learningRateSupplier = lambda: self._schedulingFunction(self.calculateCurrentProgress())\n",
    "        totalStepsSupplier = lambda: self._totalTrainingBatches\n",
    "        self._learningRateRecorder = LearningRateRecorder(learningRateSupplier )\n",
    "        return [\n",
    "            # WeightDecayOptimizer(),\n",
    "            LearningRateAnnealer(self._learningRateRecorder),\n",
    "            \n",
    "            # AdamOptimizer(), # does not play well with others! see notes above\n",
    "            \n",
    "            LambOptimizer(), # Works well with Learning Rate Annealing\n",
    "            \n",
    "            # LarsOptimizer(totalStepsSupplier, self._learningRateRecorder),\n",
    "            \n",
    "            # MomentumOptimizer(),\n",
    "            # LearningRateOptimizer()\n",
    "            \n",
    "        ]\n",
    "\n",
    "    def preModelTeach(self, model, epochs):\n",
    "        super().preModelTeach(model, epochs)\n",
    "        self._optimizer = Optimizer(model.parameters(), \n",
    "                                    self.getOptimizationFunctions(),\n",
    "                                    HyperParameters(\n",
    "                                        weightDecay=0.01,\n",
    "                                        momentum=0.9,\n",
    "                                        learningRate=self._schedulingFunction(0)\n",
    "                                    ))\n",
    "        self._totalEpochs = epochs\n",
    "\n",
    "    def postBatchEvaluation(self, predictions, validationData):\n",
    "        super().postBatchEvaluation(predictions, validationData)\n",
    "        calculatedLoss = self._lossFunction(predictions, validationData)\n",
    "        self._teachModel(calculatedLoss)\n",
    "        self.postBatchLossConsumption(calculatedLoss)\n",
    "\n",
    "    def _teachModel(self, loss):\n",
    "        loss.backward() # adds auto gradients to model parameters\n",
    "        self._optimizer.optimizeModel()\n",
    "        self._optimizer.resetGradients() "
   ],
   "metadata": {
    "collapsed": false,
    "pycharm": {
     "name": "#%%\n",
     "is_executing": false
    }
   }
  },
  {
   "cell_type": "code",
   "execution_count": 62,
   "outputs": [],
   "source": [
    "class TeacherOptimized:\n",
    "    def __init__(self,\n",
    "                 dataBunch,\n",
    "                 trainingSubscriber: TrainingSubscriber,\n",
    "                 validationSubscriber: ValidationSubscriber):\n",
    "        self._dataBunch = dataBunch\n",
    "        self._trainingSubscriber = trainingSubscriber\n",
    "        self._validationSubscriber = validationSubscriber\n",
    "\n",
    "    def teachModel(self, model, numberOfEpochs):\n",
    "        self._notifiyPreTeach(model, numberOfEpochs)\n",
    "        for epoch in range(numberOfEpochs):\n",
    "            self._trainModel(model,\n",
    "                             epoch)\n",
    "            self._validateModel(model,\n",
    "                                epoch)\n",
    "        self._notifiyPostTaught()\n",
    "\n",
    "    def _notifiyPreTeach(self, model, epochs):\n",
    "        self._trainingSubscriber.preModelTeach(model, epochs)\n",
    "        self._validationSubscriber.preModelTeach(model, epochs)\n",
    "\n",
    "    def _notifiyPostTaught(self):\n",
    "        self._trainingSubscriber.postModelTeach()\n",
    "        self._validationSubscriber.postModelTeach()\n",
    "\n",
    "    def _trainModel(self, model, epoch):\n",
    "        self._processData(model,\n",
    "                          self._dataBunch.trainingDataSet,\n",
    "                          epoch,\n",
    "                          self._trainingSubscriber)\n",
    "\n",
    "    def _validateModel(self, model, epoch):\n",
    "        with torch.no_grad():\n",
    "            self._processData(model,\n",
    "                              self._dataBunch.validationDataSet,\n",
    "                              epoch,\n",
    "                              self._validationSubscriber)\n",
    "\n",
    "    def _processData(self,\n",
    "                     model,\n",
    "                     dataLoader,\n",
    "                     epoch,\n",
    "                     processingSubscriber: Subscriber):\n",
    "        processingSubscriber.preEpoch(epoch, dataLoader)\n",
    "        try:\n",
    "            for _xDataBatch, _yDataBatch in dataLoader:\n",
    "                processingSubscriber.preBatchEvaluation()\n",
    "                _predictions = model(_xDataBatch)\n",
    "                processingSubscriber.postBatchEvaluation(_predictions, _yDataBatch)\n",
    "        except ProcessCancellationException: pass\n",
    "        finally:\n",
    "            processingSubscriber.postEpoch(epoch)\n"
   ],
   "metadata": {
    "collapsed": false,
    "pycharm": {
     "name": "#%%\n",
     "is_executing": false
    }
   }
  },
  {
   "cell_type": "code",
   "execution_count": 63,
   "outputs": [],
   "source": [
    "#export\n",
    "def createCosineScheduler(start, high, end):\n",
    "    return [cosineScheduler(start, high), cosineScheduler(high, end)]\n",
    "\n",
    "def createWeightAndBiasSchedulers(weightsRanges=(0.3, 0.6, 0.2)):\n",
    "    phases = [0.3, 0.7]\n",
    "    _weightsScheduler = aggregateSchedulers(phases, createCosineScheduler(*weightsRanges)) \n",
    "    _biasScheduler = aggregateSchedulers(phases, createCosineScheduler(0.9, 1.8, 0.6))\n",
    "    return _weightsScheduler, _biasScheduler"
   ],
   "metadata": {
    "collapsed": false,
    "pycharm": {
     "name": "#%%\n",
     "is_executing": false
    }
   }
  },
  {
   "cell_type": "code",
   "execution_count": 64,
   "outputs": [],
   "source": [
    "validationSubscriber = ValidationSubscriber()\n"
   ],
   "metadata": {
    "collapsed": false,
    "pycharm": {
     "name": "#%%\n",
     "is_executing": false
    }
   }
  },
  {
   "cell_type": "code",
   "execution_count": 65,
   "outputs": [],
   "source": [
    "weightScheduler, biasScheduler = createWeightAndBiasSchedulers()"
   ],
   "metadata": {
    "collapsed": false,
    "pycharm": {
     "name": "#%%\n",
     "is_executing": false
    }
   }
  },
  {
   "cell_type": "markdown",
   "source": [
    "## AdaM Notes\n",
    "\n",
    "Adam likes to have smaller learning rates somewhere around 1e-3.\n",
    "The current default weights scheduler is too high for Adam.\n",
    "\n",
    "Adam: Adaptive Moment Estimation\n",
    "\n",
    "> Some of Adam’s advantages are that the magnitudes of parameter updates are invariant to\n",
    "rescaling of the gradient, its stepsizes are approximately bounded by the stepsize hyperparameter,\n",
    "it does not require a stationary objective, it works with sparse gradients, and it naturally performs a\n",
    "form of step size annealing.\n",
    "\n",
    "## it naturally performs a form of step size annealing"
   ],
   "metadata": {
    "collapsed": false,
    "pycharm": {
     "name": "#%% md\n"
    }
   }
  },
  {
   "cell_type": "code",
   "execution_count": 66,
   "outputs": [],
   "source": [
    "adamWeightScheduler, adamBiasScheduler = createWeightAndBiasSchedulers((1e-3, 1e-3, 2e-6))\n",
    "lambWeightScheduler, lambBiasScheduler = createWeightAndBiasSchedulers((1e-2, 1e-2, 2e-6))"
   ],
   "metadata": {
    "collapsed": false,
    "pycharm": {
     "name": "#%%\n",
     "is_executing": false
    }
   }
  },
  {
   "cell_type": "code",
   "execution_count": 67,
   "outputs": [],
   "source": [
    "trainingSubscriber = TrainingSubscriber(schedulingFunction=lambWeightScheduler)"
   ],
   "metadata": {
    "collapsed": false,
    "pycharm": {
     "name": "#%%\n",
     "is_executing": false
    }
   }
  },
  {
   "cell_type": "code",
   "execution_count": 68,
   "outputs": [],
   "source": [
    "teacher = TeacherEnhanced(imageDataBunch, \n",
    "                          trainingSubscriber,\n",
    "                          validationSubscriber\n",
    "                         )\n"
   ],
   "metadata": {
    "collapsed": false,
    "pycharm": {
     "name": "#%%\n",
     "is_executing": false
    }
   }
  },
  {
   "cell_type": "code",
   "execution_count": 69,
   "outputs": [],
   "source": [
    "convolutionalModelSR1 = createBetterConvolutionModel(numberOfClasses, layerSizes)\n"
   ],
   "metadata": {
    "collapsed": false,
    "pycharm": {
     "name": "#%%\n",
     "is_executing": false
    }
   }
  },
  {
   "cell_type": "code",
   "execution_count": 70,
   "outputs": [
    {
     "data": {
      "text/plain": "tensor(0.1030)"
     },
     "metadata": {},
     "output_type": "execute_result",
     "execution_count": 70
    }
   ],
   "source": [
    "accuracy(convolutionalModelSR1(validationDataSet.xVector), validationDataSet.yVector)"
   ],
   "metadata": {
    "collapsed": false,
    "pycharm": {
     "name": "#%%\n",
     "is_executing": false
    }
   }
  },
  {
   "cell_type": "code",
   "execution_count": 71,
   "outputs": [
    {
     "name": "stdout",
     "text": [
      "Epoch #0 Training: Loss 1.1954481601715088 Accuracy 0.5992237329483032\n",
      "Epoch #0 Validation: Loss 0.0 Accuracy 0.9171281456947327\n",
      "Epoch #1 Training: Loss 0.18790075182914734 Accuracy 0.9409832954406738\n",
      "Epoch #1 Validation: Loss 0.0 Accuracy 0.9635087251663208\n",
      "Epoch #2 Training: Loss 0.08069892227649689 Accuracy 0.9752189517021179\n",
      "Epoch #2 Validation: Loss 0.0 Accuracy 0.9710245132446289\n"
     ],
     "output_type": "stream"
    }
   ],
   "source": [
    "teacher.teachModel(convolutionalModelSR1, 3)"
   ],
   "metadata": {
    "collapsed": false,
    "pycharm": {
     "name": "#%%\n",
     "is_executing": false
    }
   }
  },
  {
   "cell_type": "code",
   "source": [
    "accuracy(convolutionalModelSR1(validationDataSet.xVector), validationDataSet.yVector)"
   ],
   "metadata": {
    "collapsed": false,
    "pycharm": {
     "name": "#%% \n",
     "is_executing": false
    }
   },
   "execution_count": 72,
   "outputs": [
    {
     "data": {
      "text/plain": "tensor(0.9707)"
     },
     "metadata": {},
     "output_type": "execute_result",
     "execution_count": 72
    }
   ]
  },
  {
   "cell_type": "code",
   "execution_count": 73,
   "outputs": [
    {
     "data": {
      "text/plain": "<Figure size 432x288 with 1 Axes>",
      "image/png": "[encoded data removed]"
     },
     "metadata": {
      "needs_background": "light"
     },
     "output_type": "display_data"
    }
   ],
   "source": [
    "trainingSubscriber.plotLearningRate()"
   ],
   "metadata": {
    "collapsed": false,
    "pycharm": {
     "name": "#%%\n",
     "is_executing": false
    }
   }
  },
  {
   "cell_type": "code",
   "execution_count": 74,
   "outputs": [
    {
     "data": {
      "text/plain": "<Figure size 720x288 with 2 Axes>",
      "image/png": "[encoded data removed]"
     },
     "metadata": {
      "needs_background": "light"
     },
     "output_type": "display_data"
    }
   ],
   "source": [
    "trainingSubscriber.plotMeansAndStandardDeviations()"
   ],
   "metadata": {
    "collapsed": false,
    "pycharm": {
     "name": "#%%\n",
     "is_executing": false
    }
   }
  },
  {
   "cell_type": "markdown",
   "source": [
    "## Todo: \n",
    "\n",
    "- Loss Rate Plotter\n",
    "\n",
    "## Things to look at later\n",
    "\n",
    "- Learning Rate Capping\n",
    "- Bias Learning rate annealing\n"
   ],
   "metadata": {
    "collapsed": false,
    "pycharm": {
     "name": "#%% md\n",
     "is_executing": false
    }
   }
  },
  {
   "cell_type": "code",
   "execution_count": 74,
   "outputs": [],
   "source": [
    "\n"
   ],
   "metadata": {
    "collapsed": false,
    "pycharm": {
     "name": "#%%\n",
     "is_executing": false
    }
   }
  }
 ],
 "metadata": {
  "language_info": {
   "codemirror_mode": {
    "name": "ipython",
    "version": 2
   },
   "file_extension": ".py",
   "mimetype": "text/x-python",
   "name": "python",
   "nbconvert_exporter": "python",
   "pygments_lexer": "ipython2",
   "version": "2.7.6"
  },
  "kernelspec": {
   "name": "python3",
   "language": "python",
   "display_name": "Python 3"
  },
  "pycharm": {
   "stem_cell": {
    "cell_type": "raw",
    "source": [],
    "metadata": {
     "collapsed": false
    }
   }
  }
 },
 "nbformat": 4,
 "nbformat_minor": 0
}