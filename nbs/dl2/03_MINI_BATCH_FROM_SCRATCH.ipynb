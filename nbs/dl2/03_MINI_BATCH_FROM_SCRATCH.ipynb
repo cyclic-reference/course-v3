{
 "cells": [
  {
   "cell_type": "code",
   "execution_count": 287,
   "metadata": {},
   "outputs": [],
   "source": [
    "%matplotlib inline"
   ]
  },
  {
   "cell_type": "code",
   "execution_count": 288,
   "metadata": {},
   "outputs": [],
   "source": [
    "#export\n",
    "from exp.nb_02 import *\n",
    "import torch.nn.functional as Functional"
   ]
  },
  {
   "cell_type": "code",
   "execution_count": 289,
   "metadata": {},
   "outputs": [],
   "source": [
    "mathPlotLib.rcParams['image.cmap'] = 'plasma'"
   ]
  },
  {
   "cell_type": "markdown",
   "metadata": {},
   "source": [
    "Data Setup\n",
    "---\n",
    "\n",
    "- Make Sure Data is normalized"
   ]
  },
  {
   "cell_type": "code",
   "execution_count": 290,
   "metadata": {},
   "outputs": [],
   "source": [
    "xTraining,yTraining,xValidation,yValidation = getMnistData()"
   ]
  },
  {
   "cell_type": "markdown",
   "metadata": {},
   "source": [
    "Make sure that the data is normalized, so that it has $\\mu$ = 0 and $\\sigma$ = 1"
   ]
  },
  {
   "cell_type": "code",
   "execution_count": 291,
   "metadata": {},
   "outputs": [
    {
     "data": {
      "text/plain": [
       "(tensor(0.1304), tensor(0.3073))"
      ]
     },
     "execution_count": 291,
     "metadata": {},
     "output_type": "execute_result"
    }
   ],
   "source": [
    "xTraining.mean(), xTraining.std()"
   ]
  },
  {
   "cell_type": "markdown",
   "metadata": {},
   "source": [
    "Totally not normalized, let's fix that"
   ]
  },
  {
   "cell_type": "code",
   "execution_count": 292,
   "metadata": {},
   "outputs": [],
   "source": [
    "xTrainingNormalized = normalizeVector(xTraining, xTraining.mean(), xTraining.std())"
   ]
  },
  {
   "cell_type": "code",
   "execution_count": 293,
   "metadata": {},
   "outputs": [
    {
     "data": {
      "text/plain": [
       "(tensor(-7.6999e-06), tensor(1.))"
      ]
     },
     "execution_count": 293,
     "metadata": {},
     "output_type": "execute_result"
    }
   ],
   "source": [
    "xTrainingNormalized.mean(), xTrainingNormalized.std()"
   ]
  },
  {
   "cell_type": "markdown",
   "metadata": {},
   "source": [
    "# \\\\0/ \n",
    "Yay! Normalized!"
   ]
  },
  {
   "cell_type": "markdown",
   "metadata": {},
   "source": [
    "Model Setup\n",
    "---\n"
   ]
  },
  {
   "cell_type": "code",
   "execution_count": 294,
   "metadata": {},
   "outputs": [],
   "source": [
    "rows, columns = xTrainingNormalized.shape\n",
    "numberOfClasses = yTraining.max() + 1. # Largest digit to recognize :)\n",
    "layerOutput = 50"
   ]
  },
  {
   "cell_type": "code",
   "execution_count": 295,
   "metadata": {},
   "outputs": [
    {
     "data": {
      "text/plain": [
       "10"
      ]
     },
     "execution_count": 295,
     "metadata": {},
     "output_type": "execute_result"
    }
   ],
   "source": [
    "numberOfClasses.item()"
   ]
  },
  {
   "cell_type": "code",
   "execution_count": 296,
   "metadata": {},
   "outputs": [],
   "source": [
    "class DigitRecognitionModel(torch.nn.Module):\n",
    "    def __init__(self, inputSize, numberOfClasses, layerOutput):\n",
    "        super().__init__()\n",
    "        self.layers = [torch.nn.Linear(inputSize, layerOutput), # Take in image vectors, output reduced matrix\n",
    "                       torch.nn.ReLU(), # Perform activations\n",
    "                       torch.nn.Linear(layerOutput, numberOfClasses)] # Predict digit classes.\n",
    "#         self.layers = [layer.cuda() for layer in self.layers]\n",
    "    def __call__(self, trainingSet):\n",
    "        layerInput = trainingSet\n",
    "        for layer in self.layers: layerInput = layer(layerInput)\n",
    "        return layerInput"
   ]
  },
  {
   "cell_type": "code",
   "execution_count": 297,
   "metadata": {},
   "outputs": [],
   "source": [
    "digitReconModel = DigitRecognitionModel(columns, numberOfClasses.item(), layerOutput)"
   ]
  },
  {
   "cell_type": "code",
   "execution_count": 298,
   "metadata": {},
   "outputs": [
    {
     "data": {
      "text/plain": [
       "[Linear(in_features=784, out_features=50, bias=True),\n",
       " ReLU(),\n",
       " Linear(in_features=50, out_features=10, bias=True)]"
      ]
     },
     "execution_count": 298,
     "metadata": {},
     "output_type": "execute_result"
    }
   ],
   "source": [
    "digitReconModel.layers"
   ]
  },
  {
   "cell_type": "code",
   "execution_count": 299,
   "metadata": {},
   "outputs": [],
   "source": [
    "rawPredictions = digitReconModel(xTrainingNormalized)"
   ]
  },
  {
   "cell_type": "code",
   "execution_count": 300,
   "metadata": {},
   "outputs": [
    {
     "data": {
      "text/plain": [
       "torch.Size([50000, 10])"
      ]
     },
     "execution_count": 300,
     "metadata": {},
     "output_type": "execute_result"
    }
   ],
   "source": [
    "rawPredictions.shape"
   ]
  },
  {
   "cell_type": "code",
   "execution_count": 301,
   "metadata": {},
   "outputs": [
    {
     "data": {
      "text/plain": [
       "tensor([[-0.3872, -0.5327, -0.4959,  ..., -0.1437,  0.2116,  0.4025],\n",
       "        [-0.2054, -0.4431, -0.3664,  ..., -0.3712,  0.2399,  0.4051],\n",
       "        [ 0.1426, -0.0157,  0.1514,  ..., -0.0771,  0.2230, -0.0040],\n",
       "        ...,\n",
       "        [ 0.0499, -0.0287, -0.3104,  ..., -0.1593,  0.2385,  0.1238],\n",
       "        [ 0.0585, -0.1225, -0.5098,  ..., -0.0896,  0.0994,  0.4788],\n",
       "        [ 0.3179,  0.1188, -0.0957,  ..., -0.2139,  0.3013,  0.2271]],\n",
       "       grad_fn=<AddmmBackward>)"
      ]
     },
     "execution_count": 301,
     "metadata": {},
     "output_type": "execute_result"
    }
   ],
   "source": [
    "rawPredictions"
   ]
  },
  {
   "cell_type": "markdown",
   "metadata": {},
   "source": [
    "Loss Function\n",
    "---\n",
    "\n",
    "### Predictions\n",
    "\n",
    "Your model has to predict something so that we cat teach it something.\n",
    "\n",
    "First, we will need to compute the softmax of our **activations**. This is defined by:\n",
    "\n",
    "$$\\hbox{softmax}(\\vec{x})_{i} = \\frac{e^{x_{i}}}{\\sum_{0 \\leq j \\leq n-1} e^{x_{j}}}$$ \n",
    "\n",
    "Which inturn turns the activations from the last layer into predictions of the probablity of belonging to one of the output classes.\n",
    "\n",
    "$\\hbox{exp}(constant) = e^{constant}$\n"
   ]
  },
  {
   "cell_type": "code",
   "execution_count": 302,
   "metadata": {},
   "outputs": [],
   "source": [
    "def softMaxLoss(predictionVector):\n",
    "    return (predictionVector.exp()/predictionVector.exp().sum(-1, keepdim=True))"
   ]
  },
  {
   "cell_type": "code",
   "execution_count": 303,
   "metadata": {},
   "outputs": [],
   "source": [
    "predictions = softMaxLoss(rawPredictions)"
   ]
  },
  {
   "cell_type": "code",
   "execution_count": 304,
   "metadata": {},
   "outputs": [
    {
     "data": {
      "text/plain": [
       "tensor([[0.0647, 0.0560, 0.0581,  ..., 0.0826, 0.1178, 0.1426],\n",
       "        [0.0831, 0.0655, 0.0707,  ..., 0.0704, 0.1297, 0.1530],\n",
       "        [0.1082, 0.0923, 0.1091,  ..., 0.0868, 0.1172, 0.0934],\n",
       "        ...,\n",
       "        [0.0985, 0.0911, 0.0687,  ..., 0.0799, 0.1190, 0.1061],\n",
       "        [0.1013, 0.0845, 0.0574,  ..., 0.0873, 0.1055, 0.1542],\n",
       "        [0.1242, 0.1018, 0.0822,  ..., 0.0730, 0.1222, 0.1134]],\n",
       "       grad_fn=<DivBackward0>)"
      ]
     },
     "execution_count": 304,
     "metadata": {},
     "output_type": "execute_result"
    }
   ],
   "source": [
    "predictions"
   ]
  },
  {
   "cell_type": "code",
   "execution_count": 305,
   "metadata": {},
   "outputs": [
    {
     "data": {
      "text/plain": [
       "tensor([1.0000, 1.0000, 1.0000,  ..., 1.0000, 1.0000, 1.0000],\n",
       "       grad_fn=<SumBackward2>)"
      ]
     },
     "execution_count": 305,
     "metadata": {},
     "output_type": "execute_result"
    }
   ],
   "source": [
    "predictions.sum(-1)"
   ]
  },
  {
   "cell_type": "markdown",
   "metadata": {},
   "source": [
    "We can see that it outputs a bunch of ones when we sum the softmax vectors together, which is expected :D"
   ]
  },
  {
   "cell_type": "markdown",
   "metadata": {},
   "source": [
    "*Apparently in practice you have to take the log of soft max to get something useful*"
   ]
  },
  {
   "cell_type": "code",
   "execution_count": 306,
   "metadata": {},
   "outputs": [],
   "source": [
    "predicitonsLogged = predictions.log()"
   ]
  },
  {
   "cell_type": "code",
   "execution_count": 307,
   "metadata": {},
   "outputs": [
    {
     "data": {
      "text/plain": [
       "tensor([-23.6066, -23.4864, -23.0930,  ..., -23.3039, -23.3799, -23.1664],\n",
       "       grad_fn=<SumBackward2>)"
      ]
     },
     "execution_count": 307,
     "metadata": {},
     "output_type": "execute_result"
    }
   ],
   "source": [
    "predicitonsLogged.sum(-1)"
   ]
  },
  {
   "cell_type": "markdown",
   "metadata": {},
   "source": [
    "## Loss\n",
    "### Entropy Loss\n",
    "\n",
    "$$ -\\sum x\\, \\log p(x) $$\n",
    "\n",
    "\n",
    "**Step One: Figure out how to get validation data**"
   ]
  },
  {
   "cell_type": "code",
   "execution_count": 308,
   "metadata": {},
   "outputs": [
    {
     "data": {
      "text/plain": [
       "tensor([7, 8, 3])"
      ]
     },
     "execution_count": 308,
     "metadata": {},
     "output_type": "execute_result"
    }
   ],
   "source": [
    "yTraining[96:99]"
   ]
  },
  {
   "cell_type": "markdown",
   "metadata": {},
   "source": [
    "These are the digits that each x is supposed to represent lets see!\n",
    "\n",
    "The 96th is supposed to be a **7**"
   ]
  },
  {
   "cell_type": "code",
   "execution_count": 309,
   "metadata": {},
   "outputs": [
    {
     "data": {
      "text/plain": [
       "<matplotlib.image.AxesImage at 0x1a2e96fdd8>"
      ]
     },
     "execution_count": 309,
     "metadata": {},
     "output_type": "execute_result"
    },
    {
     "data": {
      "image/png": "[encoded data removed]",
      "text/plain": [
       "<Figure size 432x288 with 1 Axes>"
      ]
     },
     "metadata": {
      "needs_background": "light"
     },
     "output_type": "display_data"
    }
   ],
   "source": [
    "plotter.imshow(xTrainingNormalized[96].cpu().view(28,28))"
   ]
  },
  {
   "cell_type": "markdown",
   "metadata": {},
   "source": [
    "Well would you look at that, ain't that neat?\n",
    "\n",
    "Now let's see what our model thought how much this image looked like a **7**"
   ]
  },
  {
   "cell_type": "code",
   "execution_count": 310,
   "metadata": {},
   "outputs": [
    {
     "data": {
      "text/plain": [
       "tensor(-2.3281, grad_fn=<SelectBackward>)"
      ]
     },
     "execution_count": 310,
     "metadata": {},
     "output_type": "execute_result"
    }
   ],
   "source": [
    "predicitonsLogged[96][6]"
   ]
  },
  {
   "cell_type": "markdown",
   "metadata": {},
   "source": [
    "# 🤔\n",
    "Looks like it did not do a very good job, let's tell it what it needs to do to fix that\n",
    "\n",
    "First, let's look at what our range looks like"
   ]
  },
  {
   "cell_type": "code",
   "execution_count": 311,
   "metadata": {},
   "outputs": [
    {
     "data": {
      "text/plain": [
       "tensor([[-2.4033, -2.1348, -2.5309, -2.2711, -2.6368, -2.1228, -2.3281, -2.4963,\n",
       "         -2.2511, -2.0242],\n",
       "        [-2.5394, -2.5198, -2.9830, -1.9815, -2.4293, -2.2612, -2.4765, -2.7058,\n",
       "         -1.9408, -1.7998],\n",
       "        [-2.2056, -2.2809, -2.6385, -2.1681, -2.4669, -2.3054, -2.0655, -2.5011,\n",
       "         -2.1394, -2.3999]], grad_fn=<IndexBackward>)"
      ]
     },
     "execution_count": 311,
     "metadata": {},
     "output_type": "execute_result"
    }
   ],
   "source": [
    "predicitonsLogged[[96,97,98]]"
   ]
  },
  {
   "cell_type": "markdown",
   "metadata": {},
   "source": [
    "Now let's remind ourselves what our expected digits are suppossed to be."
   ]
  },
  {
   "cell_type": "code",
   "execution_count": 312,
   "metadata": {},
   "outputs": [
    {
     "data": {
      "text/plain": [
       "tensor([7, 8, 3])"
      ]
     },
     "execution_count": 312,
     "metadata": {},
     "output_type": "execute_result"
    }
   ],
   "source": [
    "yTraining[96:99]"
   ]
  },
  {
   "cell_type": "markdown",
   "metadata": {},
   "source": [
    "**Combine all for profit**"
   ]
  },
  {
   "cell_type": "code",
   "execution_count": 313,
   "metadata": {},
   "outputs": [
    {
     "data": {
      "text/plain": [
       "tensor([-2.4963, -1.9408, -2.1681], grad_fn=<IndexBackward>)"
      ]
     },
     "execution_count": 313,
     "metadata": {},
     "output_type": "execute_result"
    }
   ],
   "source": [
    "predicitonsLogged[[96,97,98], [7,8,3]]"
   ]
  },
  {
   "cell_type": "markdown",
   "metadata": {},
   "source": [
    "Now we can see what our model's predictions where for each of the digits. And **they are all bad**!\n",
    "\n",
    "Let's now use this knowlege to perform\n",
    "\n",
    "$$ -\\sum x\\, \\log p(x) $$\n"
   ]
  },
  {
   "cell_type": "code",
   "execution_count": 314,
   "metadata": {},
   "outputs": [],
   "source": [
    "def lossFundie(predictionVector, expectedVector): # expected vector is an array of numbers eg [4, 3, 9, 8] which correspond to each of the output classes.\n",
    "    items = range(predictionVector.shape[0]) # 0 to 50000 iterator\n",
    "    return -predictionVector[items, expectedVector].mean()\n"
   ]
  },
  {
   "cell_type": "code",
   "execution_count": 315,
   "metadata": {},
   "outputs": [],
   "source": [
    "loss = lossFundie(predicitonsLogged, yTraining)"
   ]
  },
  {
   "cell_type": "code",
   "execution_count": 316,
   "metadata": {},
   "outputs": [
    {
     "data": {
      "text/plain": [
       "tensor(2.3218, grad_fn=<NegBackward>)"
      ]
     },
     "execution_count": 316,
     "metadata": {},
     "output_type": "execute_result"
    }
   ],
   "source": [
    "loss"
   ]
  },
  {
   "cell_type": "markdown",
   "metadata": {},
   "source": [
    "### Enhanced LogMax!\n",
    "\n",
    "Then, there is a way to compute the log of the sum of exponentials in a more stable way, called the [LogSumExp trick](https://en.wikipedia.org/wiki/LogSumExp). The idea is to use the following formula:\n",
    "\n",
    "$$\\log \\left ( \\sum_{j=1}^{n} e^{x_{j}} \\right ) = \\log \\left ( e^{a} \\sum_{j=1}^{n} e^{x_{j}-a} \\right ) = a + \\log \\left ( \\sum_{j=1}^{n} e^{x_{j}-a} \\right )$$\n",
    "\n",
    "where a is the maximum of the $x_{j}$."
   ]
  },
  {
   "cell_type": "code",
   "execution_count": 317,
   "metadata": {},
   "outputs": [],
   "source": [
    "def logMaxEnhanced(predictions):\n",
    "    return predictions - predictions.logsumexp(-1, keepdim=True)"
   ]
  },
  {
   "cell_type": "code",
   "execution_count": 318,
   "metadata": {},
   "outputs": [],
   "source": [
    "predictionsEnhanced = logMaxEnhanced(predicitonsLogged)"
   ]
  },
  {
   "cell_type": "code",
   "execution_count": 319,
   "metadata": {},
   "outputs": [],
   "source": [
    "testNear(lossFundie(predictionsEnhanced, yTraining), loss)"
   ]
  },
  {
   "cell_type": "markdown",
   "metadata": {},
   "source": [
    "Now that we have all of the things that we need to tell our model that it is doing a bad job. Now let's move on to teaching it how to be better. The first step there is the \n",
    "\n",
    "Training loop\n",
    "---"
   ]
  },
  {
   "cell_type": "code",
   "execution_count": 320,
   "metadata": {},
   "outputs": [],
   "source": [
    "realLossFunction = Functional.cross_entropy"
   ]
  },
  {
   "cell_type": "code",
   "execution_count": 321,
   "metadata": {},
   "outputs": [],
   "source": [
    "batchSize = 64"
   ]
  },
  {
   "cell_type": "code",
   "execution_count": 322,
   "metadata": {},
   "outputs": [],
   "source": [
    "#export\n",
    "def accuracy(predictionVector, expectedVector):\n",
    "    return (torch.argmax(predictionVector, dim=1) == expectedVector).float().mean()"
   ]
  },
  {
   "cell_type": "code",
   "execution_count": 323,
   "metadata": {},
   "outputs": [],
   "source": [
    "inputBatch = xTrainingNormalized[0:batchSize]\n",
    "expectedOutputBatch = yTraining[0:batchSize]"
   ]
  },
  {
   "cell_type": "code",
   "execution_count": 324,
   "metadata": {},
   "outputs": [],
   "source": [
    "predictions = digitReconModel(inputBatch)"
   ]
  },
  {
   "cell_type": "code",
   "execution_count": 325,
   "metadata": {},
   "outputs": [
    {
     "data": {
      "text/plain": [
       "(torch.Size([64, 10]),\n",
       " tensor([-0.3872, -0.5327, -0.4959,  0.3915, -0.0376,  0.3730,  0.1169, -0.1437,\n",
       "          0.2116,  0.4025], grad_fn=<SelectBackward>))"
      ]
     },
     "execution_count": 325,
     "metadata": {},
     "output_type": "execute_result"
    }
   ],
   "source": [
    "predictions.shape, predictions[0]"
   ]
  },
  {
   "cell_type": "code",
   "execution_count": 326,
   "metadata": {},
   "outputs": [],
   "source": [
    "predictionsSoftMaxed = softMaxLoss(predictions).log()"
   ]
  },
  {
   "cell_type": "code",
   "execution_count": 327,
   "metadata": {},
   "outputs": [
    {
     "data": {
      "text/plain": [
       "tensor([9, 9, 8,  ..., 6, 9, 0])"
      ]
     },
     "execution_count": 327,
     "metadata": {},
     "output_type": "execute_result"
    }
   ],
   "source": [
    "# The numbers our model guessed\n",
    "torch.argmax(predictionsEnhanced, dim=1)"
   ]
  },
  {
   "cell_type": "code",
   "execution_count": 328,
   "metadata": {},
   "outputs": [
    {
     "data": {
      "text/plain": [
       "tensor([-1.9480, -1.8775, -2.1438, -2.0242, -2.0767, -1.7691, -1.9394, -1.8847,\n",
       "        -1.9641, -2.0388, -2.0140, -2.0925, -2.0549, -2.0589, -2.0535, -1.9882,\n",
       "        -1.7559, -1.9391, -2.1218, -2.1305, -2.0132, -1.9379, -2.1349, -2.0537,\n",
       "        -1.5373, -1.7949, -2.0526, -1.9774, -1.7432, -2.0310, -2.0379, -1.7661,\n",
       "        -1.8911, -1.9774, -1.8800, -2.0218, -1.9286, -1.9246, -1.9899, -1.8869,\n",
       "        -2.1555, -1.8745, -2.0541, -2.0687, -2.0345, -1.8872, -2.0867, -1.9217,\n",
       "        -2.0325, -1.9956, -1.9493, -1.9070, -2.0198, -2.0715, -1.9224, -1.9747,\n",
       "        -1.9991, -2.1033, -1.9085, -2.0083, -2.1535, -1.9370, -2.0715, -1.9119],\n",
       "       grad_fn=<IndexBackward>)"
      ]
     },
     "execution_count": 328,
     "metadata": {},
     "output_type": "execute_result"
    }
   ],
   "source": [
    "# The largest prediction levels for each tuple.\n",
    "predictionsSoftMaxed[range(0, batchSize), torch.argmax(predictionsSoftMaxed, dim=1)]"
   ]
  },
  {
   "cell_type": "code",
   "execution_count": 341,
   "metadata": {},
   "outputs": [
    {
     "data": {
      "text/plain": [
       "tensor(0.1250)"
      ]
     },
     "execution_count": 341,
     "metadata": {},
     "output_type": "execute_result"
    }
   ],
   "source": [
    "accuracy(predictions, expectedOutputBatch)"
   ]
  },
  {
   "cell_type": "markdown",
   "metadata": {},
   "source": [
    "About as good as random guessing."
   ]
  },
  {
   "cell_type": "markdown",
   "metadata": {},
   "source": [
    "# How to train a model"
   ]
  },
  {
   "cell_type": "code",
   "execution_count": 332,
   "metadata": {},
   "outputs": [],
   "source": [
    "learningRate = 0.5\n",
    "epochs = 1"
   ]
  },
  {
   "cell_type": "markdown",
   "metadata": {},
   "source": [
    "### Get ready to train!"
   ]
  },
  {
   "cell_type": "code",
   "execution_count": 334,
   "metadata": {},
   "outputs": [],
   "source": [
    "for epoch in range(epochs):\n",
    "    for i in range((rows//batchSize + 1)): # Process each of the batches\n",
    "        beginningRange = i * batchSize\n",
    "        endingRange = beginningRange + batchSize\n",
    "        _inputBatch = xTrainingNormalized[beginningRange:endingRange]\n",
    "        validationBatch = yTraining[beginningRange:endingRange]\n",
    "        preds = digitReconModel(_inputBatch)\n",
    "        loss = realLossFunction(preds, validationBatch)\n",
    "        \n",
    "        loss.backward()\n",
    "        \n",
    "        with torch.no_grad():\n",
    "            for layer in digitReconModel.layers:\n",
    "                if hasattr(layer, 'weight'):\n",
    "                    layer.weight -= layer.weight.grad * learningRate\n",
    "                    layer.bias -= layer.bias.grad * learningRate\n",
    "                    layer.weight.grad.zero_()\n",
    "                    layer.bias.grad.zero_()\n"
   ]
  },
  {
   "cell_type": "code",
   "execution_count": 337,
   "metadata": {},
   "outputs": [
    {
     "data": {
      "text/plain": [
       "tensor([5, 0, 4, 1, 9, 2, 1, 3, 1, 4, 3, 5, 3, 6, 1, 7, 2, 8, 6, 9, 4, 0, 9, 1,\n",
       "        1, 3, 4, 3, 7, 7, 3, 8, 6, 9, 0, 5, 6, 0, 7, 6, 1, 8, 7, 9, 3, 9, 8, 5,\n",
       "        5, 3, 3, 0, 7, 4, 9, 8, 0, 9, 4, 1, 4, 4, 6, 0])"
      ]
     },
     "execution_count": 337,
     "metadata": {},
     "output_type": "execute_result"
    }
   ],
   "source": [
    "torch.argmax(digitReconModel(inputBatch), dim=1)"
   ]
  },
  {
   "cell_type": "code",
   "execution_count": 338,
   "metadata": {},
   "outputs": [
    {
     "data": {
      "text/plain": [
       "tensor([5, 0, 4, 1, 9, 2, 1, 3, 1, 4, 3, 5, 3, 6, 1, 7, 2, 8, 6, 9, 4, 0, 9, 1,\n",
       "        1, 2, 4, 3, 2, 7, 3, 8, 6, 9, 0, 5, 6, 0, 7, 6, 1, 8, 7, 9, 3, 9, 8, 5,\n",
       "        9, 3, 3, 0, 7, 4, 9, 8, 0, 9, 4, 1, 4, 4, 6, 0])"
      ]
     },
     "execution_count": 338,
     "metadata": {},
     "output_type": "execute_result"
    }
   ],
   "source": [
    "expectedOutputBatch"
   ]
  },
  {
   "cell_type": "code",
   "execution_count": 340,
   "metadata": {},
   "outputs": [
    {
     "data": {
      "text/plain": [
       "tensor(0.9355)"
      ]
     },
     "execution_count": 340,
     "metadata": {},
     "output_type": "execute_result"
    }
   ],
   "source": [
    "accuracy(digitReconModel(xTrainingNormalized[69:100]), yTraining[69:100])"
   ]
  },
  {
   "cell_type": "markdown",
   "metadata": {},
   "source": [
    "Yay! Higher accuracy rates!\n",
    "\n",
    "**Moving on to refactoring the model to have that enhancement**"
   ]
  },
  {
   "cell_type": "code",
   "execution_count": 351,
   "metadata": {},
   "outputs": [],
   "source": [
    "class EnhancedDigitModel(torch.nn.Module): \n",
    "    def __init__(self, inputSize, numberHiddenLayers, classes):\n",
    "        super().__init__()\n",
    "        self.layerOne = torch.nn.Linear(inputSize, numberHiddenLayers)\n",
    "        self.layerTwo = torch.nn.Linear(numberHiddenLayers, classes)\n",
    "        \n",
    "    def __call__(self, inputMatrix): return self.layerTwo(Functional.relu(self.layerOne(inputMatrix)))"
   ]
  },
  {
   "cell_type": "code",
   "execution_count": 353,
   "metadata": {},
   "outputs": [],
   "source": [
    "enhancedDigitModel = EnhancedDigitModel(columns, layerOutput, numberOfClasses.item())"
   ]
  },
  {
   "cell_type": "code",
   "execution_count": 355,
   "metadata": {},
   "outputs": [],
   "source": [
    "predictions = enhancedDigitModel(inputBatch)"
   ]
  },
  {
   "cell_type": "code",
   "execution_count": 358,
   "metadata": {},
   "outputs": [
    {
     "data": {
      "text/plain": [
       "tensor([2, 8, 0, 2, 8, 8, 2, 2, 8, 2, 2, 2, 2, 6, 8, 2, 6, 2, 3, 2, 2, 2, 2, 2,\n",
       "        2, 8, 8, 2, 2, 8, 2, 2, 6, 2, 8, 2, 2, 8, 8, 8, 8, 8, 8, 2, 2, 8, 2, 8,\n",
       "        9, 2, 6, 2, 8, 3, 2, 2, 8, 8, 2, 2, 8, 8, 3, 2])"
      ]
     },
     "execution_count": 358,
     "metadata": {},
     "output_type": "execute_result"
    }
   ],
   "source": [
    "torch.argmax(predictions, dim=1)"
   ]
  },
  {
   "cell_type": "code",
   "execution_count": 359,
   "metadata": {},
   "outputs": [
    {
     "data": {
      "text/plain": [
       "tensor([5, 0, 4, 1, 9, 2, 1, 3, 1, 4, 3, 5, 3, 6, 1, 7, 2, 8, 6, 9, 4, 0, 9, 1,\n",
       "        1, 2, 4, 3, 2, 7, 3, 8, 6, 9, 0, 5, 6, 0, 7, 6, 1, 8, 7, 9, 3, 9, 8, 5,\n",
       "        9, 3, 3, 0, 7, 4, 9, 8, 0, 9, 4, 1, 4, 4, 6, 0])"
      ]
     },
     "execution_count": 359,
     "metadata": {},
     "output_type": "execute_result"
    }
   ],
   "source": [
    "expectedOutputBatch"
   ]
  },
  {
   "cell_type": "code",
   "execution_count": 361,
   "metadata": {},
   "outputs": [
    {
     "data": {
      "text/plain": [
       "tensor(0.0781)"
      ]
     },
     "execution_count": 361,
     "metadata": {},
     "output_type": "execute_result"
    }
   ],
   "source": [
    "accuracy(predictions, expectedOutputBatch)"
   ]
  },
  {
   "cell_type": "markdown",
   "metadata": {},
   "source": [
    "not very good."
   ]
  },
  {
   "cell_type": "code",
   "execution_count": 363,
   "metadata": {},
   "outputs": [
    {
     "data": {
      "text/plain": [
       "EnhancedDigitModel(\n",
       "  (layerOne): Linear(in_features=784, out_features=50, bias=True)\n",
       "  (layerTwo): Linear(in_features=50, out_features=10, bias=True)\n",
       ")"
      ]
     },
     "execution_count": 363,
     "metadata": {},
     "output_type": "execute_result"
    }
   ],
   "source": [
    "enhancedDigitModel"
   ]
  },
  {
   "cell_type": "code",
   "execution_count": 369,
   "metadata": {},
   "outputs": [],
   "source": [
    "for epoch in range(epochs):\n",
    "    for i in range((rows//batchSize + 1)): # Process each of the batches\n",
    "        beginningRange = i * batchSize\n",
    "        endingRange = beginningRange + batchSize\n",
    "        _inputBatch = xTrainingNormalized[beginningRange:endingRange]\n",
    "        validationBatch = yTraining[beginningRange:endingRange]\n",
    "        preds = enhancedDigitModel(_inputBatch)\n",
    "        loss = realLossFunction(preds, validationBatch)\n",
    "        \n",
    "        loss.backward()\n",
    "        \n",
    "        with torch.no_grad():\n",
    "            for layerParameter in enhancedDigitModel.parameters(): \n",
    "                layerParameter -= layerParameter.grad * learningRate\n",
    "            enhancedDigitModel.zero_grad() # method inherited from the nn.Module"
   ]
  },
  {
   "cell_type": "code",
   "execution_count": 370,
   "metadata": {},
   "outputs": [
    {
     "data": {
      "text/plain": [
       "tensor(0.9375)"
      ]
     },
     "execution_count": 370,
     "metadata": {},
     "output_type": "execute_result"
    }
   ],
   "source": [
    "accuracy(enhancedDigitModel(inputBatch), expectedOutputBatch)"
   ]
  },
  {
   "cell_type": "markdown",
   "metadata": {},
   "source": [
    "Better!"
   ]
  },
  {
   "cell_type": "code",
   "execution_count": 373,
   "metadata": {},
   "outputs": [],
   "source": [
    "def batchData(iteration):\n",
    "    beginningRange = iteration * batchSize\n",
    "    endingRange = beginningRange + batchSize\n",
    "    _inputBatch = xTrainingNormalized[beginningRange:endingRange]\n",
    "    validationBatch = yTraining[beginningRange:endingRange]\n",
    "    return _inputBatch, validationBatch\n",
    "\n",
    "def trainModel(learningModel):\n",
    "    for i in range((rows)//batchSize + 1):\n",
    "        _inputBatch, _expectedBatch = batchData(i)\n",
    "        _predictions = learningModel(_inputBatch)\n",
    "        \n",
    "        loss = realLossFunction(_predictions, _expectedBatch)\n",
    "        \n",
    "        \n",
    "        \n",
    "        loss.backward()\n",
    "        \n",
    "        \n",
    "        with torch.no_grad():\n",
    "            for layerParameter in learningModel : layerParameter"
   ]
  },
  {
   "cell_type": "code",
   "execution_count": 374,
   "metadata": {},
   "outputs": [
    {
     "data": {
      "text/plain": [
       "tensor(0.2611, grad_fn=<NllLossBackward>)"
      ]
     },
     "execution_count": 374,
     "metadata": {},
     "output_type": "execute_result"
    }
   ],
   "source": [
    "realLossFunction(enhancedDigitModel(inputBatch), expectedOutputBatch)"
   ]
  },
  {
   "cell_type": "code",
   "execution_count": 375,
   "metadata": {},
   "outputs": [
    {
     "ename": "AttributeError",
     "evalue": "'EnhancedDigitModel' object has no attribute 'backward'",
     "output_type": "error",
     "traceback": [
      "\u001b[0;31m---------------------------------------------------------------------------\u001b[0m",
      "\u001b[0;31mAttributeError\u001b[0m                            Traceback (most recent call last)",
      "\u001b[0;32m<ipython-input-375-0654a03b7f58>\u001b[0m in \u001b[0;36m<module>\u001b[0;34m\u001b[0m\n\u001b[0;32m----> 1\u001b[0;31m \u001b[0menhancedDigitModel\u001b[0m\u001b[0;34m.\u001b[0m\u001b[0mbackward\u001b[0m\u001b[0;34m\u001b[0m\u001b[0;34m\u001b[0m\u001b[0m\n\u001b[0m",
      "\u001b[0;32m~/anaconda3/lib/python3.7/site-packages/torch/nn/modules/module.py\u001b[0m in \u001b[0;36m__getattr__\u001b[0;34m(self, name)\u001b[0m\n\u001b[1;32m    537\u001b[0m                 \u001b[0;32mreturn\u001b[0m \u001b[0mmodules\u001b[0m\u001b[0;34m[\u001b[0m\u001b[0mname\u001b[0m\u001b[0;34m]\u001b[0m\u001b[0;34m\u001b[0m\u001b[0;34m\u001b[0m\u001b[0m\n\u001b[1;32m    538\u001b[0m         raise AttributeError(\"'{}' object has no attribute '{}'\".format(\n\u001b[0;32m--> 539\u001b[0;31m             type(self).__name__, name))\n\u001b[0m\u001b[1;32m    540\u001b[0m \u001b[0;34m\u001b[0m\u001b[0m\n\u001b[1;32m    541\u001b[0m     \u001b[0;32mdef\u001b[0m \u001b[0m__setattr__\u001b[0m\u001b[0;34m(\u001b[0m\u001b[0mself\u001b[0m\u001b[0;34m,\u001b[0m \u001b[0mname\u001b[0m\u001b[0;34m,\u001b[0m \u001b[0mvalue\u001b[0m\u001b[0;34m)\u001b[0m\u001b[0;34m:\u001b[0m\u001b[0;34m\u001b[0m\u001b[0;34m\u001b[0m\u001b[0m\n",
      "\u001b[0;31mAttributeError\u001b[0m: 'EnhancedDigitModel' object has no attribute 'backward'"
     ]
    }
   ],
   "source": []
  },
  {
   "cell_type": "code",
   "execution_count": null,
   "metadata": {},
   "outputs": [],
   "source": []
  }
 ],
 "metadata": {
  "kernelspec": {
   "display_name": "Python 3",
   "language": "python",
   "name": "python3"
  },
  "language_info": {
   "codemirror_mode": {
    "name": "ipython",
    "version": 3
   },
   "file_extension": ".py",
   "mimetype": "text/x-python",
   "name": "python",
   "nbconvert_exporter": "python",
   "pygments_lexer": "ipython3",
   "version": "3.7.3"
  }
 },
 "nbformat": 4,
 "nbformat_minor": 2
}
