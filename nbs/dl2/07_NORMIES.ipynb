{
 "cells": [
  {
   "cell_type": "code",
   "execution_count": 1,
   "metadata": {},
   "outputs": [],
   "source": [
    "%matplotlib inline"
   ]
  },
  {
   "cell_type": "code",
   "execution_count": 14,
   "metadata": {},
   "outputs": [],
   "source": [
    "#export\n",
    "from exp.nb_06 import *\n",
    "from torch import nn"
   ]
  },
  {
   "cell_type": "code",
   "execution_count": 3,
   "metadata": {},
   "outputs": [
    {
     "data": {
      "text/plain": [
       "(tensor(-7.6999e-06),\n",
       " <function Tensor.std>,\n",
       " tensor(-7.0751e-08),\n",
       " tensor(1.0000))"
      ]
     },
     "execution_count": 3,
     "metadata": {},
     "output_type": "execute_result"
    }
   ],
   "source": [
    "xTraining, yTraining, xValidation, yValidation = getMnistData()\n",
    "xTrainingNormalized, xValidationNormalized = normalizeVectors(xTraining, xValidation)\n",
    "(xTrainingNormalized.mean(), xTrainingNormalized.std, xValidationNormalized.mean(), xValidationNormalized.std())"
   ]
  },
  {
   "cell_type": "code",
   "execution_count": 4,
   "metadata": {},
   "outputs": [],
   "source": [
    "numberOfClasses = 10\n",
    "hiddenLayerOutput = 50\n",
    "batchSize = 64\n",
    "lossFuction = Functional.cross_entropy"
   ]
  },
  {
   "cell_type": "code",
   "execution_count": 5,
   "metadata": {},
   "outputs": [],
   "source": [
    "trainingDataSet, validationDataSet = Dataset(xTrainingNormalized, yTraining), Dataset(xValidationNormalized, yValidation)"
   ]
  },
  {
   "cell_type": "code",
   "execution_count": 6,
   "metadata": {},
   "outputs": [],
   "source": [
    "trainingDataLoader, validationDataLoader = createDataLoaders(trainingDataSet, validationDataSet, batchSize)"
   ]
  },
  {
   "cell_type": "code",
   "execution_count": 7,
   "metadata": {},
   "outputs": [],
   "source": [
    "imageDataBunch = DataBunch(trainingDataLoader, validationDataLoader, numberOfClasses)"
   ]
  },
  {
   "cell_type": "code",
   "execution_count": 8,
   "metadata": {},
   "outputs": [],
   "source": [
    "layerSizes = [8, 16, 32, 64, 64]"
   ]
  },
  {
   "cell_type": "code",
   "execution_count": 9,
   "metadata": {},
   "outputs": [
    {
     "data": {
      "text/plain": [
       "Sequential(\n",
       "  (0): LambdaLayer()\n",
       "  (1): Sequential(\n",
       "    (0): Conv2d(1, 8, kernel_size=(5, 5), stride=(2, 2), padding=(2, 2))\n",
       "    (1): GeneralRectifiedLinearUnit()\n",
       "  )\n",
       "  (2): Sequential(\n",
       "    (0): Conv2d(8, 16, kernel_size=(3, 3), stride=(2, 2), padding=(1, 1))\n",
       "    (1): GeneralRectifiedLinearUnit()\n",
       "  )\n",
       "  (3): Sequential(\n",
       "    (0): Conv2d(16, 32, kernel_size=(3, 3), stride=(2, 2), padding=(1, 1))\n",
       "    (1): GeneralRectifiedLinearUnit()\n",
       "  )\n",
       "  (4): Sequential(\n",
       "    (0): Conv2d(32, 64, kernel_size=(3, 3), stride=(2, 2), padding=(1, 1))\n",
       "    (1): GeneralRectifiedLinearUnit()\n",
       "  )\n",
       "  (5): Sequential(\n",
       "    (0): Conv2d(64, 64, kernel_size=(3, 3), stride=(2, 2), padding=(1, 1))\n",
       "    (1): GeneralRectifiedLinearUnit()\n",
       "  )\n",
       "  (6): AdaptiveAvgPool2d(output_size=1)\n",
       "  (7): LambdaLayer()\n",
       "  (8): Linear(in_features=64, out_features=10, bias=True)\n",
       ")"
      ]
     },
     "execution_count": 9,
     "metadata": {},
     "output_type": "execute_result"
    }
   ],
   "source": [
    "convolutionalModelSR1 = createBetterConvolutionModel(numberOfClasses, layerSizes)\n",
    "convolutionalModelSR1"
   ]
  },
  {
   "cell_type": "code",
   "execution_count": 10,
   "metadata": {},
   "outputs": [
    {
     "data": {
      "text/plain": [
       "tensor(0.0994)"
      ]
     },
     "execution_count": 10,
     "metadata": {},
     "output_type": "execute_result"
    }
   ],
   "source": [
    "accuracy(convolutionalModelSR1(xTraining), yTraining)"
   ]
  },
  {
   "cell_type": "code",
   "execution_count": 11,
   "metadata": {},
   "outputs": [],
   "source": [
    "phases = [0.3, 0.7]\n",
    "weightsScheduler = aggregateSchedulers(phases, createCosineSchedulers(0.3, 0.6, 0.2)) \n",
    "biasScheduler = aggregateSchedulers(phases, createCosineSchedulers(0.9, 1.8, 0.6))"
   ]
  },
  {
   "cell_type": "code",
   "execution_count": 12,
   "metadata": {},
   "outputs": [],
   "source": [
    "teacher = TeacherWithHooks(schedulingFunctions=[weightsScheduler, biasScheduler])"
   ]
  },
  {
   "cell_type": "code",
   "execution_count": 13,
   "metadata": {},
   "outputs": [
    {
     "name": "stdout",
     "output_type": "stream",
     "text": [
      "Epoch #0 Training: Loss 0.4548206627368927 Accuracy 0.8388347029685974\n",
      "Epoch #0 Validation: Loss 0.08740277588367462 Accuracy 0.9732001423835754\n",
      "\n",
      "Epoch #1 Training: Loss 0.1314106285572052 Accuracy 0.9611372947692871\n",
      "Epoch #1 Validation: Loss 0.14704951643943787 Accuracy 0.9635087251663208\n",
      "\n"
     ]
    }
   ],
   "source": [
    "teacher.teachModel(convolutionalModelSR1, imageDataBunch, 2)"
   ]
  },
  {
   "cell_type": "markdown",
   "metadata": {},
   "source": [
    "## Layer Normalization"
   ]
  },
  {
   "cell_type": "markdown",
   "metadata": {},
   "source": [
    "*Internal Covariant Shift*- When the accuracy rate of your model starts to no longer improve at the current learning rate. Only improving when the learning rate becomes smaller, only allowing for marginal returns."
   ]
  },
  {
   "cell_type": "markdown",
   "metadata": {},
   "source": [
    "Batch Normalization may negate the need for **layer dropout**. Batch norm works on the **activations** and not the **parameters**\n",
    "\n",
    "It is important to have parameters such that everytime something is imputing, there is always activations after the matrix multiplication. (I think this allows better gradient calculations?)\n",
    "\n",
    "$\\gamma$(gamma) and $\\beta$ (beta) shift normalization of the layer to our pleasing. Which allows us to move our loss in a direction that is smaller (closer to the expected value) $\\hat{x} = W\\hat{x} + \\vec{b}$ \n",
    "\n",
    "$\\hat{x}$ is the activations. So we want to move the activations closest to y so $\\hat{y} = \\gamma\\hat{x} + \\beta$ <- we want that to be close to y ie $0 = y - \\hat{y}$\n",
    "\n",
    "The big issue that this solves is that the gradients (things that help learning) of the loss function are dependent in a highly correlative manner. If the outputs of the previous layer is small (ie the activations) then the learning gradients of the current layer is small as well. Smaller gradients, less learning.  \n",
    "\n",
    "Batch normalization normally works best with batches that are >32\n",
    "\n",
    "$C$ = Channel\n",
    "\n",
    "A channel is a result of applying a **kernel** to the input. Many #channels === #kernels"
   ]
  },
  {
   "cell_type": "markdown",
   "metadata": {},
   "source": [
    "### Linear Interpolation\n",
    "Literally finding the slope intercept form and evaluating for x.\n",
    "\n",
    "In this case the starting vector is the first point and the second point is the second vector.\n",
    "\n",
    "The two points form a line which can be interpreted as $y = mx+b$ the third argument is the x you are passing (0 gives you the first vector, 1 give you the second vector, 0.5 gives you a vector that is halfway between the two that are on the line that the two points form)"
   ]
  },
  {
   "cell_type": "code",
   "execution_count": 43,
   "metadata": {},
   "outputs": [
    {
     "data": {
      "text/plain": [
       "(tensor([2., 4., 8.]), tensor([1., 2., 3.]), tensor([ 3.,  6., 13.]))"
      ]
     },
     "execution_count": 43,
     "metadata": {},
     "output_type": "execute_result"
    }
   ],
   "source": [
    "a = torch.tensor([1, 2, 3]).float()\n",
    "b = torch.tensor([3, 6, 13]).float()\n",
    "torch.lerp(a, b, .5), torch.lerp(a, b, .0), torch.lerp(a, b, 1)"
   ]
  },
  {
   "cell_type": "code",
   "execution_count": 52,
   "metadata": {},
   "outputs": [],
   "source": [
    "class BatchNormalization(nn.Module):\n",
    "    def __init__(self, layerSize, momentum=0.1, epsilon=1e-5):\n",
    "        super().__init__()\n",
    "        self.momentum, self.epsilon = momentum, epsilon\n",
    "        self.gamma = nn.Parameter(torch.ones(layerSize, 1, 1)) # being a parameter allows it to be adjust in backprop\n",
    "        self.beta = nn.Parameter(torch.zeros(layerSize, 1, 1)) # ie this is a part of the convolution model.\n",
    "        self.register_buffer('variances', torch.ones(1, layerSize, 1, 1))\n",
    "        self.register_buffer('means', torch.zeros(1, layerSize, 1, 1))\n",
    "        \n",
    "    def forward(self, activations):\n",
    "        normalizedActivations = self._normalizeActivations(activations)\n",
    "        return self.gamma * normalizedActivations + self.beta\n",
    "    \n",
    "    def _normalizeActivations(self, activations):\n",
    "        batchMean, batchVariance = self._getMeanAndVariance(activations)\n",
    "        return (activations - batchMean) / (batchVariance + self.epsilon).sqrt()\n",
    "    \n",
    "    def _getMeanAndVariance(self, activations):\n",
    "        if self.training:\n",
    "            with torch.no_grad():\n",
    "                return self._updateStatistics(activations)\n",
    "        else:\n",
    "            return self.means, self.variances\n",
    "\n",
    "    def _updateStatistics(self, activations):\n",
    "        batchMeans = activations.mean((0,2,3), keepdim=True)\n",
    "        batchVariances = activations.var((0, 2, 3), keepdim=True)\n",
    "        self.means.lerp_(batchMeans, self.momentum) # we only want to step a little bit away from\n",
    "        self.variances.lerp_(batchVariances, self.momentum) # the stored means eg momentum is tiny\n",
    "        return batchMeans, batchVariances"
   ]
  },
  {
   "cell_type": "code",
   "execution_count": 67,
   "metadata": {},
   "outputs": [],
   "source": [
    "def createBatchNormalizedConvolutionLayer(inputSize, \n",
    "                                   outputSize, \n",
    "                                   kernelSize=3, \n",
    "                                   stride=2,\n",
    "                                   leaky=0.1,\n",
    "                                   subtractValue=0.4,\n",
    "                                   maxToClamp=6.0\n",
    "                                  ):\n",
    "    layers = [\n",
    "        torch.nn.Conv2d(inputSize, \n",
    "                           outputSize, \n",
    "                           kernelSize, \n",
    "                           stride, \n",
    "                           kernelSize//2), \n",
    "       GeneralRectifiedLinearUnit(leaky, \n",
    "                                  subtractValue, \n",
    "                                  maxToClamp),\n",
    "        BatchNormalization(outputSize)\n",
    "    ]\n",
    "    return torch.nn.Sequential(*layers)\n",
    "\n",
    "def createBatchNormalizedConvolutionLayers(numberOfClasses, layerSizes):\n",
    "    adjustedLayerSizes = [1]  + layerSizes # Make the first layer take a dimension of one\n",
    "    convolutionLayers = [createBatchNormalizedConvolutionLayer(adjustedLayerSizes[i], \n",
    "                                               adjustedLayerSizes[i+1],\n",
    "                                               5 if i == 0 else 3)\n",
    "                        for i in range(len(adjustedLayerSizes) - 1)]\n",
    "    finishingLayers = [\n",
    "        torch.nn.AdaptiveAvgPool2d(1),\n",
    "        LambdaLayer(flattenImage),\n",
    "        torch.nn.Linear(layerSizes[-1], numberOfClasses)\n",
    "    ]\n",
    "    return [LambdaLayer(resizeImage)] + convolutionLayers + finishingLayers\n",
    "\n",
    "\n",
    "def createBatchNormalizedConvolutionModel(numberOfClasses, layerSizes):\n",
    "    newModel = torch.nn.Sequential(*createBatchNormalizedConvolutionLayers(numberOfClasses, layerSizes))\n",
    "    kaimingInitializeLayers(newModel)\n",
    "    return newModel\n",
    "\n",
    "def kaimingInitializeLayers(modelToInitialize):\n",
    "    for modelLayer in modelToInitialize:\n",
    "        if isinstance(modelLayer, torch.nn.Sequential):\n",
    "            init.kaiming_normal_(modelLayer[0].weight, a=0.1)\n",
    "            modelLayer[0].bias.data.zero_()"
   ]
  },
  {
   "cell_type": "code",
   "execution_count": 79,
   "metadata": {},
   "outputs": [
    {
     "data": {
      "text/plain": [
       "Sequential(\n",
       "  (0): LambdaLayer()\n",
       "  (1): Sequential(\n",
       "    (0): Conv2d(1, 8, kernel_size=(5, 5), stride=(2, 2), padding=(2, 2))\n",
       "    (1): GeneralRectifiedLinearUnit()\n",
       "    (2): BatchNormalization()\n",
       "  )\n",
       "  (2): Sequential(\n",
       "    (0): Conv2d(8, 16, kernel_size=(3, 3), stride=(2, 2), padding=(1, 1))\n",
       "    (1): GeneralRectifiedLinearUnit()\n",
       "    (2): BatchNormalization()\n",
       "  )\n",
       "  (3): Sequential(\n",
       "    (0): Conv2d(16, 32, kernel_size=(3, 3), stride=(2, 2), padding=(1, 1))\n",
       "    (1): GeneralRectifiedLinearUnit()\n",
       "    (2): BatchNormalization()\n",
       "  )\n",
       "  (4): Sequential(\n",
       "    (0): Conv2d(32, 32, kernel_size=(3, 3), stride=(2, 2), padding=(1, 1))\n",
       "    (1): GeneralRectifiedLinearUnit()\n",
       "    (2): BatchNormalization()\n",
       "  )\n",
       "  (5): AdaptiveAvgPool2d(output_size=1)\n",
       "  (6): LambdaLayer()\n",
       "  (7): Linear(in_features=32, out_features=10, bias=True)\n",
       ")"
      ]
     },
     "execution_count": 79,
     "metadata": {},
     "output_type": "execute_result"
    }
   ],
   "source": [
    "convolutionModelSR2 = createBatchNormalizedConvolutionModel(numberOfClasses, layerSizes)\n",
    "convolutionModelSR2"
   ]
  },
  {
   "cell_type": "code",
   "execution_count": 81,
   "metadata": {},
   "outputs": [
    {
     "data": {
      "text/plain": [
       "tensor(0.0944)"
      ]
     },
     "execution_count": 81,
     "metadata": {},
     "output_type": "execute_result"
    }
   ],
   "source": [
    "accuracy(convolutionModelSR2(xTrainingNormalized), yTraining)"
   ]
  },
  {
   "cell_type": "code",
   "execution_count": 82,
   "metadata": {},
   "outputs": [
    {
     "name": "stdout",
     "output_type": "stream",
     "text": [
      "Epoch #0 Training: Loss 0.2629697322845459 Accuracy 0.9239529967308044\n",
      "Epoch #0 Validation: Loss 0.13833773136138916 Accuracy 0.9596518874168396\n",
      "\n",
      "Epoch #1 Training: Loss 0.1042783334851265 Accuracy 0.9674312472343445\n",
      "Epoch #1 Validation: Loss 0.14115788042545319 Accuracy 0.9533227682113647\n",
      "\n",
      "Epoch #2 Training: Loss 0.08636636286973953 Accuracy 0.9728260636329651\n",
      "Epoch #2 Validation: Loss 0.07346929609775543 Accuracy 0.9785403609275818\n",
      "\n",
      "Epoch #3 Training: Loss 0.06778375804424286 Accuracy 0.9784207344055176\n",
      "Epoch #3 Validation: Loss 0.10455094277858734 Accuracy 0.9674643874168396\n",
      "\n",
      "Epoch #4 Training: Loss 0.05356832221150398 Accuracy 0.9832561016082764\n",
      "Epoch #4 Validation: Loss 0.058467671275138855 Accuracy 0.9833860993385315\n",
      "\n",
      "Epoch #5 Training: Loss 0.039953865110874176 Accuracy 0.9876518249511719\n",
      "Epoch #5 Validation: Loss 0.06101340800523758 Accuracy 0.9823971390724182\n",
      "\n",
      "Epoch #6 Training: Loss 0.029151055961847305 Accuracy 0.990968644618988\n",
      "Epoch #6 Validation: Loss 0.05841944366693497 Accuracy 0.9835838675498962\n",
      "\n",
      "Epoch #7 Training: Loss 0.021563556045293808 Accuracy 0.9934263229370117\n",
      "Epoch #7 Validation: Loss 0.05504050478339195 Accuracy 0.9853639006614685\n",
      "\n"
     ]
    }
   ],
   "source": [
    "teacher.teachModel(convolutionModelSR2, imageDataBunch, 8)"
   ]
  },
  {
   "cell_type": "code",
   "execution_count": 86,
   "metadata": {},
   "outputs": [
    {
     "data": {
      "image/png": "[encoded data removed]",
      "text/plain": [
       "<Figure size 432x288 with 1 Axes>"
      ]
     },
     "metadata": {
      "needs_background": "light"
     },
     "output_type": "display_data"
    }
   ],
   "source": [
    "teacher.plotMeans()"
   ]
  },
  {
   "cell_type": "markdown",
   "metadata": {},
   "source": [
    "Good! all of the means are hovering around Zero!"
   ]
  },
  {
   "cell_type": "code",
   "execution_count": 87,
   "metadata": {},
   "outputs": [
    {
     "data": {
      "image/png": "[encoded data removed]",
      "text/plain": [
       "<Figure size 432x288 with 1 Axes>"
      ]
     },
     "metadata": {
      "needs_background": "light"
     },
     "output_type": "display_data"
    }
   ],
   "source": [
    "teacher.plotStandardDeviations()"
   ]
  },
  {
   "cell_type": "code",
   "execution_count": 88,
   "metadata": {},
   "outputs": [
    {
     "data": {
      "text/plain": [
       "(tensor(0.9960), tensor(0.9844))"
      ]
     },
     "execution_count": 88,
     "metadata": {},
     "output_type": "execute_result"
    }
   ],
   "source": [
    "accuracy(convolutionModelSR2(xTrainingNormalized), yTraining), accuracy(convolutionModelSR2(xValidationNormalized), yValidation)"
   ]
  },
  {
   "cell_type": "markdown",
   "metadata": {},
   "source": [
    "### Layer Normalization\n",
    "\n",
    "The difference between Batch Normalization and Layer normalization is that the activations from the previous layer (in layer normalization) are normalized to the mean and variance of the activation of the previous layer, rather than the average of all of the layers like in batch normalization.\n",
    "\n",
    "The downside is that every input will look the same going in as it does going out. IE, all really high inputs will look the same as all really low inputs. Whether they are high or low does not matter, just as long as they have low variance, layer norm will make them all look the same. So we loose magnitiude, but gain the ability to have consistent activations throughout our network. So we would not be able to distinguish between hot and cold, as they would all be _normalized_ (ie the same)"
   ]
  },
  {
   "cell_type": "code",
   "execution_count": 90,
   "metadata": {},
   "outputs": [],
   "source": [
    "class LayerNormalization(nn.Module):\n",
    "    def __init__(self, layerSize, momentum=0.1, epsilon=1e-5):\n",
    "        super().__init__()\n",
    "        self.momentum, self.epsilon = momentum, epsilon\n",
    "        self.gamma = nn.Parameter(torch.ones(layerSize, 1, 1)) # being a parameter allows it to be adjust in backprop\n",
    "        self.beta = nn.Parameter(torch.zeros(layerSize, 1, 1)) # ie this is a part of the convolution model.\n",
    "        \n",
    "    def forward(self, activations):\n",
    "        normalizedActivations = self._normalizeActivations(activations)\n",
    "        return self.gamma * normalizedActivations + self.beta\n",
    "    \n",
    "    def _normalizeActivations(self, activations):\n",
    "        batchMean, batchVariance = self._getMeanAndVariance(activations)\n",
    "        return (activations - batchMean) / (batchVariance + self.epsilon).sqrt()\n",
    "    \n",
    "    def _getMeanAndVariance(self, activations):\n",
    "        layerMeans = activations.mean((0,2,3), keepdim=True)\n",
    "        layerVariances = activations.var((0, 2, 3), keepdim=True)\n",
    "        return layerMeans, layerVariances"
   ]
  },
  {
   "cell_type": "markdown",
   "metadata": {},
   "source": [
    "### Instance Normalization\n",
    "\n",
    "Instance normalization takes away any grouping. Layer normalization uses the entire layer's output mean/variance, batch normalization uses the entire dataset's mean/variance. Instance normalization just normalizes one "
   ]
  },
  {
   "cell_type": "markdown",
   "metadata": {},
   "source": [
    "### Group Normalization\n",
    "\n",
    "Very similar to the Layer initialization, but we break the layer int mostly equally sized groups."
   ]
  },
  {
   "cell_type": "markdown",
   "metadata": {},
   "source": [
    "**Model To Tensor**\n",
    "\n",
    "tensor.shape -> torch.Size([500, 8, 78, 78])\n",
    "- 500 == Number of items to be processed (ie, batch)\n",
    "- 8 == Number of channels (ie, how many kernel's processed the input\n",
    "- 78 x78 == Shape of the input matrix."
   ]
  },
  {
   "cell_type": "markdown",
   "metadata": {},
   "source": [
    "### Baby Batch Norm\n"
   ]
  },
  {
   "cell_type": "code",
   "execution_count": 135,
   "metadata": {},
   "outputs": [
    {
     "data": {
      "text/plain": [
       "torch.Size([5, 3, 4, 4])"
      ]
     },
     "execution_count": 135,
     "metadata": {},
     "output_type": "execute_result"
    }
   ],
   "source": [
    "rando = torch.randn((5, 3, 4, 4))\n",
    "rando.shape"
   ]
  },
  {
   "cell_type": "code",
   "execution_count": 136,
   "metadata": {},
   "outputs": [
    {
     "data": {
      "text/plain": [
       "(tensor([[[[11.5323]],\n",
       " \n",
       "          [[-7.3790]],\n",
       " \n",
       "          [[-4.9058]]]]), torch.Size([1, 3, 1, 1]), 3)"
      ]
     },
     "execution_count": 136,
     "metadata": {},
     "output_type": "execute_result"
    }
   ],
   "source": [
    "summy = rando.sum((0, 2, 3), keepdim=True)\n",
    "summy, summy.shape, summy.numel()"
   ]
  },
  {
   "cell_type": "code",
   "execution_count": 139,
   "metadata": {},
   "outputs": [
    {
     "data": {
      "text/plain": [
       "(80, 48)"
      ]
     },
     "execution_count": 139,
     "metadata": {},
     "output_type": "execute_result"
    }
   ],
   "source": [
    "rando.numel() // rando.shape[1], rando[1].numel()"
   ]
  },
  {
   "cell_type": "code",
   "execution_count": 143,
   "metadata": {},
   "outputs": [
    {
     "data": {
      "text/plain": [
       "(torch.Size([1, 3, 4, 4]), 48)"
      ]
     },
     "execution_count": 143,
     "metadata": {},
     "output_type": "execute_result"
    }
   ],
   "source": [
    "otherSummy = rando.sum(0, keepdim=True)\n",
    "otherSummy.shape, otherSummy.numel()"
   ]
  },
  {
   "cell_type": "markdown",
   "metadata": {},
   "source": [
    "### ☝️Adds up all the stuff into the channel dimension"
   ]
  },
  {
   "cell_type": "code",
   "execution_count": 131,
   "metadata": {},
   "outputs": [],
   "source": [
    "#export\n",
    "class BabyBatchNormalizationLayer(nn.Module):\n",
    "    def __init__(self, layerSize, momentum=0.1, epsilon=1e-5):\n",
    "        super().__init__()\n",
    "        self.momentum, self.epsilon, self.layerSize = momentum, epsilon, layerSize\n",
    "        self.gamma = nn.Parameter(torch.ones(layerSize, 1, 1))\n",
    "        self.beta = nn.Parameter(torch.zeros(layerSize, 1, 1))\n",
    "        self.register_buffer(\"aggregatedGamma\", torch.zeros(1, layerSize, 1, 1))\n",
    "        self.register_buffer(\"aggregatedBeta\", torch.zeros(1, layerSize, 1, 1))\n",
    "        self.register_buffer(\"batch\", torch.tensor(0.))\n",
    "        self.register_buffer(\"counts\", torch.tensor(0.))\n",
    "        self.register_buffer(\"step\", torch.tensor(0.))\n",
    "        self.register_buffer(\"bias\", torch.tensor(0.))\n",
    "    \n",
    "    def forward(self, activations):\n",
    "        normalizedActivations = self._normalizeActivations(activations)\n",
    "        return self.gamma * normalizedActivations + self.beta\n",
    "    \n",
    "    def _normalizeActivations(self, activations):\n",
    "        batchMean, batchVariance = self._getMeanAndVariance(activations)\n",
    "        return (activations - batchMean) / (batchVariance + self.epsilon).sqrt()\n",
    "    \n",
    "    def _getMeanAndVariance(self, activations):\n",
    "        if self.training:\n",
    "            with torch.no_grad():\n",
    "                return self._updateStatistics(activations)\n",
    "        else:\n",
    "            return self.means, self.variances\n",
    "\n",
    "    def _updateStatistics(self, activations):\n",
    "        self.aggregatedGamma.detatch_()\n",
    "        self.aggregatedBeta.detatch_()\n",
    "        batchSize, numberOfChannels, *_ = activations.shape\n",
    "        channelSum = activations.sum((0,2,3), keepdim=True)\n",
    "        channelSquared = (activations * activations).sum((0, 2, 3), keepdim=True)\n",
    "        \n",
    "        momentum = (1 - (1-self.momentum)/math.sqrt(self.batchSize-1))\n",
    "        \n",
    "        counts = channelSum.new_tensor()\n",
    "        \n",
    "        self.means.lerp_(batchMeans, self.momentum) # we only want to step a little bit away from\n",
    "        self.variances.lerp_(batchVariances, self.momentum) # the stored means eg momentum is tiny\n",
    "        return batchMeans, batchVariances"
   ]
  },
  {
   "cell_type": "code",
   "execution_count": 99,
   "metadata": {},
   "outputs": [],
   "source": [
    "def createBabyBatchNormalizedConvolutionLayer(inputSize, \n",
    "                                   outputSize, \n",
    "                                   kernelSize=3, \n",
    "                                   stride=2,\n",
    "                                   leaky=0.1,\n",
    "                                   subtractValue=0.4,\n",
    "                                   maxToClamp=6.0\n",
    "                                  ):\n",
    "    layers = [\n",
    "        torch.nn.Conv2d(inputSize, \n",
    "                           outputSize, \n",
    "                           kernelSize, \n",
    "                           stride, \n",
    "                           kernelSize//2), \n",
    "       GeneralRectifiedLinearUnit(leaky, \n",
    "                                  subtractValue, \n",
    "                                  maxToClamp),\n",
    "        BabyBatchNormalizationLayer(outputSize)\n",
    "    ]\n",
    "    return torch.nn.Sequential(*layers)\n",
    "\n",
    "def createBabyBatchNormalizedConvolutionLayers(numberOfClasses, layerSizes):\n",
    "    adjustedLayerSizes = [1]  + layerSizes # Make the first layer take a dimension of one\n",
    "    convolutionLayers = [createBatchNormalizedConvolutionLayer(adjustedLayerSizes[i], \n",
    "                                               adjustedLayerSizes[i+1],\n",
    "                                               5 if i == 0 else 3)\n",
    "                        for i in range(len(adjustedLayerSizes) - 1)]\n",
    "    finishingLayers = [\n",
    "        torch.nn.AdaptiveAvgPool2d(1),\n",
    "        LambdaLayer(flattenImage),\n",
    "        torch.nn.Linear(layerSizes[-1], numberOfClasses)\n",
    "    ]\n",
    "    return [LambdaLayer(resizeImage)] + convolutionLayers + finishingLayers\n",
    "\n",
    "\n",
    "def createBabyBatchNormalizedConvolutionModel(numberOfClasses, layerSizes):\n",
    "    newModel = torch.nn.Sequential(*createBatchNormalizedConvolutionLayers(numberOfClasses, layerSizes))\n",
    "    kaimingInitializeLayers(newModel)\n",
    "    return newModel"
   ]
  },
  {
   "cell_type": "code",
   "execution_count": null,
   "metadata": {},
   "outputs": [],
   "source": []
  }
 ],
 "metadata": {
  "kernelspec": {
   "display_name": "Python 3",
   "language": "python",
   "name": "python3"
  },
  "language_info": {
   "codemirror_mode": {
    "name": "ipython",
    "version": 3
   },
   "file_extension": ".py",
   "mimetype": "text/x-python",
   "name": "python",
   "nbconvert_exporter": "python",
   "pygments_lexer": "ipython3",
   "version": "3.7.3"
  }
 },
 "nbformat": 4,
 "nbformat_minor": 2
}
