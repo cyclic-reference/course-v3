{
 "cells": [
  {
   "cell_type": "code",
   "execution_count": 1,
   "metadata": {},
   "outputs": [],
   "source": [
    "%matplotlib inline"
   ]
  },
  {
   "cell_type": "code",
   "execution_count": 29,
   "metadata": {},
   "outputs": [],
   "source": [
    "#export\n",
    "from exp.nb_04 import *\n",
    "\n",
    "from functools import partial"
   ]
  },
  {
   "cell_type": "markdown",
   "metadata": {},
   "source": [
    "## Data Setup"
   ]
  },
  {
   "cell_type": "code",
   "execution_count": 5,
   "metadata": {},
   "outputs": [],
   "source": [
    "xTraining, yTraining, xValidation, yValidation = getMnistData()\n",
    "xTrainingNormalized = normalizeVector(xTraining, xTraining.mean(),xTraining.std())\n",
    "xValidationNormalized = normalizeVector(xValidation, xValidation.mean(),xValidation.std())"
   ]
  },
  {
   "cell_type": "code",
   "execution_count": 7,
   "metadata": {},
   "outputs": [
    {
     "data": {
      "text/plain": [
       "(tensor(-7.6999e-06), tensor(1.))"
      ]
     },
     "execution_count": 7,
     "metadata": {},
     "output_type": "execute_result"
    }
   ],
   "source": [
    "xTrainingNormalized.mean(), xTrainingNormalized.std()"
   ]
  },
  {
   "cell_type": "code",
   "execution_count": 8,
   "metadata": {},
   "outputs": [
    {
     "data": {
      "text/plain": [
       "(tensor(0.1287), tensor(0.3050))"
      ]
     },
     "execution_count": 8,
     "metadata": {},
     "output_type": "execute_result"
    }
   ],
   "source": [
    "xValidation.mean(), xValidation.std()"
   ]
  },
  {
   "cell_type": "code",
   "execution_count": 9,
   "metadata": {},
   "outputs": [],
   "source": [
    "batchSize = 64"
   ]
  },
  {
   "cell_type": "code",
   "execution_count": 10,
   "metadata": {},
   "outputs": [],
   "source": [
    "trainingDataSet = Dataset(xTrainingNormalized, yTraining)\n",
    "validationDataSet = Dataset(xValidationNormalized, yValidation)"
   ]
  },
  {
   "cell_type": "code",
   "execution_count": 12,
   "metadata": {},
   "outputs": [],
   "source": [
    "trainingDataLoader, validationDataLoader = createDataLoaders(trainingDataSet, validationDataSet, batchSize)"
   ]
  },
  {
   "cell_type": "code",
   "execution_count": 13,
   "metadata": {},
   "outputs": [],
   "source": [
    "imageDataBunch = DataBunch(trainingDataLoader, validationDataLoader)"
   ]
  },
  {
   "cell_type": "code",
   "execution_count": 16,
   "metadata": {},
   "outputs": [],
   "source": [
    "numberOfImages, numberOfPixels = xTrainingNormalized.shape\n",
    "hiddenLayerSize = 50\n",
    "numberOfClasses = yTraining.max().item() + 1"
   ]
  },
  {
   "cell_type": "code",
   "execution_count": 20,
   "metadata": {},
   "outputs": [],
   "source": [
    "def createCNNModel(): return CNNModel(numberOfPixels, \n",
    "                   hiddenLayerSize, \n",
    "                   numberOfClasses)"
   ]
  },
  {
   "cell_type": "code",
   "execution_count": 25,
   "metadata": {},
   "outputs": [
    {
     "data": {
      "text/plain": [
       "CNNModel(\n",
       "  (layers): Sequential(\n",
       "    (0): Linear(in_features=784, out_features=50, bias=True)\n",
       "    (1): ReLU()\n",
       "    (2): Linear(in_features=50, out_features=10, bias=True)\n",
       "  )\n",
       ")"
      ]
     },
     "execution_count": 25,
     "metadata": {},
     "output_type": "execute_result"
    }
   ],
   "source": [
    "cnnModel = createCNNModel()\n",
    "cnnModel"
   ]
  },
  {
   "cell_type": "markdown",
   "metadata": {},
   "source": [
    "### Scheduling\n",
    "\n",
    "The process of adjusting the learning rate as model training moves forward."
   ]
  },
  {
   "cell_type": "code",
   "execution_count": 26,
   "metadata": {},
   "outputs": [],
   "source": [
    "#export\n",
    "def FixedRange(schedulingFunction):\n",
    "    def _fixedScheduler(start, end): return partial(schedulingFunction, start, end)\n",
    "    return _fixedScheduler"
   ]
  },
  {
   "cell_type": "code",
   "execution_count": 27,
   "metadata": {},
   "outputs": [],
   "source": [
    "# Creates a learning rate that will follow a linear path.\n",
    "\n",
    "@FixedRange\n",
    "def linearScheduler(start, end, timePosition): return start + timePosition * (end - start)"
   ]
  },
  {
   "cell_type": "code",
   "execution_count": 44,
   "metadata": {},
   "outputs": [
    {
     "data": {
      "text/plain": [
       "functools.partial(<function linearScheduler at 0x1a2c285840>, 1, 4)"
      ]
     },
     "execution_count": 44,
     "metadata": {},
     "output_type": "execute_result"
    }
   ],
   "source": [
    "# Fix the linear scheduler to a specified range\n",
    "fixedScheduler = linearScheduler(1,4) # essentially first argument is b and m in the equation y=mx+b\n",
    "fixedScheduler"
   ]
  },
  {
   "cell_type": "code",
   "execution_count": 45,
   "metadata": {},
   "outputs": [
    {
     "data": {
      "text/plain": [
       "(1, 4, 7)"
      ]
     },
     "execution_count": 45,
     "metadata": {},
     "output_type": "execute_result"
    }
   ],
   "source": [
    "fixedScheduler(0), \\\n",
    "fixedScheduler(1), \\\n",
    "fixedScheduler(2)"
   ]
  },
  {
   "cell_type": "code",
   "execution_count": 46,
   "metadata": {},
   "outputs": [],
   "source": [
    "@FixedRange\n",
    "def cosineScheduler(start, end, timePosition): return start + (1 + math.cos(math.pi*(1-timePosition))) * (end-start) / 2\n",
    "\n",
    "@FixedRange\n",
    "def constantScheduler(start, end, timePosition): return start\n",
    "\n",
    "@FixedRange\n",
    "def exponentialScheduler(start, end, timePosition): return start * (end / start)**timePosition\n"
   ]
  },
  {
   "cell_type": "code",
   "execution_count": 48,
   "metadata": {},
   "outputs": [],
   "source": [
    "#This monkey-patch is there to be able to plot tensors\n",
    "torch.Tensor.ndim = property(lambda x: len(x.shape))"
   ]
  },
  {
   "cell_type": "code",
   "execution_count": 101,
   "metadata": {},
   "outputs": [
    {
     "data": {
      "image/png": "[encoded data removed]",
      "text/plain": [
       "<Figure size 432x288 with 1 Axes>"
      ]
     },
     "metadata": {
      "needs_background": "light"
     },
     "output_type": "display_data"
    }
   ],
   "source": [
    "annealings = \"NO LINEAR COS EXP\".split()\n",
    "\n",
    "steps = torch.arange(0, 100)\n",
    "inputSpace = torch.linspace(0.01,1,100)\n",
    "\n",
    "schedulers = [constantScheduler, linearScheduler, cosineScheduler, exponentialScheduler]\n",
    "for scheduler, label in zip(schedulers, annealings):\n",
    "    fixedScheduler = scheduler(1e-1,1e-6)\n",
    "    plotter.plot(steps, [fixedScheduler(o) for o in inputSpace], label=label)\n",
    "plotter.legend();"
   ]
  },
  {
   "cell_type": "code",
   "execution_count": 53,
   "metadata": {},
   "outputs": [],
   "source": [
    "#export\n",
    "from typing import *\n",
    "\n",
    "def listify(o):\n",
    "    if o is None: return []\n",
    "    if isinstance(o, list): return o\n",
    "    if isinstance(o, str): return [o]\n",
    "    if isinstance(o, Iterable): return list(o)\n",
    "    return [o]"
   ]
  },
  {
   "cell_type": "code",
   "execution_count": 73,
   "metadata": {},
   "outputs": [],
   "source": [
    "#export\n",
    "def aggregateSchedulers(appliedPercentages, schedulers):\n",
    "    assert sum(appliedPercentages) == 1\n",
    "    percentages = tensor([0] + listify(appliedPercentages))\n",
    "    assert torch.all(percentages >= 0)\n",
    "    percentages = torch.cumsum(percentages, 0) # each vector component is the aggregation of it and the one before it\n",
    "    def _inner(timePosition):\n",
    "        currentIndex = (timePosition >= percentages).nonzero().max()\n",
    "        actualPosition = (timePosition-percentages[currentIndex]) / (percentages[currentIndex+1]-percentages[currentIndex])\n",
    "        return schedulers[currentIndex](actualPosition)\n",
    "    return _inner"
   ]
  },
  {
   "cell_type": "code",
   "execution_count": 92,
   "metadata": {},
   "outputs": [],
   "source": [
    "aggregatedScheduler = aggregateSchedulers([0.3, 0.7], [cosineScheduler(0.3, 0.6), cosineScheduler(0.6, 0.1)])"
   ]
  },
  {
   "cell_type": "code",
   "execution_count": 97,
   "metadata": {},
   "outputs": [
    {
     "data": {
      "text/plain": [
       "tensor([0.0100, 0.0200, 0.0300, 0.0400, 0.0500])"
      ]
     },
     "execution_count": 97,
     "metadata": {},
     "output_type": "execute_result"
    }
   ],
   "source": [
    "inputSpace[:5]"
   ]
  },
  {
   "cell_type": "code",
   "execution_count": 98,
   "metadata": {},
   "outputs": [
    {
     "data": {
      "text/plain": [
       "[<matplotlib.lines.Line2D at 0x1a2c7c8160>]"
      ]
     },
     "execution_count": 98,
     "metadata": {},
     "output_type": "execute_result"
    },
    {
     "data": {
      "image/png": "[encoded data removed]",
      "text/plain": [
       "<Figure size 432x288 with 1 Axes>"
      ]
     },
     "metadata": {
      "needs_background": "light"
     },
     "output_type": "display_data"
    }
   ],
   "source": [
    "plotter.plot(steps, [aggregatedScheduler(o) for o in inputSpace])"
   ]
  },
  {
   "cell_type": "code",
   "execution_count": 158,
   "metadata": {},
   "outputs": [],
   "source": [
    "#export\n",
    "def createCosineScheduler(start, high, end):\n",
    "    return [cosineScheduler(start, high), cosineScheduler(high, end)]"
   ]
  },
  {
   "cell_type": "code",
   "execution_count": 160,
   "metadata": {},
   "outputs": [],
   "source": [
    "phases = [0.3, 0.7]\n",
    "weightsScheduler = aggregateSchedulers(phases, createCosineScheduler(0.3, 0.6, 0.2)) \n",
    "biasScheduler = aggregateSchedulers(phases, createCosineScheduler(0.9, 1.8, 0.6))"
   ]
  },
  {
   "cell_type": "code",
   "execution_count": 164,
   "metadata": {},
   "outputs": [],
   "source": [
    "class TeacherWithAnnealing():\n",
    "    \n",
    "    def __init__(self, \n",
    "                 lossFunction=Functional.cross_entropy, \n",
    "                 accuracyFunction=accuracy,\n",
    "                 schedulingFunctions=[cosineScheduler(1e-1,1e-6), cosineScheduler(1e-1,1e-6)]\n",
    "                ):\n",
    "        self.lossFunction = lossFunction\n",
    "        self.accuracyFunction = accuracyFunction\n",
    "        self.schedulingFunctions = schedulingFunctions\n",
    "        self._initStorage()\n",
    "\n",
    "    def _initStorage(self):\n",
    "        self.learningRates, self.losses = [],[]\n",
    "        \n",
    "    def teachModel(self, cnnModel, dataBunch, numberOfEpochs):\n",
    "        self.optimizer = optim.SGD(cnnModel.parameters(), self.schedulingFunctions[0](0))\n",
    "        self.numberOfEpochs = numberOfEpochs\n",
    "        self._beginTraining()\n",
    "        for epoch in range(numberOfEpochs):\n",
    "            self.epoch = epoch\n",
    "            trainingLoss, trainingAccuracy = self._trainModel(cnnModel, dataBunch.trainingDataLoader)\n",
    "            print(\"Epoch #{} Training: Loss {} Accuracy {}\".format(epoch, trainingLoss, trainingAccuracy))\n",
    "            \n",
    "            validationLoss, validationAccuracy = self._validateModel(cnnModel, dataBunch.validationDataLoader)\n",
    "            print(\"Epoch #{} Validation: Loss {} Accuracy {}\".format(epoch, validationLoss, validationAccuracy))\n",
    "            print(\"\")\n",
    "            \n",
    "    def plotLearningRates  (self): plotter.plot(self.learningRates)\n",
    "        \n",
    "    def plotLosses(self): plotter.plot(self.losses)\n",
    "            \n",
    "    def _beginTraining(self):\n",
    "        self._initStorage()\n",
    "            \n",
    "    def _anealLearningRate(self):\n",
    "        for parameterGroup, schedulingFunction in zip(self.optimizer.param_groups,self.schedulingFunctions):\n",
    "            scheduledLearningRate = schedulingFunction(self.epoch/self.numberOfEpochs)\n",
    "            parameterGroup['lr'] = scheduledLearningRate\n",
    "            \n",
    "    def _trainModel(self, cnnModel, trainingDataSet):\n",
    "        def _teachModel(loss):\n",
    "            loss.backward()\n",
    "            self.optimizer.step()\n",
    "            self.optimizer.zero_grad()\n",
    "            \n",
    "            #capture metrics\n",
    "            self.learningRates.append(self.optimizer.param_groups[-1]['lr'])\n",
    "            self.losses.append(loss.detach().cpu())\n",
    "            \n",
    "        returnItems = self._proccessDataSet(cnnModel, trainingDataSet, self._anealLearningRate, _teachModel)\n",
    "        return returnItems\n",
    "        \n",
    "    def _validateModel(self, cnnModel, validationDataSet):\n",
    "        with torch.no_grad():\n",
    "            returnItems = self._proccessDataSet(cnnModel, validationDataSet, self._anealLearningRate)\n",
    "        return returnItems\n",
    "    \n",
    "    def _proccessDataSet(self, \n",
    "                         cnnModel, \n",
    "                         dataLoader, \n",
    "                         preEvaluation=lambda: None,\n",
    "                         postEvaluation=lambda loss: None):\n",
    "        accumulatedLoss, accumulatedAccuracy = 0.,0.\n",
    "        for _xDataSet, _yDataSet in dataLoader:\n",
    "            preEvaluation()\n",
    "            _predictions = cnnModel(_xDataSet)\n",
    "            loss = self.lossFunction(_predictions, _yDataSet)\n",
    "            postEvaluation(loss)\n",
    "            accumulatedLoss+= loss\n",
    "            accumulatedAccuracy += self.accuracyFunction(_predictions, _yDataSet)\n",
    "        numberOfBatches = len(dataLoader)\n",
    "        return accumulatedLoss/numberOfBatches, accumulatedAccuracy/numberOfBatches\n"
   ]
  },
  {
   "cell_type": "code",
   "execution_count": 165,
   "metadata": {},
   "outputs": [
    {
     "data": {
      "text/plain": [
       "CNNModel(\n",
       "  (layers): Sequential(\n",
       "    (0): Linear(in_features=784, out_features=50, bias=True)\n",
       "    (1): ReLU()\n",
       "    (2): Linear(in_features=50, out_features=10, bias=True)\n",
       "  )\n",
       ")"
      ]
     },
     "execution_count": 165,
     "metadata": {},
     "output_type": "execute_result"
    }
   ],
   "source": [
    "cnnModel = CNNModel(numberOfPixels, hiddenLayerSize, numberOfClasses)\n",
    "cnnModel"
   ]
  },
  {
   "cell_type": "code",
   "execution_count": 167,
   "metadata": {},
   "outputs": [],
   "source": [
    "annealedTeacher = TeacherWithAnnealing(schedulingFunctions=[weightsScheduler, biasScheduler])"
   ]
  },
  {
   "cell_type": "code",
   "execution_count": 168,
   "metadata": {},
   "outputs": [
    {
     "data": {
      "text/plain": [
       "tensor(0.1117)"
      ]
     },
     "execution_count": 168,
     "metadata": {},
     "output_type": "execute_result"
    }
   ],
   "source": [
    "accuracy(cnnModel(xValidationNormalized), yValidation)"
   ]
  },
  {
   "cell_type": "code",
   "execution_count": 169,
   "metadata": {},
   "outputs": [
    {
     "name": "stdout",
     "output_type": "stream",
     "text": [
      "Epoch #0 Training: Loss 0.28139644861221313 Accuracy 0.9132233262062073\n",
      "Epoch #0 Validation: Loss 0.15825869143009186 Accuracy 0.9515427350997925\n",
      "\n",
      "Epoch #1 Training: Loss 0.16978707909584045 Accuracy 0.9492087364196777\n",
      "Epoch #1 Validation: Loss 1.0113630294799805 Accuracy 0.817147970199585\n",
      "\n",
      "Epoch #2 Training: Loss 0.21822597086429596 Accuracy 0.9411764740943909\n",
      "Epoch #2 Validation: Loss 0.19879083335399628 Accuracy 0.9552017450332642\n",
      "\n",
      "Epoch #3 Training: Loss 0.18957401812076569 Accuracy 0.9505874514579773\n",
      "Epoch #3 Validation: Loss 0.5188460350036621 Accuracy 0.8927017450332642\n",
      "\n",
      "Epoch #4 Training: Loss 0.14917892217636108 Accuracy 0.9593390226364136\n",
      "Epoch #4 Validation: Loss 0.1439983993768692 Accuracy 0.9644976258277893\n",
      "\n",
      "Epoch #5 Training: Loss 0.11289297044277191 Accuracy 0.9683703780174255\n",
      "Epoch #5 Validation: Loss 0.22703318297863007 Accuracy 0.9527294039726257\n",
      "\n",
      "Epoch #6 Training: Loss 0.07423990219831467 Accuracy 0.9778412580490112\n",
      "Epoch #6 Validation: Loss 0.14581964910030365 Accuracy 0.9690466523170471\n",
      "\n",
      "Epoch #7 Training: Loss 0.04967106133699417 Accuracy 0.9841951727867126\n",
      "Epoch #7 Validation: Loss 0.13028202950954437 Accuracy 0.9698378443717957\n",
      "\n",
      "Epoch #8 Training: Loss 0.03488552197813988 Accuracy 0.9892303347587585\n",
      "Epoch #8 Validation: Loss 0.1206645518541336 Accuracy 0.9741891026496887\n",
      "\n"
     ]
    }
   ],
   "source": [
    "annealedTeacher.teachModel(cnnModel, imageDataBunch, 9)"
   ]
  },
  {
   "cell_type": "code",
   "execution_count": 170,
   "metadata": {},
   "outputs": [
    {
     "data": {
      "text/plain": [
       "tensor(0.9739)"
      ]
     },
     "execution_count": 170,
     "metadata": {},
     "output_type": "execute_result"
    }
   ],
   "source": [
    "accuracy(cnnModel(xValidationNormalized), yValidation)"
   ]
  },
  {
   "cell_type": "code",
   "execution_count": 171,
   "metadata": {},
   "outputs": [
    {
     "data": {
      "image/png": "[encoded data removed]",
      "text/plain": [
       "<Figure size 432x288 with 1 Axes>"
      ]
     },
     "metadata": {
      "needs_background": "light"
     },
     "output_type": "display_data"
    }
   ],
   "source": [
    "annealedTeacher.plotLearningRates()"
   ]
  },
  {
   "cell_type": "code",
   "execution_count": 172,
   "metadata": {},
   "outputs": [
    {
     "data": {
      "image/png": "[encoded data removed]",
      "text/plain": [
       "<Figure size 432x288 with 1 Axes>"
      ]
     },
     "metadata": {
      "needs_background": "light"
     },
     "output_type": "display_data"
    }
   ],
   "source": [
    "annealedTeacher.plotLosses()"
   ]
  },
  {
   "cell_type": "code",
   "execution_count": 156,
   "metadata": {},
   "outputs": [],
   "source": []
  },
  {
   "cell_type": "code",
   "execution_count": null,
   "metadata": {},
   "outputs": [],
   "source": []
  }
 ],
 "metadata": {
  "kernelspec": {
   "display_name": "Python 3",
   "language": "python",
   "name": "python3"
  },
  "language_info": {
   "codemirror_mode": {
    "name": "ipython",
    "version": 3
   },
   "file_extension": ".py",
   "mimetype": "text/x-python",
   "name": "python",
   "nbconvert_exporter": "python",
   "pygments_lexer": "ipython3",
   "version": "3.7.3"
  }
 },
 "nbformat": 4,
 "nbformat_minor": 2
}
