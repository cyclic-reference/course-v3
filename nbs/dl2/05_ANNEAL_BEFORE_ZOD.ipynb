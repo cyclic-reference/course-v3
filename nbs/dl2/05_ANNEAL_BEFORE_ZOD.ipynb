{
 "cells": [
  {
   "cell_type": "code",
   "execution_count": 1,
   "metadata": {},
   "outputs": [],
   "source": [
    "%matplotlib inline"
   ]
  },
  {
   "cell_type": "code",
   "execution_count": 3,
   "metadata": {},
   "outputs": [],
   "source": [
    "#export\n",
    "from exp.nb_04 import *"
   ]
  },
  {
   "cell_type": "code",
   "execution_count": 4,
   "metadata": {},
   "outputs": [
    {
     "data": {
      "text/plain": [
       "exp.nb_04.CNNModel"
      ]
     },
     "execution_count": 4,
     "metadata": {},
     "output_type": "execute_result"
    }
   ],
   "source": []
  },
  {
   "cell_type": "code",
   "execution_count": null,
   "metadata": {},
   "outputs": [],
   "source": [
    "class TeacherWithAnnealing():\n",
    "    \n",
    "    def __init__(self, \n",
    "                 lossFunction=Functional.cross_entropy, \n",
    "                 accuracyFunction=accuracy\n",
    "                ):\n",
    "        self.lossFunction = lossFunction\n",
    "        self.accuracyFunction = accuracyFunction\n",
    "        \n",
    "    def teachModel(self, cnnModel, dataBunch, learningRate, numberOfEpochs):\n",
    "        self.optimizer = optim.SGD(cnnModel.parameters(), learningRate)\n",
    "        for epoch in range(numberOfEpochs):\n",
    "            trainingLoss, trainingAccuracy = self._trainModel(cnnModel, dataBunch.trainingDataLoader)\n",
    "            print(\"Epoch #{} Training: Loss {} Accuracy {}\".format(epoch, trainingLoss, trainingAccuracy))\n",
    "            \n",
    "            validationLoss, validationAccuracy = self._validateModel(cnnModel, dataBunch.validationDataLoader)\n",
    "            print(\"Epoch #{} Validation: Loss {} Accuracy {}\".format(epoch, validationLoss, validationAccuracy))\n",
    "            print(\"\")\n",
    "            \n",
    "    def _trainModel(self, cnnModel, trainingDataSet):\n",
    "        def _teachModel(loss):\n",
    "            loss.backward()\n",
    "            self.optimizer.step()\n",
    "            self.optimizer.zero_grad()\n",
    "            \n",
    "        returnItems = self._proccessDataSet(cnnModel, trainingDataSet, _teachModel)\n",
    "        return returnItems\n",
    "        \n",
    "    def _validateModel(self, cnnModel, validationDataSet):\n",
    "        with torch.no_grad():\n",
    "            returnItems = self._proccessDataSet(cnnModel, validationDataSet)\n",
    "        return returnItems\n",
    "    \n",
    "    def _proccessDataSet(self, \n",
    "                         cnnModel, \n",
    "                         dataLoader, \n",
    "                         postEvaluation=lambda loss: None):\n",
    "        accumulatedLoss, accumulatedAccuracy = 0.,0.\n",
    "        for _xDataSet, _yDataSet in dataLoader:\n",
    "            _predictions = cnnModel(_xDataSet)\n",
    "            loss = self.lossFunction(_predictions, _yDataSet)\n",
    "            postEvaluation(loss)\n",
    "            accumulatedLoss+= loss\n",
    "            accumulatedAccuracy += self.accuracyFunction(_predictions, _yDataSet)\n",
    "        numberOfBatches = len(dataLoader)\n",
    "        return accumulatedLoss/numberOfBatches, accumulatedAccuracy/numberOfBatches\n"
   ]
  }
 ],
 "metadata": {
  "kernelspec": {
   "display_name": "Python 3",
   "language": "python",
   "name": "python3"
  },
  "language_info": {
   "codemirror_mode": {
    "name": "ipython",
    "version": 3
   },
   "file_extension": ".py",
   "mimetype": "text/x-python",
   "name": "python",
   "nbconvert_exporter": "python",
   "pygments_lexer": "ipython3",
   "version": "3.7.3"
  }
 },
 "nbformat": 4,
 "nbformat_minor": 2
}
